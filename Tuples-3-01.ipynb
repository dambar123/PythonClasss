{
 "cells": [
  {
   "cell_type": "markdown",
   "id": "bf4a70fa",
   "metadata": {},
   "source": [
    "# # Tuples\n",
    "# - indexed\n",
    "#  - ordered\n",
    "#     -multiple data\n",
    "#      -imutable"
   ]
  },
  {
   "cell_type": "code",
   "execution_count": 1,
   "id": "beb2ea1e",
   "metadata": {},
   "outputs": [
    {
     "name": "stdout",
     "output_type": "stream",
     "text": [
      "('apple', 'ball', 'cat', 'dog')\n",
      "(1, 2, 3, 4)\n",
      "<class 'tuple'>\n",
      "<class 'tuple'>\n"
     ]
    }
   ],
   "source": [
    "a=(\"apple\", \"ball\",\"cat\",\"dog\")\n",
    "b=(1,2,3,4)\n",
    "print(a)\n",
    "print(b)\n",
    "print(type(a))\n",
    "print(type(b))"
   ]
  },
  {
   "cell_type": "code",
   "execution_count": 2,
   "id": "b08ff205",
   "metadata": {},
   "outputs": [
    {
     "name": "stdout",
     "output_type": "stream",
     "text": [
      "dog\n"
     ]
    }
   ],
   "source": [
    "a=(\"apple\", \"ball\",\"cat\",\"dog\")\n",
    "print(a[3])"
   ]
  },
  {
   "cell_type": "code",
   "execution_count": 3,
   "id": "e6891efb",
   "metadata": {},
   "outputs": [
    {
     "name": "stdout",
     "output_type": "stream",
     "text": [
      "('apple', 'ball', 'cat', 'dog', 1, 2, 3, 4)\n"
     ]
    }
   ],
   "source": [
    "a=(\"apple\", \"ball\",\"cat\",\"dog\")\n",
    "b=(1,2,3,4)\n",
    "c=a+b\n",
    "print(c)"
   ]
  },
  {
   "cell_type": "code",
   "execution_count": 5,
   "id": "9e4d01e0",
   "metadata": {},
   "outputs": [
    {
     "name": "stdout",
     "output_type": "stream",
     "text": [
      "5\n",
      "1\n",
      "30\n",
      "[1, 2, 3, 3, 3, 4, 4, 5, 5]\n"
     ]
    }
   ],
   "source": [
    "a=[1,2,3,4,5,3,4,5,3]\n",
    "print(max(a))\n",
    "print(min(a))\n",
    "print(sum(a))\n",
    "a.sort()\n",
    "print(a)"
   ]
  },
  {
   "cell_type": "markdown",
   "id": "4c6aaafd",
   "metadata": {},
   "source": [
    "# #-tuples\n",
    "#no append\n",
    "# -no insert()\n",
    "# -no extend()\n",
    "# -no update\n",
    "# -no del,pop() , remove()"
   ]
  },
  {
   "cell_type": "code",
   "execution_count": 3,
   "id": "d341338b",
   "metadata": {},
   "outputs": [
    {
     "name": "stdout",
     "output_type": "stream",
     "text": [
      "(1, 2, 3, 4)\n"
     ]
    }
   ],
   "source": [
    "a=(1,)\n",
    "b=a+(2,)\n",
    "c=b+(3,)\n",
    "d=c+(4,)\n",
    "print(d)"
   ]
  },
  {
   "cell_type": "code",
   "execution_count": 6,
   "id": "924f3376",
   "metadata": {},
   "outputs": [
    {
     "name": "stdout",
     "output_type": "stream",
     "text": [
      "[5, 5, 4, 4, 3, 3, 3, 2, 1]\n"
     ]
    }
   ],
   "source": [
    "a=[1,2,3,4,5,3,4,5,3]\n",
    "a.sort()\n",
    "a.reverse()\n",
    "print(a)"
   ]
  },
  {
   "cell_type": "code",
   "execution_count": 6,
   "id": "b5521acf",
   "metadata": {},
   "outputs": [
    {
     "name": "stdout",
     "output_type": "stream",
     "text": [
      "enter n=2\n",
      "enter x=ddd\n",
      "enter x=fff\n",
      "('ddd', 'fff')\n"
     ]
    }
   ],
   "source": [
    "t=tuple()\n",
    "n= int(input(\"enter n=\"))\n",
    "for i in range(n):\n",
    "    x=input(\"enter x=\")\n",
    "    t=t+(x,)\n",
    "print(t)"
   ]
  },
  {
   "cell_type": "code",
   "execution_count": 8,
   "id": "f74d487e",
   "metadata": {},
   "outputs": [
    {
     "name": "stdout",
     "output_type": "stream",
     "text": [
      "['apple', 'bbbb', 'cccc', 'dddd', 'iiiii', 'ssss']\n"
     ]
    }
   ],
   "source": [
    "a=[\"apple\", \"dddd\", \"ssss\", \"cccc\", \"bbbb\", \"iiiii\"]\n",
    "a.sort()\n",
    "print(a)"
   ]
  },
  {
   "cell_type": "code",
   "execution_count": 9,
   "id": "ee6c2220",
   "metadata": {},
   "outputs": [
    {
     "name": "stdout",
     "output_type": "stream",
     "text": [
      "['apple', 'ball', 'cat', 'dog']\n",
      "('ball', 'cat', 'dog')\n"
     ]
    }
   ],
   "source": [
    "a=(\"apple\", \"ball\",\"cat\",\"dog\")\n",
    "b=list(a)\n",
    "print(b)\n",
    "del b[0]\n",
    "a=tuple(b)\n",
    "print(a)"
   ]
  },
  {
   "cell_type": "code",
   "execution_count": 10,
   "id": "92054e3e",
   "metadata": {},
   "outputs": [
    {
     "name": "stdout",
     "output_type": "stream",
     "text": [
      "['h', 'e', 'l', 'l', 'o', ' ', 'w', 'o', 'r', 'l', 'd']\n"
     ]
    }
   ],
   "source": [
    "a=\"hello world\"\n",
    "print(list(a))"
   ]
  },
  {
   "cell_type": "code",
   "execution_count": 11,
   "id": "7388e663",
   "metadata": {},
   "outputs": [
    {
     "name": "stdout",
     "output_type": "stream",
     "text": [
      "('h', 'e', 'l', 'l', 'o', ' ', 'w', 'o', 'r', 'l', 'd')\n"
     ]
    }
   ],
   "source": [
    "a=\"hello world\"\n",
    "print(tuple(a))"
   ]
  },
  {
   "cell_type": "code",
   "execution_count": 12,
   "id": "c10db845",
   "metadata": {},
   "outputs": [
    {
     "name": "stdout",
     "output_type": "stream",
     "text": [
      "(('ram', 45, 'kathmandu'), ('shyam', 56, 'butwal'), ('hari', 49, 'surkhet'))\n"
     ]
    }
   ],
   "source": [
    "# Tuples inside tuple\n",
    "a=(('ram',45,'kathmandu'),\n",
    "  ('shyam',56,'butwal'),\n",
    "  ('hari',49,'surkhet'))\n",
    "print(a)"
   ]
  },
  {
   "cell_type": "markdown",
   "id": "25bb7733",
   "metadata": {},
   "source": [
    "# creating a tuples inside tuple"
   ]
  },
  {
   "cell_type": "code",
   "execution_count": 13,
   "id": "4c72fba0",
   "metadata": {},
   "outputs": [
    {
     "name": "stdout",
     "output_type": "stream",
     "text": [
      "enter the value of n=2\n",
      "enter name=shyam\n",
      "enter age34\n",
      "enter address=dailekh\n",
      "enter name=ram\n",
      "enter age33\n",
      "enter address=surkhet\n",
      "((('shyam', 34, 'dailekh'),), (('ram', 33, 'surkhet'),))\n"
     ]
    }
   ],
   "source": [
    "#creating a tuples inside tuple\n",
    "data=()\n",
    "n=int(input(\"enter the value of n=\"))\n",
    "for i in range(n):\n",
    "    name=input(\"enter name=\")\n",
    "    age=int(input(\"enter age\"))\n",
    "    add=input(\"enter address=\")\n",
    "    info=((name,age,add),)\n",
    "    data=data+(info,)\n",
    "print(data)"
   ]
  },
  {
   "cell_type": "code",
   "execution_count": 16,
   "id": "4ee2cf20",
   "metadata": {},
   "outputs": [
    {
     "name": "stdout",
     "output_type": "stream",
     "text": [
      "[('dddd', 45, 'wwwww'), ('fff', 65, 'ggggg'), ('rrrr', 77, 'ppppp')]\n"
     ]
    }
   ],
   "source": [
    "# tuple inside list\n",
    "a=(('dddd', 45, 'wwwww'),('fff', 65,'ggggg'),('rrrr', 77, 'ppppp'))\n",
    "b=list(a)\n",
    "print(b)"
   ]
  },
  {
   "cell_type": "code",
   "execution_count": 18,
   "id": "37c05345",
   "metadata": {},
   "outputs": [
    {
     "name": "stdout",
     "output_type": "stream",
     "text": [
      "[('dddd', 45, 'wwwww'), ('fff', 65, 'ggggg'), ('rrrr', 77, 'ppppp'), ('ram', 8777, 'surkhet')]\n"
     ]
    }
   ],
   "source": [
    "b.append(('ram', 8777, 'surkhet'))\n",
    "print(b)"
   ]
  },
  {
   "cell_type": "code",
   "execution_count": 24,
   "id": "dc2a63d8",
   "metadata": {},
   "outputs": [
    {
     "name": "stdout",
     "output_type": "stream",
     "text": [
      "[['dddd', 45, 'wwwww'], ['fff', 65, 'ggggg'], ['rrrr', 77, 'ppppp']]\n"
     ]
    }
   ],
   "source": [
    "# convert tuple inside tuple into list inside list\n",
    "b=[]\n",
    "a=(('dddd', 45, 'wwwww'),('fff', 65,'ggggg'),('rrrr', 77, 'ppppp'))\n",
    "for i in a:\n",
    "    x=list(i)\n",
    "    b.append(x)\n",
    "print(b)"
   ]
  },
  {
   "cell_type": "code",
   "execution_count": 25,
   "id": "a146f5e4",
   "metadata": {},
   "outputs": [
    {
     "name": "stdout",
     "output_type": "stream",
     "text": [
      "[['dddd', 45, 'wwwww'], ['fff', 65, 'ggggg'], ['rrrr', 77, 'ppppp'], ('ram', 8777, 'surkhet')]\n"
     ]
    },
    {
     "data": {
      "text/plain": [
       "[['fff', 65, 'ggggg'], ['rrrr', 77, 'ppppp'], ('ram', 8777, 'surkhet')]"
      ]
     },
     "execution_count": 25,
     "metadata": {},
     "output_type": "execute_result"
    }
   ],
   "source": []
  },
  {
   "cell_type": "code",
   "execution_count": 27,
   "id": "2b3870d3",
   "metadata": {},
   "outputs": [
    {
     "name": "stdout",
     "output_type": "stream",
     "text": [
      "[('fff', 65, 'ggggg'), ('rrrr', 77, 'ppppp'), ('ram', 8777, 'surkhet')]\n"
     ]
    }
   ],
   "source": [
    "b=[('dddd', 45, 'wwwww'), ('fff', 65, 'ggggg'), ('rrrr', 77, 'ppppp'), ('ram', 8777, 'surkhet')]\n",
    "del b[0]\n",
    "print(b)"
   ]
  },
  {
   "cell_type": "code",
   "execution_count": 29,
   "id": "abe1afed",
   "metadata": {},
   "outputs": [
    {
     "name": "stdout",
     "output_type": "stream",
     "text": [
      "[[('aaaa', 777, 'kkkk')], ('rrrr', 77, 'ppppp'), ('ram', 8777, 'surkhet')]\n"
     ]
    }
   ],
   "source": [
    "b=[('dddd', 45, 'wwwww'), ('fff', 65, 'ggggg'), ('rrrr', 77, 'ppppp'), ('ram', 8777, 'surkhet')]\n",
    "del b[0]\n",
    "b[0]=[('aaaa', 777, 'kkkk')]\n",
    "print(b)"
   ]
  },
  {
   "cell_type": "code",
   "execution_count": null,
   "id": "f6ed50c1",
   "metadata": {},
   "outputs": [],
   "source": []
  }
 ],
 "metadata": {
  "kernelspec": {
   "display_name": "Python 3 (ipykernel)",
   "language": "python",
   "name": "python3"
  },
  "language_info": {
   "codemirror_mode": {
    "name": "ipython",
    "version": 3
   },
   "file_extension": ".py",
   "mimetype": "text/x-python",
   "name": "python",
   "nbconvert_exporter": "python",
   "pygments_lexer": "ipython3",
   "version": "3.9.7"
  }
 },
 "nbformat": 4,
 "nbformat_minor": 5
}
