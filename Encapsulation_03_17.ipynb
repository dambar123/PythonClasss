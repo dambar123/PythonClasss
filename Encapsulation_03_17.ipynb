{
 "cells": [
  {
   "cell_type": "code",
   "execution_count": null,
   "id": "3b67da09",
   "metadata": {},
   "outputs": [],
   "source": [
    "# private key \n",
    "# public key\n",
    "# proteccted key"
   ]
  },
  {
   "cell_type": "markdown",
   "id": "84be8181",
   "metadata": {},
   "source": [
    "# Public key"
   ]
  },
  {
   "cell_type": "code",
   "execution_count": 4,
   "id": "430b0c45",
   "metadata": {},
   "outputs": [
    {
     "name": "stdout",
     "output_type": "stream",
     "text": [
      "dambar\n",
      "45\n",
      "dailekh\n"
     ]
    }
   ],
   "source": [
    "class Information:\n",
    "    def __init__(self,name,age,add):\n",
    "        self.name=name\n",
    "        self.age=age\n",
    "        self.add=add\n",
    "obj=Information(\"dambar\",45,\"dailekh\")\n",
    "print(obj.name)\n",
    "print(obj.age)\n",
    "print(obj.add)"
   ]
  },
  {
   "cell_type": "markdown",
   "id": "882a00da",
   "metadata": {},
   "source": [
    "# protected key"
   ]
  },
  {
   "cell_type": "code",
   "execution_count": 5,
   "id": "e0ede37d",
   "metadata": {},
   "outputs": [
    {
     "name": "stdout",
     "output_type": "stream",
     "text": [
      "dambar\n",
      "45\n",
      "dailekh\n"
     ]
    }
   ],
   "source": [
    "class Information:\n",
    "    def __init__(self,name,age,add):\n",
    "        self._name=name\n",
    "        self._age=age\n",
    "        self._add=add\n",
    "obj=Information(\"dambar\",45,\"dailekh\")\n",
    "print(obj._name)\n",
    "print(obj._age)\n",
    "print(obj._add)"
   ]
  },
  {
   "cell_type": "markdown",
   "id": "cc6e0cc1",
   "metadata": {},
   "source": [
    "# private key"
   ]
  },
  {
   "cell_type": "code",
   "execution_count": 6,
   "id": "2cc5ea0f",
   "metadata": {},
   "outputs": [
    {
     "ename": "AttributeError",
     "evalue": "'Information' object has no attribute '__name'",
     "output_type": "error",
     "traceback": [
      "\u001b[1;31m---------------------------------------------------------------------------\u001b[0m",
      "\u001b[1;31mAttributeError\u001b[0m                            Traceback (most recent call last)",
      "\u001b[1;32mC:\\Users\\MERIDI~1\\AppData\\Local\\Temp/ipykernel_18128/3534717696.py\u001b[0m in \u001b[0;36m<module>\u001b[1;34m\u001b[0m\n\u001b[0;32m      5\u001b[0m         \u001b[0mself\u001b[0m\u001b[1;33m.\u001b[0m\u001b[0m__add\u001b[0m\u001b[1;33m=\u001b[0m\u001b[0madd\u001b[0m\u001b[1;33m\u001b[0m\u001b[1;33m\u001b[0m\u001b[0m\n\u001b[0;32m      6\u001b[0m \u001b[0mobj\u001b[0m\u001b[1;33m=\u001b[0m\u001b[0mInformation\u001b[0m\u001b[1;33m(\u001b[0m\u001b[1;34m\"dambar\"\u001b[0m\u001b[1;33m,\u001b[0m\u001b[1;36m45\u001b[0m\u001b[1;33m,\u001b[0m\u001b[1;34m\"dailekh\"\u001b[0m\u001b[1;33m)\u001b[0m\u001b[1;33m\u001b[0m\u001b[1;33m\u001b[0m\u001b[0m\n\u001b[1;32m----> 7\u001b[1;33m \u001b[0mprint\u001b[0m\u001b[1;33m(\u001b[0m\u001b[0mobj\u001b[0m\u001b[1;33m.\u001b[0m\u001b[0m__name\u001b[0m\u001b[1;33m)\u001b[0m\u001b[1;33m\u001b[0m\u001b[1;33m\u001b[0m\u001b[0m\n\u001b[0m\u001b[0;32m      8\u001b[0m \u001b[0mprint\u001b[0m\u001b[1;33m(\u001b[0m\u001b[0mobj\u001b[0m\u001b[1;33m.\u001b[0m\u001b[0m__age\u001b[0m\u001b[1;33m)\u001b[0m\u001b[1;33m\u001b[0m\u001b[1;33m\u001b[0m\u001b[0m\n\u001b[0;32m      9\u001b[0m \u001b[0mprint\u001b[0m\u001b[1;33m(\u001b[0m\u001b[0mobj\u001b[0m\u001b[1;33m.\u001b[0m\u001b[0m__add\u001b[0m\u001b[1;33m)\u001b[0m\u001b[1;33m\u001b[0m\u001b[1;33m\u001b[0m\u001b[0m\n",
      "\u001b[1;31mAttributeError\u001b[0m: 'Information' object has no attribute '__name'"
     ]
    }
   ],
   "source": [
    "class Information:\n",
    "    def __init__(self,name,age,add):\n",
    "        self.__name=name\n",
    "        self.__age=age\n",
    "        self.__add=add\n",
    "obj=Information(\"dambar\",45,\"dailekh\")\n",
    "print(obj.__name)\n",
    "print(obj.__age)\n",
    "print(obj.__add)"
   ]
  },
  {
   "cell_type": "code",
   "execution_count": 9,
   "id": "81b34e15",
   "metadata": {},
   "outputs": [
    {
     "name": "stdout",
     "output_type": "stream",
     "text": [
      "enter name=dambar\n",
      "enter age=45\n",
      "enter add=dailekh\n",
      "Hello world i am dambar.I am 45.\n"
     ]
    }
   ],
   "source": [
    "class A:\n",
    "    def __init__(self,add,age):\n",
    "        self.__add=add          #private key\n",
    "        self._age=age              #public key\n",
    "        \n",
    "class B(A):\n",
    "    def __init__(self,name,age,add):\n",
    "        self.name=name\n",
    "        A.__init__(self,add,age)\n",
    "    \n",
    "    def info(self):\n",
    "        d=f\"Hello world i am {self.name}.I am {self._age}.\"\n",
    "        print(d)\n",
    "name=input(\"enter name=\")\n",
    "age=int(input(\"enter age=\"))\n",
    "add=input(\"enter add=\")\n",
    "        \n",
    "obj=B(name,age,add)\n",
    "obj.info()"
   ]
  },
  {
   "cell_type": "code",
   "execution_count": 13,
   "id": "9ccfa0e2",
   "metadata": {},
   "outputs": [
    {
     "name": "stdout",
     "output_type": "stream",
     "text": [
      "enter name=dambar\n",
      "enter age=34\n",
      "enter add=dailekh\n",
      "Hello world i am dambar.I am 34.\n",
      "hello world  i am from dailekh\n"
     ]
    }
   ],
   "source": [
    "class A:\n",
    "    def __init__(self,add,age):\n",
    "        self.__add=add          #private key\n",
    "        self._age=age        #public key\n",
    "    def a(self):\n",
    "        print(f\"hello world  i am from {self.__add}\")\n",
    "class B(A):\n",
    "    def __init__(self,name,age,add):\n",
    "        self.name=name\n",
    "        A.__init__(self,add,age)\n",
    "    \n",
    "    def info(self):\n",
    "        d=f\"Hello world i am {self.name}.I am {self._age}.\"\n",
    "        print(d)\n",
    "name=input(\"enter name=\")\n",
    "age=int(input(\"enter age=\"))\n",
    "add=input(\"enter add=\")\n",
    "        \n",
    "obj=B(name,age,add)\n",
    "obj.info()\n",
    "obj.a()"
   ]
  },
  {
   "cell_type": "code",
   "execution_count": 19,
   "id": "1405fe63",
   "metadata": {},
   "outputs": [
    {
     "name": "stdout",
     "output_type": "stream",
     "text": [
      "enter name=dambar\n",
      "enter age=45\n",
      "enter add=dailekh\n",
      "hello world i am dambar. i am 45 years.\n",
      "hello world i am from dailekh.\n"
     ]
    }
   ],
   "source": [
    "class A:\n",
    "    def __init__(self,add):\n",
    "        self.__add=add\n",
    "        \n",
    "    def address(self):\n",
    "        return f\"hello world i am from {self.__add}.\"\n",
    "class B:\n",
    "    def __init__(self,age):\n",
    "        self._age=age\n",
    "class C(A,B):\n",
    "    def __init__(self,name,age,add):\n",
    "        self.name=name\n",
    "        B.__init__(self,age)\n",
    "        A.__init__(self,add)\n",
    "    def info(self):\n",
    "        d=f\"hello world i am {self.name}. i am {self._age} years.\"\n",
    "        print(d)\n",
    "name=input(\"enter name=\")\n",
    "age=int(input(\"enter age=\"))\n",
    "add=input(\"enter add=\")\n",
    "obj=C(name,age,add)\n",
    "obj.info()\n",
    "print(obj.address())"
   ]
  },
  {
   "cell_type": "code",
   "execution_count": null,
   "id": "1fd5ede3",
   "metadata": {},
   "outputs": [],
   "source": [
    "# super function"
   ]
  },
  {
   "cell_type": "code",
   "execution_count": 1,
   "id": "ea819456",
   "metadata": {},
   "outputs": [
    {
     "name": "stdout",
     "output_type": "stream",
     "text": [
      "enter name=dambar\n",
      "enter age=34\n",
      "enter add=dailekh\n",
      "Hello world i am dambar. i am from dailekh. i am 34 years.\n"
     ]
    }
   ],
   "source": [
    "class A:\n",
    "    def __init__(self):\n",
    "        self.name=input(\"enter name=\")\n",
    "        self.age=int(input(\"enter age=\"))\n",
    "        self.add=input(\"enter add=\")\n",
    "    def info(self):\n",
    "        print(f\"Hello world i am {self.name}. i am from {self.add}. i am {self.age} years.\")\n",
    "class B(A):\n",
    "    def view_data(self):\n",
    "        super().info()\n",
    "obj=B()\n",
    "obj.view_data()"
   ]
  },
  {
   "cell_type": "code",
   "execution_count": null,
   "id": "358c563b",
   "metadata": {},
   "outputs": [],
   "source": []
  }
 ],
 "metadata": {
  "kernelspec": {
   "display_name": "Python 3 (ipykernel)",
   "language": "python",
   "name": "python3"
  },
  "language_info": {
   "codemirror_mode": {
    "name": "ipython",
    "version": 3
   },
   "file_extension": ".py",
   "mimetype": "text/x-python",
   "name": "python",
   "nbconvert_exporter": "python",
   "pygments_lexer": "ipython3",
   "version": "3.9.7"
  }
 },
 "nbformat": 4,
 "nbformat_minor": 5
}
