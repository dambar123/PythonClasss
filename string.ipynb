{
 "cells": [
  {
   "cell_type": "code",
   "execution_count": null,
   "id": "ef5ef0ff",
   "metadata": {},
   "outputs": [],
   "source": [
    "#string\n",
    "  # -datatype\n",
    "    # - sequence of character\n",
    "    #- immutable\n",
    "    "
   ]
  },
  {
   "cell_type": "code",
   "execution_count": 1,
   "id": "24595362",
   "metadata": {},
   "outputs": [
    {
     "name": "stdout",
     "output_type": "stream",
     "text": [
      "hello world\n",
      "<class 'str'>\n"
     ]
    }
   ],
   "source": [
    "a=\"hello world\"\n",
    "print(a)\n",
    "print(type(a))"
   ]
  },
  {
   "cell_type": "code",
   "execution_count": 2,
   "id": "7ea42f79",
   "metadata": {},
   "outputs": [
    {
     "name": "stdout",
     "output_type": "stream",
     "text": [
      "helloworld\n"
     ]
    }
   ],
   "source": [
    "a=\"hello\"\n",
    "b=\"world\"\n",
    "c=a+b\n",
    "print(c)"
   ]
  },
  {
   "cell_type": "code",
   "execution_count": 3,
   "id": "fac95feb",
   "metadata": {},
   "outputs": [
    {
     "name": "stdout",
     "output_type": "stream",
     "text": [
      "hello world\n",
      "hello world\n",
      "hello world\n",
      "hello world\n",
      "hello world\n",
      "hello world\n",
      "\n"
     ]
    }
   ],
   "source": [
    "a=\"hello world\\n\"\n",
    "print(a*6)"
   ]
  },
  {
   "cell_type": "code",
   "execution_count": 5,
   "id": "7da2994c",
   "metadata": {},
   "outputs": [
    {
     "name": "stdout",
     "output_type": "stream",
     "text": [
      "enter a=1234\n",
      "<class 'str'>\n"
     ]
    }
   ],
   "source": [
    "a=input(\"enter a=\")\n",
    "print(type(a))"
   ]
  },
  {
   "cell_type": "code",
   "execution_count": 6,
   "id": "545941d4",
   "metadata": {},
   "outputs": [
    {
     "name": "stdout",
     "output_type": "stream",
     "text": [
      "h\n"
     ]
    }
   ],
   "source": [
    "# string indexing\n",
    "a= \"hello world\"\n",
    "print(a[0])"
   ]
  },
  {
   "cell_type": "code",
   "execution_count": 8,
   "id": "bb4cf34d",
   "metadata": {},
   "outputs": [
    {
     "name": "stdout",
     "output_type": "stream",
     "text": [
      "hello \n"
     ]
    }
   ],
   "source": [
    "# string slicing\n",
    "a= \"hello world\"\n",
    "print(a[0:5])"
   ]
  },
  {
   "cell_type": "code",
   "execution_count": 9,
   "id": "2cbce21c",
   "metadata": {},
   "outputs": [
    {
     "name": "stdout",
     "output_type": "stream",
     "text": [
      " world\n"
     ]
    }
   ],
   "source": [
    "a= \"hello world\"\n",
    "print(a[5:])"
   ]
  },
  {
   "cell_type": "code",
   "execution_count": 10,
   "id": "9a1ebb68",
   "metadata": {},
   "outputs": [
    {
     "name": "stdout",
     "output_type": "stream",
     "text": [
      "hello world\n"
     ]
    }
   ],
   "source": [
    "a= \"hello world\"\n",
    "print(a[0:])"
   ]
  },
  {
   "cell_type": "code",
   "execution_count": 14,
   "id": "b1111b6a",
   "metadata": {},
   "outputs": [
    {
     "name": "stdout",
     "output_type": "stream",
     "text": [
      "hlwl\n"
     ]
    }
   ],
   "source": [
    "a= \"hello world\"\n",
    "print(a[0:10:3])"
   ]
  },
  {
   "cell_type": "code",
   "execution_count": 15,
   "id": "b56d5ad1",
   "metadata": {},
   "outputs": [
    {
     "name": "stdout",
     "output_type": "stream",
     "text": [
      "hlwl\n"
     ]
    }
   ],
   "source": [
    "a= \"hello world\"\n",
    "print(a[::3])"
   ]
  },
  {
   "cell_type": "code",
   "execution_count": 16,
   "id": "96f13673",
   "metadata": {},
   "outputs": [
    {
     "name": "stdout",
     "output_type": "stream",
     "text": [
      "dlrow olleh\n"
     ]
    }
   ],
   "source": [
    "a= \"hello world\"\n",
    "print(a[::-1])"
   ]
  },
  {
   "cell_type": "code",
   "execution_count": 17,
   "id": "51e7615a",
   "metadata": {},
   "outputs": [
    {
     "name": "stdout",
     "output_type": "stream",
     "text": [
      "hello\n",
      " world\n"
     ]
    }
   ],
   "source": [
    "a= \"hello world\"\n",
    "x=a[:5]\n",
    "y=a[5:]\n",
    "print(x)\n",
    "print(y)"
   ]
  },
  {
   "cell_type": "code",
   "execution_count": 4,
   "id": "eab2afc7",
   "metadata": {},
   "outputs": [
    {
     "data": {
      "text/plain": [
       "' hello world i am ram. i am 34'"
      ]
     },
     "execution_count": 4,
     "metadata": {},
     "output_type": "execute_result"
    }
   ],
   "source": [
    "# string formatting\n",
    "name=\"ram\"\n",
    "age=34\n",
    "#info=\" hello world i am\"+name+  \" i am \"+ str(age)\n",
    "info= f\" hello world i am {name}. i am {age}\"\n",
    "info"
   ]
  },
  {
   "cell_type": "code",
   "execution_count": 5,
   "id": "add9fd6c",
   "metadata": {},
   "outputs": [
    {
     "name": "stdout",
     "output_type": "stream",
     "text": [
      "enter n=2\n",
      "enter name=momo\n",
      "enter price=200\n",
      "enter quantity=2\n",
      "enter name=coke\n",
      "enter price=100\n",
      "enter quantity=2\n",
      "momo 200 2  400 \n",
      "coke 100 2  200 \n",
      "\n",
      "grand total= 600\n"
     ]
    }
   ],
   "source": [
    "# write a  program to create a billing system \n",
    "s=\"\"\n",
    "grand_total=0\n",
    "n= int(input(\"enter n=\"))\n",
    "for i in range(n):\n",
    "    name=input(\"enter name=\")\n",
    "    price=int(input(\"enter price=\"))\n",
    "    quantity=int(input(\"enter quantity=\"))\n",
    "    total= price*quantity\n",
    "    info= f\"{name} {price} {quantity}  {total} \\n\"\n",
    "    s=s+info\n",
    "    grand_total= grand_total+ total\n",
    "print(s)\n",
    "print(\"grand total=\", grand_total)"
   ]
  },
  {
   "cell_type": "code",
   "execution_count": 1,
   "id": "534b157e",
   "metadata": {},
   "outputs": [
    {
     "name": "stdout",
     "output_type": "stream",
     "text": [
      "yes\n"
     ]
    }
   ],
   "source": [
    "name=\"gita sita pramod hari pasupati tank prakash usha  Ram\"\n",
    "if \"Ram\" in name:\n",
    "    print(\"yes\")\n",
    "else:\n",
    "    print(\"no\")"
   ]
  },
  {
   "cell_type": "code",
   "execution_count": 2,
   "id": "befbd3bc",
   "metadata": {},
   "outputs": [
    {
     "name": "stdout",
     "output_type": "stream",
     "text": [
      "enter name=Ram\n",
      "yes\n",
      "1\n"
     ]
    }
   ],
   "source": [
    "name=\"gita sita pramod hari pasupati tank prakash usha  Ram\"\n",
    "search=input(\"enter name=\")\n",
    "if search in name:\n",
    "    print(\"yes\")\n",
    "    c=name.count(search)\n",
    "    print(c)\n",
    "else:\n",
    "    print(\"no\")"
   ]
  },
  {
   "cell_type": "code",
   "execution_count": 3,
   "id": "0dfc78ed",
   "metadata": {},
   "outputs": [
    {
     "name": "stdout",
     "output_type": "stream",
     "text": [
      "HELLO WORLD\n",
      "hello world\n"
     ]
    }
   ],
   "source": [
    "#case sensitivity{#upper\n",
    "#lower}\n",
    "a=\"hello world\"\n",
    "print(a.upper())\n",
    "print(a.lower())"
   ]
  },
  {
   "cell_type": "code",
   "execution_count": 4,
   "id": "73d30d72",
   "metadata": {},
   "outputs": [
    {
     "name": "stdout",
     "output_type": "stream",
     "text": [
      "hello world i am python\n"
     ]
    },
    {
     "data": {
      "text/plain": [
       "'python'"
      ]
     },
     "execution_count": 4,
     "metadata": {},
     "output_type": "execute_result"
    }
   ],
   "source": [
    "a=\"hello world i am python\".lower()\n",
    "print(a)\n",
    "search=\"python\".lower()\n",
    "search"
   ]
  },
  {
   "cell_type": "code",
   "execution_count": 10,
   "id": "a4d7b326",
   "metadata": {},
   "outputs": [
    {
     "name": "stdout",
     "output_type": "stream",
     "text": [
      "enter name=ram\n",
      "yes\n",
      "1\n"
     ]
    }
   ],
   "source": [
    "name=\"gita sita pramod hari pasupati tank prakash usha ram\".lower()\n",
    "search=input(\"enter name=\").lower()\n",
    "if search in name:\n",
    "    print(\"yes\")\n",
    "    c=ABC.count(search)\n",
    "    print(c)\n",
    "else:\n",
    "    print(\"no\")"
   ]
  },
  {
   "cell_type": "code",
   "execution_count": 14,
   "id": "da9c2404",
   "metadata": {},
   "outputs": [
    {
     "data": {
      "text/plain": [
       "'gita sita pRamod hari pasupati tank prakash usha Ram'"
      ]
     },
     "execution_count": 14,
     "metadata": {},
     "output_type": "execute_result"
    }
   ],
   "source": [
    "#replaced\n",
    "name=\"gita sita pramod hari pasupati tank prakash usha ram\"\n",
    "name.replace('ram','Ram')"
   ]
  },
  {
   "cell_type": "code",
   "execution_count": 12,
   "id": "7b6c8d78",
   "metadata": {},
   "outputs": [
    {
     "data": {
      "text/plain": [
       "'gita sita pod hari pasupati tank prakash usha '"
      ]
     },
     "execution_count": 12,
     "metadata": {},
     "output_type": "execute_result"
    }
   ],
   "source": [
    "# remove/delete \n",
    "name=\"gita sita pramod hari pasupati tank prakash usha ram\"\n",
    "name.replace('ram','')"
   ]
  },
  {
   "cell_type": "code",
   "execution_count": 19,
   "id": "7f122f75",
   "metadata": {},
   "outputs": [
    {
     "name": "stdout",
     "output_type": "stream",
     "text": [
      "hello world\n",
      "hello worl\n",
      "hello wor\n",
      "hello wo\n",
      "hello w\n",
      "hello \n",
      "hello\n",
      "hell\n",
      "hel\n",
      "he\n",
      "h\n",
      "\n"
     ]
    }
   ],
   "source": [
    "a=\"hello world\"\n",
    "for i in range(len(a),-1,-1):\n",
    "     print(a[0:i])"
   ]
  },
  {
   "cell_type": "code",
   "execution_count": 18,
   "id": "077ea577",
   "metadata": {},
   "outputs": [
    {
     "name": "stdout",
     "output_type": "stream",
     "text": [
      "\n",
      "h\n",
      "he\n",
      "hel\n",
      "hell\n",
      "hello\n",
      "hello \n",
      "hello w\n",
      "hello wo\n",
      "hello wor\n",
      "hello worl\n",
      "hello world\n"
     ]
    }
   ],
   "source": [
    "a=\"hello world\"\n",
    "for i in range (0,len(a)+1):\n",
    "    print(a[0:i])"
   ]
  },
  {
   "cell_type": "code",
   "execution_count": null,
   "id": "cdc60a73",
   "metadata": {},
   "outputs": [],
   "source": []
  }
 ],
 "metadata": {
  "kernelspec": {
   "display_name": "Python 3 (ipykernel)",
   "language": "python",
   "name": "python3"
  },
  "language_info": {
   "codemirror_mode": {
    "name": "ipython",
    "version": 3
   },
   "file_extension": ".py",
   "mimetype": "text/x-python",
   "name": "python",
   "nbconvert_exporter": "python",
   "pygments_lexer": "ipython3",
   "version": "3.9.7"
  }
 },
 "nbformat": 4,
 "nbformat_minor": 5
}
