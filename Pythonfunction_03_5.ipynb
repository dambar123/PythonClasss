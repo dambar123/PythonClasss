{
 "cells": [
  {
   "cell_type": "markdown",
   "id": "d4f0a0b9",
   "metadata": {},
   "source": [
    "# function"
   ]
  },
  {
   "cell_type": "code",
   "execution_count": null,
   "id": "c9b89287",
   "metadata": {},
   "outputs": [],
   "source": [
    "# - pre-defined function\n",
    "#  -print()\n",
    "#     -input()\n",
    "#     type()\n",
    "#     -str()\n",
    "#     list()\n",
    "#     -tuple()\n",
    "#     -dict()"
   ]
  },
  {
   "cell_type": "code",
   "execution_count": null,
   "id": "8e278566",
   "metadata": {},
   "outputs": [],
   "source": [
    "# def <function_name>():  # defining function\n",
    "#     <operation>\n",
    "    \n",
    "#     <function call>:   # calling function\n",
    "    "
   ]
  },
  {
   "cell_type": "markdown",
   "id": "a96b00b7",
   "metadata": {},
   "source": [
    "# function with no arguments with no return type"
   ]
  },
  {
   "cell_type": "code",
   "execution_count": 1,
   "id": "f592015d",
   "metadata": {},
   "outputs": [
    {
     "name": "stdout",
     "output_type": "stream",
     "text": [
      "hello world\n",
      "hello world\n"
     ]
    }
   ],
   "source": [
    "def hello():\n",
    "    print(\"hello world\")\n",
    "hello()\n",
    "hello()\n"
   ]
  },
  {
   "cell_type": "code",
   "execution_count": 1,
   "id": "8ba41c7e",
   "metadata": {},
   "outputs": [
    {
     "name": "stdout",
     "output_type": "stream",
     "text": [
      "enter l=23\n",
      "enter b=2\n",
      "46\n"
     ]
    }
   ],
   "source": [
    "def area():\n",
    "    l=int(input(\"enter l=\"))     #local variable\n",
    "    b=int(input(\"enter b=\"))     #local variable\n",
    "    a=l*b                        #local variable\n",
    "    print(a)\n",
    "area()"
   ]
  },
  {
   "cell_type": "code",
   "execution_count": 2,
   "id": "24e639c6",
   "metadata": {},
   "outputs": [
    {
     "name": "stdout",
     "output_type": "stream",
     "text": [
      "enter l=12\n",
      "enter b=5\n",
      "60\n",
      "60\n"
     ]
    }
   ],
   "source": [
    "def area():\n",
    "    global a\n",
    "    l=int(input(\"enter l=\"))     \n",
    "    b=int(input(\"enter b=\"))     \n",
    "    a=l*b                        \n",
    "    print(a)\n",
    "area()\n",
    "print(a)"
   ]
  },
  {
   "cell_type": "code",
   "execution_count": 1,
   "id": "66645b55",
   "metadata": {},
   "outputs": [
    {
     "name": "stdout",
     "output_type": "stream",
     "text": [
      "enter l=12\n",
      "enter b=6\n",
      "72\n"
     ]
    }
   ],
   "source": [
    "def area():\n",
    "    a=l*b                        #local variable\n",
    "    print(a)\n",
    "l=int(input(\"enter l=\"))   #global variable  \n",
    "b=int(input(\"enter b=\"))   #global bariable\n",
    "area()"
   ]
  },
  {
   "cell_type": "markdown",
   "id": "b97d2847",
   "metadata": {},
   "source": [
    "# function with arguments and return type"
   ]
  },
  {
   "cell_type": "code",
   "execution_count": 1,
   "id": "86d1d023",
   "metadata": {},
   "outputs": [
    {
     "name": "stdout",
     "output_type": "stream",
     "text": [
      "hello world\n"
     ]
    }
   ],
   "source": [
    " def hello(x):  #parameter\n",
    "    print(x)\n",
    "hello(\"hello world\")  # arguments"
   ]
  },
  {
   "cell_type": "code",
   "execution_count": 4,
   "id": "3580a205",
   "metadata": {},
   "outputs": [
    {
     "name": "stdout",
     "output_type": "stream",
     "text": [
      "enter l=10\n",
      "enter b=9\n",
      "90\n"
     ]
    }
   ],
   "source": [
    "def area(l,b):\n",
    "    a=l*b                        #local variable\n",
    "    print(a)\n",
    "l=int(input(\"enter l=\"))   #global variable  \n",
    "b=int(input(\"enter b=\"))   #global bariable\n",
    "area(l,b)                  #arguments"
   ]
  },
  {
   "cell_type": "code",
   "execution_count": 5,
   "id": "595e1254",
   "metadata": {},
   "outputs": [
    {
     "name": "stdout",
     "output_type": "stream",
     "text": [
      "enter l=10\n",
      "enter b=66\n",
      "660\n"
     ]
    }
   ],
   "source": [
    "def area(x,y):\n",
    "    a=x*y                        #local variable\n",
    "    print(a)\n",
    "l=int(input(\"enter l=\"))   #global variable  \n",
    "b=int(input(\"enter b=\"))   #global bariable\n",
    "area(l,b)                  #arguments"
   ]
  },
  {
   "cell_type": "code",
   "execution_count": 8,
   "id": "6bc99d76",
   "metadata": {},
   "outputs": [
    {
     "name": "stdout",
     "output_type": "stream",
     "text": [
      "enter l=15\n",
      "enter b=12\n",
      "enter h=10\n",
      "1800\n"
     ]
    }
   ],
   "source": [
    "def volume(x,y,z):\n",
    "    a=x*y*z                        #local variable\n",
    "    print(a)\n",
    "l=int(input(\"enter l=\"))   #global variable  \n",
    "b=int(input(\"enter b=\"))  #global bariable\n",
    "h=int(input(\"enter h=\"))\n",
    "volume(l,b,h)                  #arguments"
   ]
  },
  {
   "cell_type": "code",
   "execution_count": 7,
   "id": "6450a116",
   "metadata": {},
   "outputs": [
    {
     "name": "stdout",
     "output_type": "stream",
     "text": [
      "enter l=10\n",
      "enter b=8\n",
      "enter h=5\n",
      "400\n"
     ]
    }
   ],
   "source": [
    "def volume(l,b,h):\n",
    "    a=l*b*h                        #local variable\n",
    "    print(a)\n",
    "l=int(input(\"enter l=\"))   #global variable  \n",
    "b=int(input(\"enter b=\"))  #global bariable\n",
    "h=int(input(\"enter h=\"))\n",
    "volume(l,b,h)"
   ]
  },
  {
   "cell_type": "code",
   "execution_count": 10,
   "id": "d9d0b6e1",
   "metadata": {},
   "outputs": [
    {
     "name": "stdout",
     "output_type": "stream",
     "text": [
      "enter name=dambar\n",
      "enter age=22\n",
      "enter address=dailekh\n",
      "['dambar', 22, 'dailekh']\n"
     ]
    }
   ],
   "source": [
    "def info(l):\n",
    "    print(l)\n",
    "name=input(\"enter name=\")\n",
    "age=int(input(\"enter age=\"))\n",
    "add=input(\"enter address=\")\n",
    "l=[name, age, add]\n",
    "info(l)\n"
   ]
  },
  {
   "cell_type": "code",
   "execution_count": 13,
   "id": "0ff05455",
   "metadata": {},
   "outputs": [
    {
     "name": "stdout",
     "output_type": "stream",
     "text": [
      "enter name=dambar\n",
      "enter age=22\n",
      "enter address=dailekh\n",
      "hello world i am dambar. i am from dailekh. i am 22 years.\n"
     ]
    }
   ],
   "source": [
    "def info(l):\n",
    "    info=f\"hello world i am {l[0]}. i am from {l[2]}. i am {l[1]} years.\"\n",
    "    print(info)\n",
    "name=input(\"enter name=\")\n",
    "age=int(input(\"enter age=\"))\n",
    "add=input(\"enter address=\")\n",
    "l=[name, age, add]\n",
    "info(l)"
   ]
  },
  {
   "cell_type": "code",
   "execution_count": 18,
   "id": "b7b2595c",
   "metadata": {},
   "outputs": [
    {
     "name": "stdout",
     "output_type": "stream",
     "text": [
      "enter name=dambar\n",
      "enter age=33\n",
      "enter address=dailekh\n",
      "hello i am dambar. i am from dailekh. i am 33 years.\n"
     ]
    }
   ],
   "source": [
    "def info(l):\n",
    "    infos=f\"hello i am {d['name']}. i am from {d['add']}. i am {d['age']} years.\"\n",
    "    print(infos)\n",
    "name=input(\"enter name=\")\n",
    "age=int(input(\"enter age=\"))\n",
    "add=input(\"enter address=\")\n",
    "d={'name':name, 'age':age, 'add':add}\n",
    "info(d)"
   ]
  },
  {
   "cell_type": "code",
   "execution_count": 3,
   "id": "b5ab3dd3",
   "metadata": {},
   "outputs": [
    {
     "name": "stdout",
     "output_type": "stream",
     "text": [
      "enter a=34\n",
      "enter b=12\n",
      "emter + or- or * or /=  +\n",
      "46\n"
     ]
    }
   ],
   "source": [
    "def add(a,b):\n",
    "    print(a+b)\n",
    "def sub(a,b):\n",
    "    print(a-b)\n",
    "def mul(a,b):\n",
    "    print(a*b)\n",
    "def dev(a,b):\n",
    "    print(a/b)\n",
    "def cal(a,b,o):\n",
    "    if o==\"+\":\n",
    "        add(a,b)\n",
    "    elif o==\"-\":\n",
    "        sub(a,b)\n",
    "    elif o==\"*\":\n",
    "        mul(a,b)\n",
    "    elif (0==\"/\"):\n",
    "        dev(a,b)\n",
    "    elif (b==0):\n",
    "        print(\"the value of b can not be zero.\")\n",
    "    else:\n",
    "        print(\"invalid operator\")\n",
    "a=int(input(\"enter a=\"))\n",
    "b=int(input(\"enter b=\"))\n",
    "o=input(\"enter + or- or * or /=  \")\n",
    "cal(a,b,o)\n",
    "\n",
    "    "
   ]
  },
  {
   "cell_type": "code",
   "execution_count": 2,
   "id": "464e879c",
   "metadata": {},
   "outputs": [
    {
     "name": "stdout",
     "output_type": "stream",
     "text": [
      "hello\n",
      "how do you do\n",
      "hello\n",
      "how do you do\n",
      "hello\n",
      "how do you do\n"
     ]
    }
   ],
   "source": [
    "def add():\n",
    "    print(\"hello\")\n",
    "    print(\"how do you do?\")\n",
    "add()"
   ]
  },
  {
   "cell_type": "code",
   "execution_count": null,
   "id": "9c465bd5",
   "metadata": {},
   "outputs": [],
   "source": []
  }
 ],
 "metadata": {
  "kernelspec": {
   "display_name": "Python 3 (ipykernel)",
   "language": "python",
   "name": "python3"
  },
  "language_info": {
   "codemirror_mode": {
    "name": "ipython",
    "version": 3
   },
   "file_extension": ".py",
   "mimetype": "text/x-python",
   "name": "python",
   "nbconvert_exporter": "python",
   "pygments_lexer": "ipython3",
   "version": "3.9.7"
  }
 },
 "nbformat": 4,
 "nbformat_minor": 5
}
