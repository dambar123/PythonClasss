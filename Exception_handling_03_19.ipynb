{
 "cells": [
  {
   "cell_type": "code",
   "execution_count": null,
   "id": "ed4604fe",
   "metadata": {},
   "outputs": [],
   "source": [
    "# Excsption handling"
   ]
  },
  {
   "cell_type": "code",
   "execution_count": 3,
   "id": "1868a124",
   "metadata": {},
   "outputs": [
    {
     "name": "stdout",
     "output_type": "stream",
     "text": [
      "enter a=dddd\n",
      "there is an error.\n"
     ]
    }
   ],
   "source": [
    "try: \n",
    "    a=int(input(\"enter a=\"))\n",
    "    print(a)\n",
    "except:\n",
    "    print(\"there is an error.\")"
   ]
  },
  {
   "cell_type": "code",
   "execution_count": 5,
   "id": "e9556b7e",
   "metadata": {},
   "outputs": [
    {
     "name": "stdout",
     "output_type": "stream",
     "text": [
      "There is no such file.\n"
     ]
    }
   ],
   "source": [
    "try:\n",
    "    b=open('dataad.txt','r')\n",
    "    print(b.read())\n",
    "    b.close()\n",
    "except:\n",
    "    print(\"There is no such file.\")\n"
   ]
  },
  {
   "cell_type": "code",
   "execution_count": 7,
   "id": "912a798a",
   "metadata": {},
   "outputs": [
    {
     "name": "stdout",
     "output_type": "stream",
     "text": [
      "enter a=34\n",
      "enter b=4\n",
      "the value of c = 8.5\n"
     ]
    }
   ],
   "source": [
    "try:\n",
    "    a=int(input(\"enter a=\"))\n",
    "    b=int(input(\"enter b=\"))\n",
    "    c=a/b\n",
    "except ValueError:\n",
    "    print(\"Please enter integer number.\")\n",
    "except ZeroDivisionError :\n",
    "    print(\"The value of b can not be  zero.\")\n",
    "else:\n",
    "    print(\"the value of c =\",c)"
   ]
  },
  {
   "cell_type": "code",
   "execution_count": 1,
   "id": "e0e6cf05",
   "metadata": {},
   "outputs": [
    {
     "ename": "ZeroDivisionError",
     "evalue": "division by zero",
     "output_type": "error",
     "traceback": [
      "\u001b[1;31m---------------------------------------------------------------------------\u001b[0m",
      "\u001b[1;31mZeroDivisionError\u001b[0m                         Traceback (most recent call last)",
      "\u001b[1;32mC:\\Users\\MERIDI~1\\AppData\\Local\\Temp/ipykernel_4220/1070573992.py\u001b[0m in \u001b[0;36m<module>\u001b[1;34m\u001b[0m\n\u001b[1;32m----> 1\u001b[1;33m \u001b[1;36m10\u001b[0m\u001b[1;33m/\u001b[0m\u001b[1;36m0\u001b[0m\u001b[1;33m\u001b[0m\u001b[1;33m\u001b[0m\u001b[0m\n\u001b[0m",
      "\u001b[1;31mZeroDivisionError\u001b[0m: division by zero"
     ]
    }
   ],
   "source": [
    "10/0\n"
   ]
  },
  {
   "cell_type": "code",
   "execution_count": null,
   "id": "d57e5840",
   "metadata": {},
   "outputs": [],
   "source": []
  }
 ],
 "metadata": {
  "kernelspec": {
   "display_name": "Python 3 (ipykernel)",
   "language": "python",
   "name": "python3"
  },
  "language_info": {
   "codemirror_mode": {
    "name": "ipython",
    "version": 3
   },
   "file_extension": ".py",
   "mimetype": "text/x-python",
   "name": "python",
   "nbconvert_exporter": "python",
   "pygments_lexer": "ipython3",
   "version": "3.9.7"
  }
 },
 "nbformat": 4,
 "nbformat_minor": 5
}
