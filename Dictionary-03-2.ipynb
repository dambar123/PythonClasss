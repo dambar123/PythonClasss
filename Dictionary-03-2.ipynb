{
 "cells": [
  {
   "cell_type": "markdown",
   "id": "0a9e5d67",
   "metadata": {},
   "source": [
    "# Dictionary{}\n",
    "# -indexed\n",
    "# -ordered\n",
    "# -duplicate\n",
    "# -mutable"
   ]
  },
  {
   "cell_type": "code",
   "execution_count": null,
   "id": "6cc475d6",
   "metadata": {},
   "outputs": [],
   "source": [
    "d={<key>:<value>, <key>:<value>,....}"
   ]
  },
  {
   "cell_type": "code",
   "execution_count": 2,
   "id": "4f50b012",
   "metadata": {},
   "outputs": [
    {
     "name": "stdout",
     "output_type": "stream",
     "text": [
      "{'a': 'apple', 'b': 'ball', 'c': 'cat'}\n",
      "<class 'dict'>\n"
     ]
    }
   ],
   "source": [
    "d={\"a\":\"apple\", \"b\":\"ball\", \"c\":\"cat\"}\n",
    "print(d)\n",
    "print(type(d))"
   ]
  },
  {
   "cell_type": "code",
   "execution_count": 3,
   "id": "b572f753",
   "metadata": {},
   "outputs": [
    {
     "name": "stdout",
     "output_type": "stream",
     "text": [
      "<class 'dict'>\n",
      "{0: 'apple', 2: 'ball', 3: 'cat'}\n"
     ]
    }
   ],
   "source": [
    "d={0:\"apple\", 2:\"ball\", 3:\"cat\"}\n",
    "print(type(d))\n",
    "print(d)"
   ]
  },
  {
   "cell_type": "code",
   "execution_count": 6,
   "id": "52a5a024",
   "metadata": {},
   "outputs": [
    {
     "name": "stdout",
     "output_type": "stream",
     "text": [
      "apple\n",
      "3\n"
     ]
    }
   ],
   "source": [
    "d={\"a\":\"apple\", \"b\":\"ball\", \"c\":\"cat\"}\n",
    "print(d['a'])\n",
    "print(len(d))"
   ]
  },
  {
   "cell_type": "code",
   "execution_count": 7,
   "id": "237f0994",
   "metadata": {},
   "outputs": [
    {
     "name": "stdout",
     "output_type": "stream",
     "text": [
      "{}\n"
     ]
    }
   ],
   "source": [
    "# d={}\n",
    "d=dict()\n",
    "print(d)"
   ]
  },
  {
   "cell_type": "code",
   "execution_count": 9,
   "id": "f2e15bd2",
   "metadata": {},
   "outputs": [
    {
     "name": "stdout",
     "output_type": "stream",
     "text": [
      "{'a': 'apple', 'b': 'ball', 'c': 'cat'}\n"
     ]
    }
   ],
   "source": [
    "d={}\n",
    "d['a']=\"apple\"\n",
    "d['b']=\"ball\"\n",
    "d['c']=\"cat\"\n",
    "print(d)"
   ]
  },
  {
   "cell_type": "code",
   "execution_count": 11,
   "id": "0d99925f",
   "metadata": {},
   "outputs": [
    {
     "name": "stdout",
     "output_type": "stream",
     "text": [
      "enter n=2\n",
      "enter name=ram\n",
      "enter phone=1234567890\n",
      "enter name=ram\n",
      "enter phone=0000\n",
      "{'ram': '0000'}\n"
     ]
    }
   ],
   "source": [
    "d={}\n",
    "n=int(input(\"enter n=\"))\n",
    "for i in range(n):\n",
    "    name=input(\"enter name=\")\n",
    "    phone=input(\"enter phone=\")\n",
    "    d[name]=phone\n",
    "print(d)"
   ]
  },
  {
   "cell_type": "code",
   "execution_count": 12,
   "id": "84d46c65",
   "metadata": {},
   "outputs": [
    {
     "name": "stdout",
     "output_type": "stream",
     "text": [
      "ram\n",
      "shyam\n"
     ]
    }
   ],
   "source": [
    "d={'ram':'9876543210', 'shyam':'1234567899'}\n",
    "for i in d:\n",
    "    print(i)"
   ]
  },
  {
   "cell_type": "code",
   "execution_count": 13,
   "id": "50d2050e",
   "metadata": {},
   "outputs": [
    {
     "name": "stdout",
     "output_type": "stream",
     "text": [
      "9876543210\n",
      "1234567899\n"
     ]
    }
   ],
   "source": [
    "d={'ram':'9876543210', 'shyam':'1234567899'}\n",
    "for i in d.values():\n",
    "    print(i)"
   ]
  },
  {
   "cell_type": "code",
   "execution_count": 14,
   "id": "1a853ce7",
   "metadata": {},
   "outputs": [
    {
     "name": "stdout",
     "output_type": "stream",
     "text": [
      "('ram', '9876543210')\n",
      "('shyam', '1234567899')\n"
     ]
    }
   ],
   "source": [
    "d={'ram':'9876543210', 'shyam':'1234567899'}\n",
    "for i in d.items():\n",
    "    print(i)"
   ]
  },
  {
   "cell_type": "code",
   "execution_count": 17,
   "id": "1ea2c550",
   "metadata": {},
   "outputs": [
    {
     "name": "stdout",
     "output_type": "stream",
     "text": [
      "[('ram', '9876543210'), ('shyam', '1234567899')]\n"
     ]
    }
   ],
   "source": [
    "l=[]\n",
    "d={'ram':'9876543210', 'shyam':'1234567899'}\n",
    "for i in d.items():\n",
    "    l.append(i)\n",
    "print(l)"
   ]
  },
  {
   "cell_type": "code",
   "execution_count": 19,
   "id": "06be410d",
   "metadata": {},
   "outputs": [
    {
     "name": "stdout",
     "output_type": "stream",
     "text": [
      "{'ram': '9876543210', 'shyam': '1234567899'}\n"
     ]
    }
   ],
   "source": [
    "l=[('ram', '9876543210'), ('shyam', '1234567899')]\n",
    "d=dict(l)\n",
    "print(d)"
   ]
  },
  {
   "cell_type": "code",
   "execution_count": 20,
   "id": "86af2361",
   "metadata": {},
   "outputs": [
    {
     "data": {
      "text/plain": [
       "'9876543210'"
      ]
     },
     "execution_count": 20,
     "metadata": {},
     "output_type": "execute_result"
    }
   ],
   "source": [
    "d={'ram':'9876543210', 'shyam':'1234567899'}\n",
    "d['ram']"
   ]
  },
  {
   "cell_type": "code",
   "execution_count": 2,
   "id": "d207d48f",
   "metadata": {},
   "outputs": [
    {
     "name": "stdout",
     "output_type": "stream",
     "text": [
      "{'ram': 9999999999, 'shyam': '1234567899'}\n"
     ]
    }
   ],
   "source": [
    "d={'ram':'9876543210', 'shyam':'1234567899'}\n",
    "d['ram'] = 9999999999\n",
    "print(d)"
   ]
  },
  {
   "cell_type": "markdown",
   "id": "65d58cdf",
   "metadata": {},
   "source": [
    "# del, pop()"
   ]
  },
  {
   "cell_type": "code",
   "execution_count": 3,
   "id": "0f72a26c",
   "metadata": {},
   "outputs": [
    {
     "name": "stdout",
     "output_type": "stream",
     "text": [
      "{'shyam': '1234567899'}\n"
     ]
    }
   ],
   "source": [
    "d={'ram':'9876543210', 'shyam':'1234567899'}\n",
    "del d['ram'] \n",
    "print(d)"
   ]
  },
  {
   "cell_type": "code",
   "execution_count": 4,
   "id": "8aec9eab",
   "metadata": {},
   "outputs": [
    {
     "name": "stdout",
     "output_type": "stream",
     "text": [
      "{'shyam': '1234567899'}\n"
     ]
    }
   ],
   "source": [
    "d={'ram':'9876543210', 'shyam':'1234567899'}\n",
    "d.pop('ram') \n",
    "print(d)"
   ]
  },
  {
   "cell_type": "code",
   "execution_count": 5,
   "id": "3957d5f2",
   "metadata": {},
   "outputs": [
    {
     "name": "stdout",
     "output_type": "stream",
     "text": [
      "{}\n"
     ]
    }
   ],
   "source": [
    "d={'ram':'9876543210', 'shyam':'1234567899'}\n",
    "d.clear()\n",
    "print(d)"
   ]
  },
  {
   "cell_type": "markdown",
   "id": "075d835a",
   "metadata": {},
   "source": [
    "# update the dictionary(same as extend)\n",
    "d={'ram':'9876543210', 'shyam':'1234567899'}\n",
    "c= {'a': 'apple', 'b': 'ball', 'c': 'cat'}\n",
    "d.update(c)\n",
    "print(d)"
   ]
  },
  {
   "cell_type": "code",
   "execution_count": 5,
   "id": "19d2d373",
   "metadata": {},
   "outputs": [
    {
     "name": "stdout",
     "output_type": "stream",
     "text": [
      "{'ram': '9876543210', 'shyam': '1234567899', 'a': 'apple', 'b': 'ball', 'c': 'cat'}\n"
     ]
    }
   ],
   "source": [
    "d={'ram':'9876543210', 'shyam':'1234567899'}\n",
    "c= {'a': 'apple', 'b': 'ball', 'c': 'cat'}\n",
    "d.update(c)\n",
    "print(d)"
   ]
  },
  {
   "cell_type": "markdown",
   "id": "abc90763",
   "metadata": {},
   "source": [
    "# multiple values of key\n",
    "d={'ram':['9876543210','5667778889006'], 'shyam':['1234567899','3568876665']}\n",
    "print(d)"
   ]
  },
  {
   "cell_type": "code",
   "execution_count": 11,
   "id": "bbaf06d1",
   "metadata": {},
   "outputs": [
    {
     "name": "stdout",
     "output_type": "stream",
     "text": [
      "enter n=2\n",
      "enter name=dambar\n",
      "enter ntc_phone=9868927014\n",
      "enter ncell_phone=9825542443\n",
      "enter name=thir\n",
      "enter ntc_phone=9840769789\n",
      "enter ncell_phone=9824542445\n",
      "{'dambar': [9868927014, 9825542443], 'thir': [9840769789, 9824542445]}\n"
     ]
    }
   ],
   "source": [
    "d={}\n",
    "n=int(input(\"enter n=\"))\n",
    "for i in range(n):\n",
    "    name=input(\"enter name=\")\n",
    "    ntc_phone=int(input(\"enter ntc_phone=\"))\n",
    "    ncell_phone=int(input(\"enter ncell_phone=\"))\n",
    "    d[name]=[ntc_phone, ncell_phone]\n",
    "print(d)\n",
    "    "
   ]
  },
  {
   "cell_type": "code",
   "execution_count": 14,
   "id": "92b7063a",
   "metadata": {},
   "outputs": [
    {
     "name": "stdout",
     "output_type": "stream",
     "text": [
      "{'dambar': [9999999999, 9825542443], 'thir': [9840769789, 9824542445]}\n"
     ]
    }
   ],
   "source": [
    "info={'dambar': [9868927014, 9825542443], 'thir': [9840769789, 9824542445]}\n",
    "info['dambar'][0]\n",
    "info['dambar'][0]=9999999999\n",
    "print(info)"
   ]
  },
  {
   "cell_type": "code",
   "execution_count": 15,
   "id": "46f4d1c4",
   "metadata": {},
   "outputs": [
    {
     "name": "stdout",
     "output_type": "stream",
     "text": [
      "{'dambar': [9868927014, 9825542443, 9999999999], 'thir': [9840769789, 9824542445]}\n"
     ]
    }
   ],
   "source": [
    "info={'dambar': [9868927014, 9825542443], 'thir': [9840769789, 9824542445]}\n",
    "info['dambar'].append(9999999999)\n",
    "print(info)"
   ]
  },
  {
   "cell_type": "markdown",
   "id": "d0d2681d",
   "metadata": {},
   "source": [
    "# dictionary inside list\n",
    "info=[{'name':'ram', 'ntc_phone':9999999999, 'ncepp_phone':78777777777},\n",
    "     {'name':'shyam', 'ntc_phone':8888888888, 'ncepp_phone':4444444444}]\n",
    "print(info[0])"
   ]
  },
  {
   "cell_type": "code",
   "execution_count": 1,
   "id": "7b727f20",
   "metadata": {},
   "outputs": [
    {
     "name": "stdout",
     "output_type": "stream",
     "text": [
      "{'name': 'ram', 'ntc_phone': 9999999999, 'ncepp_phone': 78777777777}\n"
     ]
    }
   ],
   "source": [
    "info=[{'name':'ram', 'ntc_phone':9999999999, 'ncepp_phone':78777777777}, {'name':'shyam', 'ntc_phone':8888888888, 'ncepp_phone':4444444444}]\n",
    "print(info[0])"
   ]
  },
  {
   "cell_type": "code",
   "execution_count": 5,
   "id": "28a38381",
   "metadata": {},
   "outputs": [
    {
     "name": "stdout",
     "output_type": "stream",
     "text": [
      "enter n=2\n",
      "enter name=ram\n",
      "enter ntc_phone=2222222222\n",
      "enter ncell_phone=33333333\n",
      "enter name=swhyam\n",
      "enter ntc_phone=5555555555\n",
      "enter ncell_phone=6666666666\n",
      "[{'name': 'ram', 'ntc_phone': 2222222222, 'ncell_phone': 33333333}, {'name': 'swhyam', 'ntc_phone': 5555555555, 'ncell_phone': 6666666666}]\n"
     ]
    }
   ],
   "source": [
    "d=[]\n",
    "n=int(input(\"enter n=\"))\n",
    "for i in range(n):\n",
    "    name=input(\"enter name=\")\n",
    "    ntc_phone=int(input(\"enter ntc_phone=\"))\n",
    "    ncell_phone=int(input(\"enter ncell_phone=\"))\n",
    "    info={'name':name, 'ntc_phone':ntc_phone, 'ncell_phone':ncell_phone}\n",
    "    d.append(info)\n",
    "print(d)"
   ]
  },
  {
   "cell_type": "markdown",
   "id": "21df4d55",
   "metadata": {},
   "source": [
    "# update and delete"
   ]
  },
  {
   "cell_type": "code",
   "execution_count": 3,
   "id": "afa3dd6e",
   "metadata": {},
   "outputs": [
    {
     "name": "stdout",
     "output_type": "stream",
     "text": [
      "{'name': 'ram', 'ntc_phone': 9999999999, 'ncepp_phone': 78777777777}\n",
      "[{'name': 'shyam', 'ntc_phone': 8888888888, 'ncepp_phone': 4444444444}]\n"
     ]
    }
   ],
   "source": [
    "info=[{'name':'ram', 'ntc_phone':9999999999, 'ncepp_phone':78777777777}, {'name':'shyam', 'ntc_phone':8888888888, 'ncepp_phone':4444444444}]\n",
    "print(info[0])\n",
    "del (info[0])\n",
    "print(info)"
   ]
  },
  {
   "cell_type": "code",
   "execution_count": 6,
   "id": "71d305e1",
   "metadata": {},
   "outputs": [
    {
     "name": "stdout",
     "output_type": "stream",
     "text": [
      "{'ram': '9876543210', 'shyam': '1234567899', 'a': 'apple', 'b': 'ball', 'c': 'cat'}\n"
     ]
    }
   ],
   "source": [
    "d={'ram':'9876543210', 'shyam':'1234567899'}\n",
    "c= {'a': 'apple', 'b': 'ball', 'c': 'cat'}\n",
    "d.update(c)\n",
    "print(d)"
   ]
  },
  {
   "cell_type": "markdown",
   "id": "3fc0556f",
   "metadata": {},
   "source": [
    "# Dictionary inside dictionary"
   ]
  },
  {
   "cell_type": "code",
   "execution_count": 4,
   "id": "813abfa7",
   "metadata": {},
   "outputs": [
    {
     "name": "stdout",
     "output_type": "stream",
     "text": [
      "{'ram': {'ntc_number': 9866666666, 'ncell_number': 9825542445}, 'shyam': {'ntc_number': 9868927012, 'ncell_number': 9825576890}}\n"
     ]
    }
   ],
   "source": [
    "d={'ram':{'ntc_number':9866666666, 'ncell_number':9825542445},\n",
    "   'shyam':{'ntc_number':9868927012, 'ncell_number':9825576890}}\n",
    "print(d)"
   ]
  },
  {
   "cell_type": "code",
   "execution_count": 2,
   "id": "44805761",
   "metadata": {},
   "outputs": [
    {
     "data": {
      "text/plain": [
       "{'ntc_number': 9866666666, 'ncell_number': 9825542445}"
      ]
     },
     "execution_count": 2,
     "metadata": {},
     "output_type": "execute_result"
    }
   ],
   "source": [
    "d[\"ram\"]"
   ]
  },
  {
   "cell_type": "code",
   "execution_count": 3,
   "id": "23dff996",
   "metadata": {},
   "outputs": [
    {
     "name": "stdout",
     "output_type": "stream",
     "text": [
      "ram\n",
      "shyam\n"
     ]
    }
   ],
   "source": [
    "d={'ram':{'ntc_number':9866666666, 'ncell_number':9825542445},\n",
    "   'shyam':{'ntc_number':9868927012, 'ncell_number':9825576890}}\n",
    "for i in d:\n",
    "    print(i)"
   ]
  },
  {
   "cell_type": "code",
   "execution_count": 5,
   "id": "e5b5c4b8",
   "metadata": {},
   "outputs": [
    {
     "name": "stdout",
     "output_type": "stream",
     "text": [
      "{'ntc_number': 9866666666, 'ncell_number': 9825542445}\n",
      "{'ntc_number': 9868927012, 'ncell_number': 9825576890}\n"
     ]
    }
   ],
   "source": [
    "for i in d.values():\n",
    "    print(i)"
   ]
  },
  {
   "cell_type": "code",
   "execution_count": 1,
   "id": "56a09ae4",
   "metadata": {},
   "outputs": [
    {
     "name": "stdout",
     "output_type": "stream",
     "text": [
      "enter n=2\n",
      "enter name=dambar\n",
      "enter ntc_phone=9868989899\n",
      "enter ncell_phone=9825454555\n",
      "enter name=shyam\n",
      "enter ntc_phone=9868956789\n",
      "enter ncell_phone=9825543456\n",
      "{'dambar': {'ntc_phone': 9868989899, 'ncell_phone': 9825454555}, 'shyam': {'ntc_phone': 9868956789, 'ncell_phone': 9825543456}}\n"
     ]
    }
   ],
   "source": [
    "d={}\n",
    "n=int(input(\"enter n=\"))\n",
    "for i in range(n):\n",
    "    name=input(\"enter name=\")\n",
    "    ntc_phone=int(input(\"enter ntc_phone=\"))\n",
    "    ncell_phone=int(input(\"enter ncell_phone=\"))\n",
    "    d[name]={'ntc_phone':ntc_phone, 'ncell_phone':ncell_phone}\n",
    "print(d)"
   ]
  },
  {
   "cell_type": "markdown",
   "id": "6fca8e7e",
   "metadata": {},
   "source": [
    "# Adding in dictionary"
   ]
  },
  {
   "cell_type": "code",
   "execution_count": 4,
   "id": "2225f7d7",
   "metadata": {},
   "outputs": [
    {
     "name": "stdout",
     "output_type": "stream",
     "text": [
      "{'dambar': {'ntc_phone': 9868989899, 'ncell_phone': 9825454555}, 'shyam': {'ntc_phone': 9868956789, 'ncell_phone': 9825543456}}\n"
     ]
    }
   ],
   "source": [
    "d={'dambar': {'ntc_phone': 9868989899, 'ncell_phone': 9825454555}} \n",
    "d['shyam']= {'ntc_phone': 9868956789, 'ncell_phone': 9825543456}\n",
    "print(d)"
   ]
  },
  {
   "cell_type": "code",
   "execution_count": 1,
   "id": "201ea489",
   "metadata": {},
   "outputs": [
    {
     "data": {
      "text/plain": [
       "'C:\\\\Users\\\\Meridian IT\\\\PythonClass'"
      ]
     },
     "execution_count": 1,
     "metadata": {},
     "output_type": "execute_result"
    }
   ],
   "source": [
    "pwd"
   ]
  },
  {
   "cell_type": "code",
   "execution_count": null,
   "id": "a9ebd779",
   "metadata": {},
   "outputs": [],
   "source": []
  }
 ],
 "metadata": {
  "kernelspec": {
   "display_name": "Python 3 (ipykernel)",
   "language": "python",
   "name": "python3"
  },
  "language_info": {
   "codemirror_mode": {
    "name": "ipython",
    "version": 3
   },
   "file_extension": ".py",
   "mimetype": "text/x-python",
   "name": "python",
   "nbconvert_exporter": "python",
   "pygments_lexer": "ipython3",
   "version": "3.9.7"
  }
 },
 "nbformat": 4,
 "nbformat_minor": 5
}
