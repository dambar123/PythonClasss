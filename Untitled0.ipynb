{
  "nbformat": 4,
  "nbformat_minor": 0,
  "metadata": {
    "colab": {
      "name": "Untitled0.ipynb",
      "provenance": [],
      "collapsed_sections": [],
      "toc_visible": true,
      "authorship_tag": "ABX9TyPyekj7sRi3s0AZhydgL+FE",
      "include_colab_link": true
    },
    "kernelspec": {
      "name": "python3",
      "display_name": "Python 3"
    },
    "language_info": {
      "name": "python"
    }
  },
  "cells": [
    {
      "cell_type": "markdown",
      "metadata": {
        "id": "view-in-github",
        "colab_type": "text"
      },
      "source": [
        "<a href=\"https://colab.research.google.com/github/dambar123/PythonClasss/blob/main/Untitled0.ipynb\" target=\"_parent\"><img src=\"https://colab.research.google.com/assets/colab-badge.svg\" alt=\"Open In Colab\"/></a>"
      ]
    },
    {
      "cell_type": "code",
      "execution_count": 1,
      "metadata": {
        "colab": {
          "base_uri": "https://localhost:8080/"
        },
        "id": "4bcGVd6DDiuT",
        "outputId": "b8ad1e9d-aac5-4b41-a057-d51823be11aa"
      },
      "outputs": [
        {
          "output_type": "stream",
          "name": "stdout",
          "text": [
            "Looking in indexes: https://pypi.org/simple, https://us-python.pkg.dev/colab-wheels/public/simple/\n",
            "Requirement already satisfied: gdown in /usr/local/lib/python3.7/dist-packages (4.4.0)\n",
            "Requirement already satisfied: requests[socks] in /usr/local/lib/python3.7/dist-packages (from gdown) (2.23.0)\n",
            "Requirement already satisfied: tqdm in /usr/local/lib/python3.7/dist-packages (from gdown) (4.64.0)\n",
            "Requirement already satisfied: beautifulsoup4 in /usr/local/lib/python3.7/dist-packages (from gdown) (4.6.3)\n",
            "Requirement already satisfied: filelock in /usr/local/lib/python3.7/dist-packages (from gdown) (3.8.0)\n",
            "Requirement already satisfied: six in /usr/local/lib/python3.7/dist-packages (from gdown) (1.15.0)\n",
            "Requirement already satisfied: certifi>=2017.4.17 in /usr/local/lib/python3.7/dist-packages (from requests[socks]->gdown) (2022.6.15)\n",
            "Requirement already satisfied: chardet<4,>=3.0.2 in /usr/local/lib/python3.7/dist-packages (from requests[socks]->gdown) (3.0.4)\n",
            "Requirement already satisfied: urllib3!=1.25.0,!=1.25.1,<1.26,>=1.21.1 in /usr/local/lib/python3.7/dist-packages (from requests[socks]->gdown) (1.24.3)\n",
            "Requirement already satisfied: idna<3,>=2.5 in /usr/local/lib/python3.7/dist-packages (from requests[socks]->gdown) (2.10)\n",
            "Requirement already satisfied: PySocks!=1.5.7,>=1.5.6 in /usr/local/lib/python3.7/dist-packages (from requests[socks]->gdown) (1.7.1)\n"
          ]
        }
      ],
      "source": [
        "!pip install gdown"
      ]
    },
    {
      "cell_type": "code",
      "source": [
        "https://drive.google.com/file/d//view?usp=sharing"
      ],
      "metadata": {
        "id": "1ydExRcfEGvv"
      },
      "execution_count": null,
      "outputs": []
    },
    {
      "cell_type": "code",
      "source": [
        "import gdown"
      ],
      "metadata": {
        "id": "gPYFuHqNEMEe"
      },
      "execution_count": 4,
      "outputs": []
    },
    {
      "cell_type": "code",
      "source": [
        "!gdown https://drive.google.com/uc?id=1hPu7eZWlVJ1jT3bAmlQHANqh8t-wgyQU"
      ],
      "metadata": {
        "colab": {
          "base_uri": "https://localhost:8080/"
        },
        "id": "pJ6zVQFAEoPE",
        "outputId": "767804bb-c6db-4874-d98b-8e6f6fc90f20"
      },
      "execution_count": 10,
      "outputs": [
        {
          "output_type": "stream",
          "name": "stdout",
          "text": [
            "Downloading...\n",
            "From: https://drive.google.com/uc?id=1hPu7eZWlVJ1jT3bAmlQHANqh8t-wgyQU\n",
            "To: /content/frozen_inference_graph.pb\n",
            "100% 69.7M/69.7M [00:01<00:00, 69.1MB/s]\n"
          ]
        }
      ]
    },
    {
      "cell_type": "code",
      "source": [
        "!gdown https://drive.google.com/uc?id=1TRPxGpFasgvM-0ii4_6AAF4MZgUjJJCR\n",
        "!gdown https://drive.google.com/uc?id=1Mnr7b4DNqJY7CNhRx3OyYzeWXW-DKjfS"
      ],
      "metadata": {
        "colab": {
          "base_uri": "https://localhost:8080/"
        },
        "id": "5_RmmJT-E3gI",
        "outputId": "53b2b00d-00d3-46f1-a70a-c0506969dec3"
      },
      "execution_count": 11,
      "outputs": [
        {
          "output_type": "stream",
          "name": "stdout",
          "text": [
            "Downloading...\n",
            "From: https://drive.google.com/uc?id=1TRPxGpFasgvM-0ii4_6AAF4MZgUjJJCR\n",
            "To: /content/pbpb.pbtxt\n",
            "100% 110k/110k [00:00<00:00, 54.3MB/s]\n",
            "Downloading...\n",
            "From: https://drive.google.com/uc?id=1Mnr7b4DNqJY7CNhRx3OyYzeWXW-DKjfS\n",
            "To: /content/yolov3-tiny_last.weights\n",
            "100% 34.7M/34.7M [00:00<00:00, 75.1MB/s]\n"
          ]
        }
      ]
    },
    {
      "cell_type": "code",
      "source": [
        "!pip install pytesseract"
      ],
      "metadata": {
        "colab": {
          "base_uri": "https://localhost:8080/"
        },
        "id": "X-k2JNBEEKyg",
        "outputId": "8d531cca-8fff-4aaa-e031-680c38e16dd5"
      },
      "execution_count": 1,
      "outputs": [
        {
          "output_type": "stream",
          "name": "stdout",
          "text": [
            "Looking in indexes: https://pypi.org/simple, https://us-python.pkg.dev/colab-wheels/public/simple/\n",
            "Requirement already satisfied: pytesseract in /usr/local/lib/python3.7/dist-packages (0.3.10)\n",
            "Requirement already satisfied: Pillow>=8.0.0 in /usr/local/lib/python3.7/dist-packages (from pytesseract) (9.2.0)\n",
            "Requirement already satisfied: packaging>=21.3 in /usr/local/lib/python3.7/dist-packages (from pytesseract) (21.3)\n",
            "Requirement already satisfied: pyparsing!=3.0.5,>=2.0.2 in /usr/local/lib/python3.7/dist-packages (from packaging>=21.3->pytesseract) (3.0.9)\n"
          ]
        }
      ]
    },
    {
      "cell_type": "code",
      "source": [
        ""
      ],
      "metadata": {
        "id": "B-DfOkiaFPH3"
      },
      "execution_count": null,
      "outputs": []
    },
    {
      "cell_type": "markdown",
      "source": [
        "```\n",
        "python mainfile.py --image images/car.jpg\n",
        "```"
      ],
      "metadata": {
        "id": "1kEXFgzuFYpb"
      }
    },
    {
      "cell_type": "code",
      "source": [
        "!git clone https://github.com/saktheeswaranswan/yolo-object-detection-liscence-plate-extract-use-ocr-put-in-excel-file.git"
      ],
      "metadata": {
        "colab": {
          "base_uri": "https://localhost:8080/"
        },
        "id": "R34GtK-0FZwi",
        "outputId": "acc794bd-1ca8-4975-97ff-235fb4a8c599"
      },
      "execution_count": 3,
      "outputs": [
        {
          "output_type": "stream",
          "name": "stdout",
          "text": [
            "Cloning into 'yolo-object-detection-liscence-plate-extract-use-ocr-put-in-excel-file'...\n",
            "remote: Enumerating objects: 173, done.\u001b[K\n",
            "remote: Counting objects: 100% (173/173), done.\u001b[K\n",
            "remote: Compressing objects: 100% (90/90), done.\u001b[K\n",
            "remote: Total 173 (delta 79), reused 173 (delta 79), pack-reused 0\u001b[K\n",
            "Receiving objects: 100% (173/173), 9.48 MiB | 46.00 MiB/s, done.\n",
            "Resolving deltas: 100% (79/79), done.\n"
          ]
        }
      ]
    },
    {
      "cell_type": "code",
      "source": [
        "!touch test.txt"
      ],
      "metadata": {
        "id": "a2nkVc7gFmq1"
      },
      "execution_count": 4,
      "outputs": []
    },
    {
      "cell_type": "code",
      "source": [
        "!cp /content/pbpb.pbtxt /content/yolo-object-detection-liscence-plate-extract-use-ocr-put-in-excel-file"
      ],
      "metadata": {
        "id": "T1csCYokGEOA"
      },
      "execution_count": 5,
      "outputs": []
    },
    {
      "cell_type": "code",
      "source": [
        "!python   /content/yolo-object-detection-liscence-plate-extract-use-ocr-put-in-excel-file/mainfile.py  --image /content/yolo-object-detection-liscence-plate-extract-use-ocr-put-in-excel-file/images/car.jpg\n"
      ],
      "metadata": {
        "colab": {
          "base_uri": "https://localhost:8080/"
        },
        "id": "qGjwSYdCGM_z",
        "outputId": "a9a941d6-ab50-4535-a6b4-b81807753eca"
      },
      "execution_count": 10,
      "outputs": [
        {
          "output_type": "stream",
          "name": "stdout",
          "text": [
            "Traceback (most recent call last):\n",
            "  File \"/content/yolo-object-detection-liscence-plate-extract-use-ocr-put-in-excel-file/mainfile.py\", line 26, in <module>\n",
            "    yolo_license(args)\n",
            "  File \"/content/yolo-object-detection-liscence-plate-extract-use-ocr-put-in-excel-file/yolo_license_detection.py\", line 14, in yolo_license\n",
            "    LABELS = open(labelsPath).read().strip().split(\"\\n\")\n",
            "FileNotFoundError: [Errno 2] No such file or directory: 'yolo-coco/coco.names'\n"
          ]
        }
      ]
    },
    {
      "cell_type": "code",
      "source": [
        "!cat  /content/yolo-object-detection-liscence-plate-extract-use-ocr-put-in-excel-file/mainfile.py "
      ],
      "metadata": {
        "colab": {
          "base_uri": "https://localhost:8080/"
        },
        "id": "wAFqqG90GkAA",
        "outputId": "f8cc8225-602c-4a6d-a2dc-a7b4fcacbd92"
      },
      "execution_count": 11,
      "outputs": [
        {
          "output_type": "stream",
          "name": "stdout",
          "text": [
            "import cv2\n",
            "import time\n",
            "import datetime\n",
            "import math\n",
            "from PIL import Image\n",
            "import numpy as np\n",
            "import argparse\n",
            "from yolo_license_detection import *\n",
            "'''\n",
            "USAGE\n",
            "python mainfile.py --image images/car.jpg\n",
            "'''\n",
            "ap = argparse.ArgumentParser()\n",
            "# construct the argument parse and parse the arguments\n",
            "    \n",
            "ap.add_argument(\"-i\", \"--image\",default='images/car.jpg', #required=True to make it mandatory\n",
            "            help=\"path to input image\")\n",
            "ap.add_argument(\"-y\", \"--yolo\", default='yolo-coco',\n",
            "            help=\"base path to YOLO directory\")\n",
            "ap.add_argument(\"-c\", \"--confidence\", type=float, default=0.5,\n",
            "            help=\"minimum probability to filter weak detections\")\n",
            "ap.add_argument(\"-t\", \"--threshold\", type=float, default=0.3,\n",
            "            help=\"threshold when applyong non-maxima suppression\")\n",
            "args = vars(ap.parse_args())\n",
            "\n",
            "yolo_license(args)\n",
            "\n"
          ]
        }
      ]
    },
    {
      "cell_type": "code",
      "source": [
        "%cd /content/yolo-object-detection-liscence-plate-extract-use-ocr-put-in-excel-file/\n"
      ],
      "metadata": {
        "colab": {
          "base_uri": "https://localhost:8080/"
        },
        "id": "qEZtabVaG9lK",
        "outputId": "6a2c8934-709d-474e-b9db-1ba8c0a342a4"
      },
      "execution_count": 12,
      "outputs": [
        {
          "output_type": "stream",
          "name": "stdout",
          "text": [
            "/content/yolo-object-detection-liscence-plate-extract-use-ocr-put-in-excel-file\n"
          ]
        }
      ]
    },
    {
      "cell_type": "code",
      "source": [
        "!pwd"
      ],
      "metadata": {
        "colab": {
          "base_uri": "https://localhost:8080/"
        },
        "id": "a-72TL-bHUxO",
        "outputId": "531c4fbc-309e-4b9f-a267-ed44c1ed7c02"
      },
      "execution_count": 13,
      "outputs": [
        {
          "output_type": "stream",
          "name": "stdout",
          "text": [
            "/content/yolo-object-detection-liscence-plate-extract-use-ocr-put-in-excel-file\n"
          ]
        }
      ]
    },
    {
      "cell_type": "code",
      "source": [
        "!ls"
      ],
      "metadata": {
        "colab": {
          "base_uri": "https://localhost:8080/"
        },
        "id": "OammGhizHkrw",
        "outputId": "0cecc86f-7ced-4340-e159-8c657912d94a"
      },
      "execution_count": 16,
      "outputs": [
        {
          "output_type": "stream",
          "name": "stdout",
          "text": [
            "1.jpg\t\t\t\tmultiple_cars.py\n",
            "commands.txt\t\t\tocr.py\n",
            "frozen_inference_graph.pb\toutput\n",
            "getdataset.py\t\t\tpbpb.pbtxt\n",
            "images\t\t\t\t__pycache__\n",
            "Indian_Number_plates.json\tREADME.md\n",
            "__init__.py\t\t\tresults.PNG\n",
            "license_detection.py\t\twithout_ocr_multiple_cars.py\n",
            "mainfile.py\t\t\twithout_ocr.py\n",
            "mobilenet_classes.py\t\tyolo-coco\n",
            "mobilenet_vehicle_detection.py\tyolo_license_detection.py\n"
          ]
        }
      ]
    },
    {
      "cell_type": "code",
      "source": [
        "!python mainfile.py --image images/car.jpg"
      ],
      "metadata": {
        "colab": {
          "base_uri": "https://localhost:8080/"
        },
        "id": "CbcElSckHWsN",
        "outputId": "dd6d0146-0fd3-4a87-ceb8-f0ab4647aaf6"
      },
      "execution_count": 17,
      "outputs": [
        {
          "output_type": "stream",
          "name": "stdout",
          "text": [
            "Traceback (most recent call last):\n",
            "  File \"mainfile.py\", line 26, in <module>\n",
            "    yolo_license(args)\n",
            "  File \"/content/yolo-object-detection-liscence-plate-extract-use-ocr-put-in-excel-file/yolo_license_detection.py\", line 24, in yolo_license\n",
            "    ln = [ln[i[0] - 1] for i in net.getUnconnectedOutLayers()]\n",
            "  File \"/content/yolo-object-detection-liscence-plate-extract-use-ocr-put-in-excel-file/yolo_license_detection.py\", line 24, in <listcomp>\n",
            "    ln = [ln[i[0] - 1] for i in net.getUnconnectedOutLayers()]\n",
            "IndexError: invalid index to scalar variable.\n"
          ]
        }
      ]
    },
    {
      "cell_type": "code",
      "source": [
        ""
      ],
      "metadata": {
        "id": "-hAnigzdHbdw"
      },
      "execution_count": null,
      "outputs": []
    }
  ]
}