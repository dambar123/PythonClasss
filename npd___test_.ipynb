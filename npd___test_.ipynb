{
  "nbformat": 4,
  "nbformat_minor": 0,
  "metadata": {
    "colab": {
      "name": "npd _ test .ipynb",
      "provenance": [],
      "collapsed_sections": [],
      "authorship_tag": "ABX9TyOoKA0n+oLiqB2Wea88ErIn",
      "include_colab_link": true
    },
    "kernelspec": {
      "name": "python3",
      "display_name": "Python 3"
    },
    "language_info": {
      "name": "python"
    },
    "gpuClass": "standard"
  },
  "cells": [
    {
      "cell_type": "markdown",
      "metadata": {
        "id": "view-in-github",
        "colab_type": "text"
      },
      "source": [
        "<a href=\"https://colab.research.google.com/github/dambar123/PythonClasss/blob/main/npd___test_.ipynb\" target=\"_parent\"><img src=\"https://colab.research.google.com/assets/colab-badge.svg\" alt=\"Open In Colab\"/></a>"
      ]
    },
    {
      "cell_type": "code",
      "execution_count": null,
      "metadata": {
        "colab": {
          "base_uri": "https://localhost:8080/"
        },
        "id": "4bcGVd6DDiuT",
        "outputId": "11f617f8-3086-46a3-8719-f491cbc78bd3"
      },
      "outputs": [
        {
          "output_type": "stream",
          "name": "stdout",
          "text": [
            "Looking in indexes: https://pypi.org/simple, https://us-python.pkg.dev/colab-wheels/public/simple/\n",
            "Requirement already satisfied: gdown in /usr/local/lib/python3.7/dist-packages (4.4.0)\n",
            "Requirement already satisfied: filelock in /usr/local/lib/python3.7/dist-packages (from gdown) (3.8.0)\n",
            "Requirement already satisfied: six in /usr/local/lib/python3.7/dist-packages (from gdown) (1.15.0)\n",
            "Requirement already satisfied: requests[socks] in /usr/local/lib/python3.7/dist-packages (from gdown) (2.23.0)\n",
            "Requirement already satisfied: beautifulsoup4 in /usr/local/lib/python3.7/dist-packages (from gdown) (4.6.3)\n",
            "Requirement already satisfied: tqdm in /usr/local/lib/python3.7/dist-packages (from gdown) (4.64.0)\n",
            "Requirement already satisfied: chardet<4,>=3.0.2 in /usr/local/lib/python3.7/dist-packages (from requests[socks]->gdown) (3.0.4)\n",
            "Requirement already satisfied: idna<3,>=2.5 in /usr/local/lib/python3.7/dist-packages (from requests[socks]->gdown) (2.10)\n",
            "Requirement already satisfied: certifi>=2017.4.17 in /usr/local/lib/python3.7/dist-packages (from requests[socks]->gdown) (2022.6.15)\n",
            "Requirement already satisfied: urllib3!=1.25.0,!=1.25.1,<1.26,>=1.21.1 in /usr/local/lib/python3.7/dist-packages (from requests[socks]->gdown) (1.24.3)\n",
            "Requirement already satisfied: PySocks!=1.5.7,>=1.5.6 in /usr/local/lib/python3.7/dist-packages (from requests[socks]->gdown) (1.7.1)\n"
          ]
        }
      ],
      "source": [
        "!pip install gdown"
      ]
    },
    {
      "cell_type": "code",
      "source": [
        "!pip install pytesseract"
      ],
      "metadata": {
        "id": "pPsPNXWRHgCI"
      },
      "execution_count": null,
      "outputs": []
    },
    {
      "cell_type": "code",
      "source": [
        "# https://drive.google.com/file/d//view?usp=sharing"
      ],
      "metadata": {
        "id": "1ydExRcfEGvv"
      },
      "execution_count": null,
      "outputs": []
    },
    {
      "cell_type": "code",
      "source": [
        "import gdown"
      ],
      "metadata": {
        "id": "gPYFuHqNEMEe"
      },
      "execution_count": null,
      "outputs": []
    },
    {
      "cell_type": "code",
      "source": [
        "!gdown https://drive.google.com/uc?id=1hPu7eZWlVJ1jT3bAmlQHANqh8t-wgyQU"
      ],
      "metadata": {
        "colab": {
          "base_uri": "https://localhost:8080/"
        },
        "id": "pJ6zVQFAEoPE",
        "outputId": "abae8ab1-c532-4647-ee3c-2ea7d837ece9"
      },
      "execution_count": null,
      "outputs": [
        {
          "output_type": "stream",
          "name": "stdout",
          "text": [
            "Downloading...\n",
            "From: https://drive.google.com/uc?id=1hPu7eZWlVJ1jT3bAmlQHANqh8t-wgyQU\n",
            "To: /content/frozen_inference_graph.pb\n",
            "100% 69.7M/69.7M [00:00<00:00, 294MB/s]\n"
          ]
        }
      ]
    },
    {
      "cell_type": "code",
      "source": [
        "!gdown https://drive.google.com/uc?id=1TRPxGpFasgvM-0ii4_6AAF4MZgUjJJCR\n",
        "!gdown https://drive.google.com/uc?id=1Mnr7b4DNqJY7CNhRx3OyYzeWXW-DKjfS"
      ],
      "metadata": {
        "colab": {
          "base_uri": "https://localhost:8080/"
        },
        "id": "5_RmmJT-E3gI",
        "outputId": "b6a8f806-854f-404d-fbff-878cdd5f1371"
      },
      "execution_count": null,
      "outputs": [
        {
          "output_type": "stream",
          "name": "stdout",
          "text": [
            "Downloading...\n",
            "From: https://drive.google.com/uc?id=1TRPxGpFasgvM-0ii4_6AAF4MZgUjJJCR\n",
            "To: /content/pbpb.pbtxt\n",
            "100% 110k/110k [00:00<00:00, 75.6MB/s]\n",
            "Downloading...\n",
            "From: https://drive.google.com/uc?id=1Mnr7b4DNqJY7CNhRx3OyYzeWXW-DKjfS\n",
            "To: /content/yolov3-tiny_last.weights\n",
            "100% 34.7M/34.7M [00:00<00:00, 216MB/s]\n"
          ]
        }
      ]
    },
    {
      "cell_type": "code",
      "source": [
        ""
      ],
      "metadata": {
        "id": "X-k2JNBEEKyg"
      },
      "execution_count": null,
      "outputs": []
    },
    {
      "cell_type": "code",
      "source": [
        ""
      ],
      "metadata": {
        "id": "B-DfOkiaFPH3"
      },
      "execution_count": null,
      "outputs": []
    },
    {
      "cell_type": "markdown",
      "source": [
        "```\n",
        "python mainfile.py --image images/car.jpg\n",
        "```"
      ],
      "metadata": {
        "id": "1kEXFgzuFYpb"
      }
    },
    {
      "cell_type": "code",
      "source": [
        "!git clone https://github.com/saktheeswaranswan/yolo-object-detection-liscence-plate-extract-use-ocr-put-in-excel-file.git"
      ],
      "metadata": {
        "colab": {
          "base_uri": "https://localhost:8080/"
        },
        "id": "R34GtK-0FZwi",
        "outputId": "484f3914-03cf-411c-d370-3762cac78a82"
      },
      "execution_count": null,
      "outputs": [
        {
          "output_type": "stream",
          "name": "stdout",
          "text": [
            "Cloning into 'yolo-object-detection-liscence-plate-extract-use-ocr-put-in-excel-file'...\n",
            "remote: Enumerating objects: 173, done.\u001b[K\n",
            "remote: Counting objects: 100% (173/173), done.\u001b[K\n",
            "remote: Compressing objects: 100% (90/90), done.\u001b[K\n",
            "remote: Total 173 (delta 79), reused 173 (delta 79), pack-reused 0\u001b[K\n",
            "Receiving objects: 100% (173/173), 9.48 MiB | 12.87 MiB/s, done.\n",
            "Resolving deltas: 100% (79/79), done.\n"
          ]
        }
      ]
    },
    {
      "cell_type": "code",
      "source": [
        "# ! rm -r /content/yolo-object-detection-liscence-plate-extract-use-ocr-put-in-excel-file"
      ],
      "metadata": {
        "id": "a2nkVc7gFmq1"
      },
      "execution_count": null,
      "outputs": []
    },
    {
      "cell_type": "code",
      "source": [
        "!cp /content/yolov3-tiny_last.weights /content/yolo-object-detection-liscence-plate-extract-use-ocr-put-in-excel-file/yolo-coco/"
      ],
      "metadata": {
        "id": "FocAe_LxH7Xo"
      },
      "execution_count": null,
      "outputs": []
    },
    {
      "cell_type": "code",
      "source": [
        "!cp /content/pbpb.pbtxt /content/yolo-object-detection-liscence-plate-extract-use-ocr-put-in-excel-file/"
      ],
      "metadata": {
        "id": "2i8cyJ0eID_d"
      },
      "execution_count": null,
      "outputs": []
    },
    {
      "cell_type": "code",
      "source": [
        "!cp /content/frozen_inference_graph.pb /content/yolo-object-detection-liscence-plate-extract-use-ocr-put-in-excel-file/"
      ],
      "metadata": {
        "id": "L8UNAcKTIEEU"
      },
      "execution_count": null,
      "outputs": []
    },
    {
      "cell_type": "code",
      "source": [
        ""
      ],
      "metadata": {
        "id": "UMYQJnuRIEHa"
      },
      "execution_count": null,
      "outputs": []
    },
    {
      "cell_type": "code",
      "source": [
        "%cd /content/yolo-object-detection-liscence-plate-extract-use-ocr-put-in-excel-file/"
      ],
      "metadata": {
        "id": "j9vMTxznI6JL",
        "outputId": "af0a1dc7-bbd8-46b3-907a-7e13651fa6ad",
        "colab": {
          "base_uri": "https://localhost:8080/"
        }
      },
      "execution_count": null,
      "outputs": [
        {
          "output_type": "stream",
          "name": "stdout",
          "text": [
            "/content/yolo-object-detection-liscence-plate-extract-use-ocr-put-in-excel-file\n"
          ]
        }
      ]
    },
    {
      "cell_type": "code",
      "source": [
        "!python without_ocr.py --image images/car.jpg"
      ],
      "metadata": {
        "id": "9EFoD_-aI2i0",
        "outputId": "c3bb2ad9-cfbb-46b4-f026-e8bd27b4e5bd",
        "colab": {
          "base_uri": "https://localhost:8080/"
        }
      },
      "execution_count": null,
      "outputs": [
        {
          "output_type": "stream",
          "name": "stdout",
          "text": [
            "Traceback (most recent call last):\n",
            "  File \"without_ocr.py\", line 120, in <module>\n",
            "    yolo_license(args)\n",
            "  File \"without_ocr.py\", line 38, in yolo_license\n",
            "    ln = [ln[i[0] - 1] for i in net.getUnconnectedOutLayers()]\n",
            "  File \"without_ocr.py\", line 38, in <listcomp>\n",
            "    ln = [ln[i[0] - 1] for i in net.getUnconnectedOutLayers()]\n",
            "IndexError: invalid index to scalar variable.\n"
          ]
        }
      ]
    },
    {
      "cell_type": "code",
      "source": [
        "import cv2\n",
        "import time\n",
        "import datetime\n",
        "import math\n",
        "from PIL import Image\n",
        "import numpy as np\n",
        "import argparse\n",
        "from yolo_license_detection import *\n"
      ],
      "metadata": {
        "id": "lONsDDcdI2lh"
      },
      "execution_count": null,
      "outputs": []
    },
    {
      "cell_type": "code",
      "source": [
        "import matplotlib.pyplot as plt"
      ],
      "metadata": {
        "id": "TZ_KY3mJJUBF"
      },
      "execution_count": null,
      "outputs": []
    },
    {
      "cell_type": "code",
      "source": [
        "import os\n",
        "print(os.listdir(\"./images\"))"
      ],
      "metadata": {
        "id": "RBf3vdpYJYqf",
        "outputId": "d5cae531-6543-4033-f13d-ce1259a0dd91",
        "colab": {
          "base_uri": "https://localhost:8080/"
        }
      },
      "execution_count": null,
      "outputs": [
        {
          "output_type": "stream",
          "name": "stdout",
          "text": [
            "['test1.jpg', 'Final.JPG', 'car2.jpg', 'car.png', 'test.jpeg', 'test4.jpg', '9.png', 'i2.jpg', 'i1.jpg', 'test.JPG', 'mult_cars.png', '10.PNG', 'test2.jpg', 'car.jpg', 'test3.jpg']\n"
          ]
        }
      ]
    },
    {
      "cell_type": "code",
      "source": [
        "img_path = \"./images/car.jpg\""
      ],
      "metadata": {
        "id": "Np7XUhZPJYtn"
      },
      "execution_count": null,
      "outputs": []
    },
    {
      "cell_type": "code",
      "source": [
        "import cv2"
      ],
      "metadata": {
        "id": "ChR3JlWtJYwQ"
      },
      "execution_count": null,
      "outputs": []
    },
    {
      "cell_type": "code",
      "source": [
        "img = cv2.imread(img_path, 0)"
      ],
      "metadata": {
        "id": "53mGCBIeJ2Uv"
      },
      "execution_count": null,
      "outputs": []
    },
    {
      "cell_type": "code",
      "source": [
        "plt.imshow(img)"
      ],
      "metadata": {
        "id": "iK7oi_uQKBq3",
        "outputId": "1f3eda71-a309-4ee4-e1d8-5e35e185cb1d",
        "colab": {
          "base_uri": "https://localhost:8080/",
          "height": 257
        }
      },
      "execution_count": null,
      "outputs": [
        {
          "output_type": "execute_result",
          "data": {
            "text/plain": [
              "<matplotlib.image.AxesImage at 0x7fe3b90d3b90>"
            ]
          },
          "metadata": {},
          "execution_count": 34
        },
        {
          "output_type": "display_data",
          "data": {
            "text/plain": [
              "<Figure size 432x288 with 1 Axes>"
            ],
            "image/png": "[encoded data removed]"
          },
          "metadata": {
            "needs_background": "light"
          }
        }
      ]
    },
    {
      "cell_type": "code",
      "source": [
        "import numpy as np\n",
        "\n",
        "array_image = np.array(img, )"
      ],
      "metadata": {
        "id": "I6T2fwFoKIze"
      },
      "execution_count": null,
      "outputs": []
    },
    {
      "cell_type": "code",
      "source": [
        "array_image.shape"
      ],
      "metadata": {
        "id": "AJuUOBDUKZ7w",
        "outputId": "000fa63b-4703-4f6d-bec6-85e814f18d46",
        "colab": {
          "base_uri": "https://localhost:8080/"
        }
      },
      "execution_count": null,
      "outputs": [
        {
          "output_type": "execute_result",
          "data": {
            "text/plain": [
              "(450, 800)"
            ]
          },
          "metadata": {},
          "execution_count": 36
        }
      ]
    },
    {
      "cell_type": "code",
      "source": [
        ""
      ],
      "metadata": {
        "id": "VHkJSAgsOSqy"
      },
      "execution_count": null,
      "outputs": []
    },
    {
      "cell_type": "code",
      "source": [
        "import numpy as np\n",
        "import argparse\n",
        "import time\n",
        "import cv2\n",
        "import os\n",
        "from PIL import Image\n",
        "import pytesseract\n",
        "\n",
        "weightsPath = \"/content/yolo-object-detection-liscence-plate-extract-use-ocr-put-in-excel-file/yolo-coco/yolov3-tiny.cfg\"\n",
        "\n",
        "configPath = \"/content/yolo-object-detection-liscence-plate-extract-use-ocr-put-in-excel-file/yolo-coco/yolov3-tiny_last.weights\" # os.path.sep.join([args[\"yolo\"], \"yolov3-tiny.cfg\"])\n",
        "\n",
        "labelsPath = \"/content/yolo-object-detection-liscence-plate-extract-use-ocr-put-in-excel-file/yolo-coco/coco.names\" # os.path.sep.join([args[\"yolo\"], \"coco.names\"])\n"
      ],
      "metadata": {
        "id": "CJP0PMTrI2oJ"
      },
      "execution_count": null,
      "outputs": []
    },
    {
      "cell_type": "code",
      "source": [
        "# os.listdir(\"./yolo-coco/\")"
      ],
      "metadata": {
        "id": "KVEpWhrkLswK"
      },
      "execution_count": null,
      "outputs": []
    },
    {
      "cell_type": "code",
      "source": [
        ""
      ],
      "metadata": {
        "id": "byV4F9aRNXyq"
      },
      "execution_count": null,
      "outputs": []
    },
    {
      "cell_type": "markdown",
      "source": [
        "\n",
        "```python\n",
        "ap.add_argument(\"-y\", \"--yolo\", default='yolo-coco',\n",
        "            help=\"base path to YOLO directory\")\n",
        "ap.add_argument(\"-c\", \"--confidence\", type=float, default=0.5,\n",
        "            help=\"minimum probability to filter weak detections\")\n",
        "ap.add_argument(\"-t\", \"--threshold\", type=float, default=0.3,\n",
        "            help=\"threshold when applyong non-maxima suppression\")\n",
        "\n",
        "```"
      ],
      "metadata": {
        "id": "w7P6Vs4XNYJ4"
      }
    },
    {
      "cell_type": "code",
      "source": [
        "net = cv2.dnn.readNetFromDarknet(\"/content/yolo-object-detection-liscence-plate-extract-use-ocr-put-in-excel-file/yolo-coco/yolov3-tiny_last.weights\", \"/content/yolo-object-detection-liscence-plate-extract-use-ocr-put-in-excel-file/yolo-coco/yolov3.cfg\")"
      ],
      "metadata": {
        "id": "lxoAhqfyOkG_",
        "outputId": "221efde8-32d4-41c8-db57-07dadb605852",
        "colab": {
          "base_uri": "https://localhost:8080/",
          "height": 200
        }
      },
      "execution_count": null,
      "outputs": [
        {
          "output_type": "error",
          "ename": "error",
          "evalue": "ignored",
          "traceback": [
            "\u001b[0;31m---------------------------------------------------------------------------\u001b[0m",
            "\u001b[0;31merror\u001b[0m                                     Traceback (most recent call last)",
            "\u001b[0;32m<ipython-input-52-337fe4f3f83c>\u001b[0m in \u001b[0;36m<module>\u001b[0;34m\u001b[0m\n\u001b[0;32m----> 1\u001b[0;31m \u001b[0mnet\u001b[0m \u001b[0;34m=\u001b[0m \u001b[0mcv2\u001b[0m\u001b[0;34m.\u001b[0m\u001b[0mdnn\u001b[0m\u001b[0;34m.\u001b[0m\u001b[0mreadNetFromDarknet\u001b[0m\u001b[0;34m(\u001b[0m\u001b[0;34m\"/content/yolo-object-detection-liscence-plate-extract-use-ocr-put-in-excel-file/yolo-coco/yolov3-tiny_last.weights\"\u001b[0m\u001b[0;34m,\u001b[0m \u001b[0;34m\"/content/yolo-object-detection-liscence-plate-extract-use-ocr-put-in-excel-file/yolo-coco/yolov3.cfg\"\u001b[0m\u001b[0;34m)\u001b[0m\u001b[0;34m\u001b[0m\u001b[0;34m\u001b[0m\u001b[0m\n\u001b[0m",
            "\u001b[0;31merror\u001b[0m: OpenCV(4.6.0) /io/opencv/modules/dnn/src/darknet/darknet_io.cpp:660: error: (-215:Assertion failed) separator_index < line.size() in function 'ReadDarknetFromCfgStream'\n"
          ]
        }
      ]
    },
    {
      "cell_type": "code",
      "source": [
        "\n",
        "def image_smoothening(img):\n",
        "    ret1, th1 = cv2.threshold(img, cv2.THRESH_BINARY, 255, cv2.THRESH_BINARY)\n",
        "    ret2, th2 = cv2.threshold(th1, 0, 255, cv2.THRESH_BINARY + cv2.THRESH_OTSU)\n",
        "    blur = cv2.GaussianBlur(th2, (5, 5), 0)\n",
        "    ret3, th3 = cv2.threshold(\n",
        "        blur, 0, 255, cv2.THRESH_BINARY + cv2.THRESH_OTSU)\n",
        "    return th3\n",
        "\n",
        "\n",
        "def remove_noise_and_smooth(img):\n",
        "    filtered = cv2.adaptiveThreshold(img.astype(\n",
        "        np.uint8), 255, cv2.ADAPTIVE_THRESH_MEAN_C, cv2.THRESH_BINARY, 9, 41)\n",
        "    kernel = np.ones((1, 1), np.uint8)\n",
        "    opening = cv2.morphologyEx(filtered, cv2.MORPH_OPEN, kernel)\n",
        "    closing = cv2.morphologyEx(opening, cv2.MORPH_CLOSE, kernel)\n",
        "    img = image_smoothening(img)\n",
        "    or_image = cv2.bitwise_or(img, closing)\n",
        "    return or_image\n",
        "\n",
        "def yolo_license(image):\n",
        "   \n",
        "    \n",
        "    LABELS = open(labelsPath).read().strip().split(\"\\n\")\n",
        "    np.random.seed(42)\n",
        "    COLORS = np.random.randint(0, 255, size=(len(LABELS), 3),\n",
        "                            dtype=\"uint8\")\n",
        "    # weightsPath = os.path.sep.join([args[\"yolo\"], \"yolov3-tiny_last.weights\"])\n",
        "\n",
        "    # configPath = os.path.sep.join([args[\"yolo\"], \"yolov3-tiny.cfg\"])\n",
        "\n",
        "\n",
        "    net = cv2.dnn.readNetFromDarknet(configPath, weightsPath)\n",
        "    # image = cv2.imread(args[\"image\"])\n",
        "    (H, W) = image.shape[:2]\n",
        "    ln = net.getLayerNames()\n",
        "    ln = [ln[i[0] - 1] for i in net.getUnconnectedOutLayers()]\n",
        "    blob = cv2.dnn.blobFromImage(image, 1 / 255.0, (416, 416),\n",
        "                                swapRB=True, crop=False)\n",
        "    net.setInput(blob)\n",
        "    start = time.time()\n",
        "    layerOutputs = net.forward(ln)\n",
        "    end = time.time()\n",
        "    print(\" {:.6f} seconds\".format(end - start))\n",
        "\n",
        "    boxes = []\n",
        "    confidences = []\n",
        "    classIDs = []\n",
        "\n",
        "\n",
        "\n",
        "    for output in layerOutputs:\n",
        "  \n",
        "        for detection in output:\n",
        "            scores = detection[5:]\n",
        "            classID = np.argmax(scores)\n",
        "            confidence = scores[classID]\n",
        "            if confidence > 0.5:\n",
        "\n",
        "                box = detection[0:4] * np.array([W, H, W, H])\n",
        "                (centerX, centerY, width, height) = box.astype(\"int\")\n",
        "                x = int(centerX - (width / 2))\n",
        "                y = int(centerY - (height / 2))\n",
        "                boxes.append([x, y, int(width), int(height)])\n",
        "                confidences.append(float(confidence))\n",
        "                classIDs.append(classID)\n",
        "    idxs = cv2.dnn.NMSBoxes(boxes, confidences, 0.5,\n",
        "                            0.3)\n",
        "    if len(idxs) > 0:\n",
        "        for i in idxs.flatten():\n",
        "            (x, y) = (boxes[i][0], boxes[i][1])\n",
        "            (w, h) = (boxes[i][2], boxes[i][3])\n",
        "            color = [int(c) for c in COLORS[classIDs[i]]]\n",
        "            cv2.rectangle(image, (x, y), (x + w, y + h), color, 2)\n",
        "            cropped = Image.fromarray(image[y:y+h, x:x+w])\n",
        "            cropped.save('output/'+str('/content/yolo-object-detection-liscence-plate-extract-use-ocr-put-in-excel-file/images/').split('.')[0]+'_predictions.jpg')\n",
        "            text = \"{}: {:.4f}\".format(\n",
        "                'Number Plate', confidences[i])\n",
        "            cv2.putText(image, text, (x, y - 5), cv2.FONT_HERSHEY_SIMPLEX,\n",
        "                        0.5, color, 2)\n",
        "    image = cv2.resize(image, (1280, 720))\n",
        "    # cv2.imshow(\"Image\", image)\n",
        "    cv2.waitKey(0)\n",
        "    image = cv2.imread('output/'+str('/content/yolo-object-detection-liscence-plate-extract-use-ocr-put-in-excel-file/images').split('.')[0]+'_predictions.jpg')\n",
        "    gray = cv2.cvtColor(image, cv2.COLOR_BGR2GRAY)\n",
        "    gray = cv2.threshold(gray, 0, 255, cv2.THRESH_BINARY | cv2.THRESH_OTSU)[1]\n",
        "    gray = cv2.medianBlur(gray, 3)\n",
        "    gray = remove_noise_and_smooth(gray)\n",
        "    filename = 'output/'+str(\"/content/yolo-object-detection-liscence-plate-extract-use-ocr-put-in-excel-file/images\").split('.')[0]+\"_preprocessed.jpg\"\n",
        "    cv2.imwrite(filename, gray)\n",
        "    text = pytesseract.image_to_string(Image.open(filename))\n",
        "    print(text)\n",
        "    plt.imshow(gray)\n"
      ],
      "metadata": {
        "id": "sc5q9nWyLszO"
      },
      "execution_count": null,
      "outputs": []
    },
    {
      "cell_type": "code",
      "source": [
        ""
      ],
      "metadata": {
        "id": "pnztYI1gLs1l"
      },
      "execution_count": null,
      "outputs": []
    },
    {
      "cell_type": "code",
      "source": [
        "yolo_license(img)"
      ],
      "metadata": {
        "id": "DCBk1IiKLs4T",
        "outputId": "a2aee040-2d8d-485b-b91f-b45e4f199b0c",
        "colab": {
          "base_uri": "https://localhost:8080/",
          "height": 304
        }
      },
      "execution_count": null,
      "outputs": [
        {
          "output_type": "error",
          "ename": "error",
          "evalue": "ignored",
          "traceback": [
            "\u001b[0;31m---------------------------------------------------------------------------\u001b[0m",
            "\u001b[0;31merror\u001b[0m                                     Traceback (most recent call last)",
            "\u001b[0;32m<ipython-input-48-3413f9c960a6>\u001b[0m in \u001b[0;36m<module>\u001b[0;34m\u001b[0m\n\u001b[0;32m----> 1\u001b[0;31m \u001b[0myolo_license\u001b[0m\u001b[0;34m(\u001b[0m\u001b[0mimg\u001b[0m\u001b[0;34m)\u001b[0m\u001b[0;34m\u001b[0m\u001b[0;34m\u001b[0m\u001b[0m\n\u001b[0m",
            "\u001b[0;32m<ipython-input-47-e071f33ff18a>\u001b[0m in \u001b[0;36myolo_license\u001b[0;34m(image)\u001b[0m\n\u001b[1;32m     30\u001b[0m \u001b[0;34m\u001b[0m\u001b[0m\n\u001b[1;32m     31\u001b[0m \u001b[0;34m\u001b[0m\u001b[0m\n\u001b[0;32m---> 32\u001b[0;31m     \u001b[0mnet\u001b[0m \u001b[0;34m=\u001b[0m \u001b[0mcv2\u001b[0m\u001b[0;34m.\u001b[0m\u001b[0mdnn\u001b[0m\u001b[0;34m.\u001b[0m\u001b[0mreadNetFromDarknet\u001b[0m\u001b[0;34m(\u001b[0m\u001b[0mconfigPath\u001b[0m\u001b[0;34m,\u001b[0m \u001b[0mweightsPath\u001b[0m\u001b[0;34m)\u001b[0m\u001b[0;34m\u001b[0m\u001b[0;34m\u001b[0m\u001b[0m\n\u001b[0m\u001b[1;32m     33\u001b[0m     \u001b[0;31m# image = cv2.imread(args[\"image\"])\u001b[0m\u001b[0;34m\u001b[0m\u001b[0;34m\u001b[0m\u001b[0;34m\u001b[0m\u001b[0m\n\u001b[1;32m     34\u001b[0m     \u001b[0;34m(\u001b[0m\u001b[0mH\u001b[0m\u001b[0;34m,\u001b[0m \u001b[0mW\u001b[0m\u001b[0;34m)\u001b[0m \u001b[0;34m=\u001b[0m \u001b[0mimage\u001b[0m\u001b[0;34m.\u001b[0m\u001b[0mshape\u001b[0m\u001b[0;34m[\u001b[0m\u001b[0;34m:\u001b[0m\u001b[0;36m2\u001b[0m\u001b[0;34m]\u001b[0m\u001b[0;34m\u001b[0m\u001b[0;34m\u001b[0m\u001b[0m\n",
            "\u001b[0;31merror\u001b[0m: OpenCV(4.6.0) /io/opencv/modules/dnn/src/darknet/darknet_io.cpp:660: error: (-215:Assertion failed) separator_index < line.size() in function 'ReadDarknetFromCfgStream'\n"
          ]
        }
      ]
    },
    {
      "cell_type": "code",
      "source": [
        ""
      ],
      "metadata": {
        "id": "qJ4d4y93Ls7W"
      },
      "execution_count": null,
      "outputs": []
    },
    {
      "cell_type": "code",
      "source": [
        ""
      ],
      "metadata": {
        "id": "zVCaYZ8xI2qK"
      },
      "execution_count": null,
      "outputs": []
    },
    {
      "cell_type": "code",
      "source": [
        "!python   /content/yolo-object-detection-liscence-plate-extract-use-ocr-put-in-excel-file/mainfile.py  --image /content/yolo-object-detection-liscence-plate-extract-use-ocr-put-in-excel-file/images/car.jpg\n"
      ],
      "metadata": {
        "colab": {
          "base_uri": "https://localhost:8080/"
        },
        "id": "qGjwSYdCGM_z",
        "outputId": "574af393-1d63-4d02-dbe1-f85fc9a08318"
      },
      "execution_count": null,
      "outputs": [
        {
          "output_type": "stream",
          "name": "stdout",
          "text": [
            "Traceback (most recent call last):\n",
            "  File \"/content/yolo-object-detection-liscence-plate-extract-use-ocr-put-in-excel-file/mainfile.py\", line 26, in <module>\n",
            "    yolo_license(args)\n",
            "  File \"/content/yolo-object-detection-liscence-plate-extract-use-ocr-put-in-excel-file/yolo_license_detection.py\", line 14, in yolo_license\n",
            "    LABELS = open(labelsPath).read().strip().split(\"\\n\")\n",
            "FileNotFoundError: [Errno 2] No such file or directory: 'yolo-coco/coco.names'\n"
          ]
        }
      ]
    },
    {
      "cell_type": "code",
      "source": [
        "!cat  /content/yolo-object-detection-liscence-plate-extract-use-ocr-put-in-excel-file/mainfile.py "
      ],
      "metadata": {
        "colab": {
          "base_uri": "https://localhost:8080/"
        },
        "id": "wAFqqG90GkAA",
        "outputId": "f8cc8225-602c-4a6d-a2dc-a7b4fcacbd92"
      },
      "execution_count": null,
      "outputs": [
        {
          "output_type": "stream",
          "name": "stdout",
          "text": [
            "import cv2\n",
            "import time\n",
            "import datetime\n",
            "import math\n",
            "from PIL import Image\n",
            "import numpy as np\n",
            "import argparse\n",
            "from yolo_license_detection import *\n",
            "'''\n",
            "USAGE\n",
            "python mainfile.py --image images/car.jpg\n",
            "'''\n",
            "ap = argparse.ArgumentParser()\n",
            "# construct the argument parse and parse the arguments\n",
            "    \n",
            "ap.add_argument(\"-i\", \"--image\",default='images/car.jpg', #required=True to make it mandatory\n",
            "            help=\"path to input image\")\n",
            "ap.add_argument(\"-y\", \"--yolo\", default='yolo-coco',\n",
            "            help=\"base path to YOLO directory\")\n",
            "ap.add_argument(\"-c\", \"--confidence\", type=float, default=0.5,\n",
            "            help=\"minimum probability to filter weak detections\")\n",
            "ap.add_argument(\"-t\", \"--threshold\", type=float, default=0.3,\n",
            "            help=\"threshold when applyong non-maxima suppression\")\n",
            "args = vars(ap.parse_args())\n",
            "\n",
            "yolo_license(args)\n",
            "\n"
          ]
        }
      ]
    },
    {
      "cell_type": "code",
      "source": [
        "%cd /content/yolo-object-detection-liscence-plate-extract-use-ocr-put-in-excel-file/\n"
      ],
      "metadata": {
        "colab": {
          "base_uri": "https://localhost:8080/"
        },
        "id": "qEZtabVaG9lK",
        "outputId": "6a2c8934-709d-474e-b9db-1ba8c0a342a4"
      },
      "execution_count": null,
      "outputs": [
        {
          "output_type": "stream",
          "name": "stdout",
          "text": [
            "/content/yolo-object-detection-liscence-plate-extract-use-ocr-put-in-excel-file\n"
          ]
        }
      ]
    },
    {
      "cell_type": "code",
      "source": [
        "!pwd"
      ],
      "metadata": {
        "colab": {
          "base_uri": "https://localhost:8080/"
        },
        "id": "a-72TL-bHUxO",
        "outputId": "531c4fbc-309e-4b9f-a267-ed44c1ed7c02"
      },
      "execution_count": null,
      "outputs": [
        {
          "output_type": "stream",
          "name": "stdout",
          "text": [
            "/content/yolo-object-detection-liscence-plate-extract-use-ocr-put-in-excel-file\n"
          ]
        }
      ]
    },
    {
      "cell_type": "code",
      "source": [
        "!ls"
      ],
      "metadata": {
        "colab": {
          "base_uri": "https://localhost:8080/"
        },
        "id": "OammGhizHkrw",
        "outputId": "0cecc86f-7ced-4340-e159-8c657912d94a"
      },
      "execution_count": null,
      "outputs": [
        {
          "output_type": "stream",
          "name": "stdout",
          "text": [
            "1.jpg\t\t\t\tmultiple_cars.py\n",
            "commands.txt\t\t\tocr.py\n",
            "frozen_inference_graph.pb\toutput\n",
            "getdataset.py\t\t\tpbpb.pbtxt\n",
            "images\t\t\t\t__pycache__\n",
            "Indian_Number_plates.json\tREADME.md\n",
            "__init__.py\t\t\tresults.PNG\n",
            "license_detection.py\t\twithout_ocr_multiple_cars.py\n",
            "mainfile.py\t\t\twithout_ocr.py\n",
            "mobilenet_classes.py\t\tyolo-coco\n",
            "mobilenet_vehicle_detection.py\tyolo_license_detection.py\n"
          ]
        }
      ]
    },
    {
      "cell_type": "code",
      "source": [
        "!python mainfile.py --image images/car.jpg"
      ],
      "metadata": {
        "colab": {
          "base_uri": "https://localhost:8080/"
        },
        "id": "CbcElSckHWsN",
        "outputId": "dd6d0146-0fd3-4a87-ceb8-f0ab4647aaf6"
      },
      "execution_count": null,
      "outputs": [
        {
          "output_type": "stream",
          "name": "stdout",
          "text": [
            "Traceback (most recent call last):\n",
            "  File \"mainfile.py\", line 26, in <module>\n",
            "    yolo_license(args)\n",
            "  File \"/content/yolo-object-detection-liscence-plate-extract-use-ocr-put-in-excel-file/yolo_license_detection.py\", line 24, in yolo_license\n",
            "    ln = [ln[i[0] - 1] for i in net.getUnconnectedOutLayers()]\n",
            "  File \"/content/yolo-object-detection-liscence-plate-extract-use-ocr-put-in-excel-file/yolo_license_detection.py\", line 24, in <listcomp>\n",
            "    ln = [ln[i[0] - 1] for i in net.getUnconnectedOutLayers()]\n",
            "IndexError: invalid index to scalar variable.\n"
          ]
        }
      ]
    },
    {
      "cell_type": "code",
      "source": [
        ""
      ],
      "metadata": {
        "id": "-hAnigzdHbdw"
      },
      "execution_count": null,
      "outputs": []
    }
  ]
}