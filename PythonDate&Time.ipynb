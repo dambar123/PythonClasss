{
 "cells": [
  {
   "cell_type": "code",
   "execution_count": 1,
   "id": "9f1f20ab",
   "metadata": {},
   "outputs": [
    {
     "name": "stdout",
     "output_type": "stream",
     "text": [
      "2022-07-03 18:18:27.845666\n"
     ]
    }
   ],
   "source": [
    "import datetime\n",
    "x = datetime.datetime.now()\n",
    "print(x)"
   ]
  },
  {
   "cell_type": "code",
   "execution_count": 4,
   "id": "dcf18e71",
   "metadata": {},
   "outputs": [
    {
     "name": "stdout",
     "output_type": "stream",
     "text": [
      "hello world\n",
      "hello world\n",
      "hello world\n",
      "hello world\n",
      "hello world\n",
      "0:00:00\n"
     ]
    }
   ],
   "source": [
    "import datetime\n",
    "x = datetime.datetime.now()\n",
    "for i in range(5):\n",
    "    print(\"hello world\")\n",
    "y = datetime.datetime.now()\n",
    "print(y-x)"
   ]
  },
  {
   "cell_type": "code",
   "execution_count": 6,
   "id": "91d0229c",
   "metadata": {},
   "outputs": [
    {
     "name": "stdout",
     "output_type": "stream",
     "text": [
      "enter a=12\n",
      "0:00:00.949925\n"
     ]
    }
   ],
   "source": [
    "import datetime\n",
    "x = datetime.datetime.now()\n",
    "a=input(\"enter a=\")\n",
    "y = datetime.datetime.now()\n",
    "print(y-x)"
   ]
  },
  {
   "cell_type": "code",
   "execution_count": 9,
   "id": "66f78e69",
   "metadata": {},
   "outputs": [
    {
     "name": "stdout",
     "output_type": "stream",
     "text": [
      "Fri Jun  1 00:00:00 2018\n"
     ]
    }
   ],
   "source": [
    "import datetime\n",
    "\n",
    "x = datetime.datetime(2018, 6, 1)\n",
    "\n",
    "print(x.strftime(\"%c\"))"
   ]
  },
  {
   "cell_type": "markdown",
   "id": "55b8cead",
   "metadata": {},
   "source": [
    "# OS package"
   ]
  },
  {
   "cell_type": "code",
   "execution_count": 10,
   "id": "8ba33186",
   "metadata": {},
   "outputs": [
    {
     "data": {
      "text/plain": [
       "['.ipynb_checkpoints',\n",
       " '6thClass.ipynb',\n",
       " 'Bonus.ipynb',\n",
       " 'data.txt',\n",
       " 'data1.csv',\n",
       " 'data1.txt',\n",
       " 'data2.csv',\n",
       " 'Dictionary-03-2.ipynb',\n",
       " 'Encapsulation_03_17.ipynb',\n",
       " 'Exception_handling_03_19.ipynb',\n",
       " 'FileHandling.ipynb',\n",
       " 'firstClass.ipynb',\n",
       " 'fourthClass.ipynb',\n",
       " 'loop5th.ipynb',\n",
       " 'OOP_03_14.ipynb',\n",
       " 'Pabdas_03_08.ipynb',\n",
       " 'panads.csv',\n",
       " 'panads.txt',\n",
       " 'phpmysql.ipynb',\n",
       " 'pythonclass2.ipynb',\n",
       " 'PythonDate&Time.ipynb',\n",
       " 'Pythonfunction_03_5.ipynb',\n",
       " 'pythonlist-2-30.ipynb',\n",
       " 'pythonlist2_31.ipynb',\n",
       " 'pythpon_Inheritance_03_16.ipynb',\n",
       " 'Returnfunction_03-06.ipynb',\n",
       " 'SecondClass.ipynb',\n",
       " 'Set-03-03.ipynb',\n",
       " 'string.ipynb',\n",
       " 'thirdClass.ipynb',\n",
       " 'Tuples-3-01.ipynb',\n",
       " 'whileLoop6th.ipynb']"
      ]
     },
     "execution_count": 10,
     "metadata": {},
     "output_type": "execute_result"
    }
   ],
   "source": [
    "import os\n",
    "os.listdir()"
   ]
  },
  {
   "cell_type": "code",
   "execution_count": null,
   "id": "22466fb1",
   "metadata": {},
   "outputs": [],
   "source": [
    "#  h.w. GIT download\n",
    "# beautiful soup  documentation"
   ]
  }
 ],
 "metadata": {
  "kernelspec": {
   "display_name": "Python 3 (ipykernel)",
   "language": "python",
   "name": "python3"
  },
  "language_info": {
   "codemirror_mode": {
    "name": "ipython",
    "version": 3
   },
   "file_extension": ".py",
   "mimetype": "text/x-python",
   "name": "python",
   "nbconvert_exporter": "python",
   "pygments_lexer": "ipython3",
   "version": "3.9.7"
  }
 },
 "nbformat": 4,
 "nbformat_minor": 5
}
