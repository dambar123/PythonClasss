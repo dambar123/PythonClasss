{
 "cells": [
  {
   "cell_type": "code",
   "execution_count": null,
   "id": "a451835b",
   "metadata": {},
   "outputs": [],
   "source": [
    "# Comprehensions:list,Dictionary"
   ]
  },
  {
   "cell_type": "code",
   "execution_count": 1,
   "id": "b9294359",
   "metadata": {},
   "outputs": [
    {
     "name": "stdout",
     "output_type": "stream",
     "text": [
      "[0, 1, 2, 3, 4, 5, 6, 7, 8, 9]\n"
     ]
    }
   ],
   "source": [
    "a=[i for i in range(10)]\n",
    "print(a)"
   ]
  },
  {
   "cell_type": "code",
   "execution_count": 2,
   "id": "d9b0cb92",
   "metadata": {},
   "outputs": [
    {
     "name": "stdout",
     "output_type": "stream",
     "text": [
      "[0, 2, 4, 6, 8]\n"
     ]
    }
   ],
   "source": [
    "a=[i for i in range(10) if i%2==0]\n",
    "print(a)"
   ]
  },
  {
   "cell_type": "code",
   "execution_count": 4,
   "id": "b1a69b0e",
   "metadata": {},
   "outputs": [
    {
     "name": "stdout",
     "output_type": "stream",
     "text": [
      "['Ball', 'Cat', 'Dog']\n"
     ]
    }
   ],
   "source": [
    "a=[\"apple\",\"Ball\",\"Cat\",\"fish\",\"Dog\"]\n",
    "b=[i for i in a if i[0].isupper()]\n",
    "print(b)"
   ]
  },
  {
   "cell_type": "code",
   "execution_count": 10,
   "id": "dd816b77",
   "metadata": {},
   "outputs": [
    {
     "name": "stdout",
     "output_type": "stream",
     "text": [
      "enter n=3\n",
      "enter x=45\n",
      "enter x=54\n",
      "enter x=45\n",
      "[45, 54, 45]\n"
     ]
    }
   ],
   "source": [
    "b=[]\n",
    "i=0\n",
    "n=int(input(\"enter n=\"))\n",
    "while i<n:\n",
    "    try:\n",
    "        x=int(input(\"enter x=\"))\n",
    "        b.append(x)\n",
    "        i=i+1\n",
    "    except:\n",
    "        print(\"you enter invalid value.\")\n",
    "        continue\n",
    "print(b)"
   ]
  },
  {
   "cell_type": "code",
   "execution_count": 11,
   "id": "371f9755",
   "metadata": {},
   "outputs": [
    {
     "name": "stdout",
     "output_type": "stream",
     "text": [
      "{2: 4, 3: 9, 4: 16, 5: 25}\n"
     ]
    }
   ],
   "source": [
    "d={i:i*i for i in range(2,6)}\n",
    "print(d)"
   ]
  },
  {
   "cell_type": "code",
   "execution_count": 12,
   "id": "f3d19068",
   "metadata": {},
   "outputs": [
    {
     "name": "stdout",
     "output_type": "stream",
     "text": [
      "{'apple': 'apple', 'Ball': 'ball', 'Cat': 'cat', 'fish': 'fish', 'Dog': 'dog'}\n"
     ]
    }
   ],
   "source": [
    "a=[\"apple\",\"Ball\",\"Cat\",\"fish\",\"Dog\"]\n",
    "d={i:i.lower() for i in a}\n",
    "print(d)"
   ]
  },
  {
   "cell_type": "code",
   "execution_count": 14,
   "id": "64837a54",
   "metadata": {},
   "outputs": [
    {
     "name": "stdout",
     "output_type": "stream",
     "text": [
      "{'apple': 'APPLE', 'Ball': 'BALL', 'Cat': 'CAT', 'fish': 'FISH', 'Dog': 'DOG'}\n"
     ]
    }
   ],
   "source": [
    "a=[\"apple\",\"Ball\",\"Cat\",\"fish\",\"Dog\"]\n",
    "d={i:i.upper() for i in a}\n",
    "print(d)"
   ]
  },
  {
   "cell_type": "code",
   "execution_count": null,
   "id": "195278bd",
   "metadata": {},
   "outputs": [],
   "source": []
  }
 ],
 "metadata": {
  "kernelspec": {
   "display_name": "Python 3 (ipykernel)",
   "language": "python",
   "name": "python3"
  },
  "language_info": {
   "codemirror_mode": {
    "name": "ipython",
    "version": 3
   },
   "file_extension": ".py",
   "mimetype": "text/x-python",
   "name": "python",
   "nbconvert_exporter": "python",
   "pygments_lexer": "ipython3",
   "version": "3.9.7"
  }
 },
 "nbformat": 4,
 "nbformat_minor": 5
}
