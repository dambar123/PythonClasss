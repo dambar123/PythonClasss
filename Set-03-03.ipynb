{
 "cells": [
  {
   "cell_type": "markdown",
   "id": "18326672",
   "metadata": {},
   "source": [
    "# Set\n",
    "   # -no indexing\n",
    "   #     -unordered\n",
    "   #      -no duplicate data\n",
    "   #      -mutable"
   ]
  },
  {
   "cell_type": "code",
   "execution_count": 1,
   "id": "f04fd7fc",
   "metadata": {},
   "outputs": [
    {
     "name": "stdout",
     "output_type": "stream",
     "text": [
      "{1, 2, 3, 4}\n",
      "<class 'set'>\n"
     ]
    }
   ],
   "source": [
    "a={1,2,3,4}\n",
    "print(a)\n",
    "print(type(a))"
   ]
  },
  {
   "cell_type": "code",
   "execution_count": 2,
   "id": "bf553b27",
   "metadata": {},
   "outputs": [
    {
     "name": "stdout",
     "output_type": "stream",
     "text": [
      "{'ball', 'apple', 'dog', 'cat'}\n"
     ]
    }
   ],
   "source": [
    "a={\"apple\",\"ball\", \"cat\", \"dog\"}\n",
    "print(a)"
   ]
  },
  {
   "cell_type": "code",
   "execution_count": 4,
   "id": "3004aadc",
   "metadata": {},
   "outputs": [
    {
     "name": "stdout",
     "output_type": "stream",
     "text": [
      "{1, 2, 3, 4, 5}\n"
     ]
    }
   ],
   "source": [
    "a={1,2,3,4,5,1,1,1,2,3,4,5,4,3,5,1}\n",
    "print(a)    # duplicate data can not be supported"
   ]
  },
  {
   "cell_type": "code",
   "execution_count": 5,
   "id": "86429558",
   "metadata": {},
   "outputs": [
    {
     "name": "stdout",
     "output_type": "stream",
     "text": [
      "[1, 2, 3, 4, 5]\n"
     ]
    }
   ],
   "source": [
    "a=[1,2,3,4,5,1,1,1,2,3,4,5,4,3,5,1]\n",
    "b=set(a)\n",
    "a=list(b)\n",
    "print(a)"
   ]
  },
  {
   "cell_type": "code",
   "execution_count": 6,
   "id": "4194fda1",
   "metadata": {},
   "outputs": [
    {
     "name": "stdout",
     "output_type": "stream",
     "text": [
      "{'fish', 'ball', 'apple', 'cat'}\n"
     ]
    }
   ],
   "source": [
    "a={'apple', \"ball\",\"cat\"}\n",
    "a.add(\"fish\")\n",
    "print(a)"
   ]
  },
  {
   "cell_type": "code",
   "execution_count": 7,
   "id": "3ebd996f",
   "metadata": {},
   "outputs": [
    {
     "name": "stdout",
     "output_type": "stream",
     "text": [
      "{'ball', 'cat'}\n"
     ]
    }
   ],
   "source": [
    "a={'apple', \"ball\",\"cat\"}\n",
    "a.remove(\"apple\")\n",
    "print(a)"
   ]
  },
  {
   "cell_type": "code",
   "execution_count": 8,
   "id": "44cce3b6",
   "metadata": {},
   "outputs": [
    {
     "name": "stdout",
     "output_type": "stream",
     "text": [
      "ball\n",
      "apple\n",
      "cat\n"
     ]
    }
   ],
   "source": [
    "a={'apple', \"ball\",\"cat\"}\n",
    "for i in a:\n",
    "    print(i)"
   ]
  },
  {
   "cell_type": "markdown",
   "id": "784b9ef5",
   "metadata": {},
   "source": [
    "# union"
   ]
  },
  {
   "cell_type": "code",
   "execution_count": 9,
   "id": "c1a87211",
   "metadata": {},
   "outputs": [
    {
     "data": {
      "text/plain": [
       "{' mina', 'Giya', 'babita', 'gita', 'hari', 'nita', 'ram', 'shyam', 'sita'}"
      ]
     },
     "execution_count": 9,
     "metadata": {},
     "output_type": "execute_result"
    }
   ],
   "source": [
    "ms={\"ram\",\"shyam\",\"hari\", \"Giya\",\"gita\",\"sita\"}\n",
    "apple={\"ram\",\" mina\", \"hari\", \"babita\",\"nita\"}\n",
    "ms.union(apple)"
   ]
  },
  {
   "cell_type": "markdown",
   "id": "0aed5c7e",
   "metadata": {},
   "source": [
    "# intersection"
   ]
  },
  {
   "cell_type": "code",
   "execution_count": 12,
   "id": "b082b6b1",
   "metadata": {},
   "outputs": [
    {
     "data": {
      "text/plain": [
       "{'hari', 'ram'}"
      ]
     },
     "execution_count": 12,
     "metadata": {},
     "output_type": "execute_result"
    }
   ],
   "source": [
    "ms={\"ram\",\"shyam\",\"hari\", \"Giya\",\"gita\",\"sita\"}\n",
    "apple={\"ram\",\" mina\", \"hari\", \"babita\",\"nita\"}\n",
    "ms.intersection(apple)"
   ]
  },
  {
   "cell_type": "markdown",
   "id": "39ab5755",
   "metadata": {},
   "source": [
    "# difference"
   ]
  },
  {
   "cell_type": "code",
   "execution_count": 14,
   "id": "b4e7b3a1",
   "metadata": {},
   "outputs": [
    {
     "data": {
      "text/plain": [
       "{'Giya', 'gita', 'shyam', 'sita'}"
      ]
     },
     "execution_count": 14,
     "metadata": {},
     "output_type": "execute_result"
    }
   ],
   "source": [
    "ms={\"ram\",\"shyam\",\"hari\", \"Giya\",\"gita\",\"sita\"}\n",
    "apple={\"ram\",\" mina\", \"hari\", \"babita\",\"nita\"}\n",
    "ms.difference(apple)"
   ]
  },
  {
   "cell_type": "code",
   "execution_count": 15,
   "id": "a962aeab",
   "metadata": {},
   "outputs": [
    {
     "data": {
      "text/plain": [
       "{'Giya', 'gita', 'shyam', 'sita'}"
      ]
     },
     "execution_count": 15,
     "metadata": {},
     "output_type": "execute_result"
    }
   ],
   "source": [
    "ms={\"ram\",\"shyam\",\"hari\", \"Giya\",\"gita\",\"sita\"}\n",
    "apple={\"ram\",\" mina\", \"hari\", \"babita\",\"nita\"}\n",
    "ms-apple"
   ]
  },
  {
   "cell_type": "code",
   "execution_count": 16,
   "id": "523e036f",
   "metadata": {},
   "outputs": [
    {
     "data": {
      "text/plain": [
       "{' mina', 'babita', 'nita'}"
      ]
     },
     "execution_count": 16,
     "metadata": {},
     "output_type": "execute_result"
    }
   ],
   "source": [
    "ms={\"ram\",\"shyam\",\"hari\", \"Giya\",\"gita\",\"sita\"}\n",
    "apple={\"ram\",\" mina\", \"hari\", \"babita\",\"nita\"}\n",
    "apple.difference(ms)"
   ]
  },
  {
   "cell_type": "markdown",
   "id": "9b9aedf9",
   "metadata": {},
   "source": [
    "# compliment"
   ]
  },
  {
   "cell_type": "code",
   "execution_count": 17,
   "id": "e7b95e1b",
   "metadata": {},
   "outputs": [
    {
     "data": {
      "text/plain": [
       "{'kishor', 'ramesh', 'yam'}"
      ]
     },
     "execution_count": 17,
     "metadata": {},
     "output_type": "execute_result"
    }
   ],
   "source": [
    "u={' mina', 'Giya', 'babita', 'gita', 'hari', 'nita', 'ram', 'shyam', 'sita','ramesh','kishor','yam'}\n",
    "ms={\"ram\",\"shyam\",\"hari\", \"Giya\",\"gita\",\"sita\"}\n",
    "apple={\"ram\",\" mina\", \"hari\", \"babita\",\"nita\"}\n",
    "u.difference(ms.union(apple))"
   ]
  },
  {
   "cell_type": "code",
   "execution_count": null,
   "id": "7e398880",
   "metadata": {},
   "outputs": [],
   "source": []
  }
 ],
 "metadata": {
  "kernelspec": {
   "display_name": "Python 3 (ipykernel)",
   "language": "python",
   "name": "python3"
  },
  "language_info": {
   "codemirror_mode": {
    "name": "ipython",
    "version": 3
   },
   "file_extension": ".py",
   "mimetype": "text/x-python",
   "name": "python",
   "nbconvert_exporter": "python",
   "pygments_lexer": "ipython3",
   "version": "3.9.7"
  }
 },
 "nbformat": 4,
 "nbformat_minor": 5
}
