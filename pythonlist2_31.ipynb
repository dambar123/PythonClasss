{
 "cells": [
  {
   "cell_type": "markdown",
   "id": "e202a286",
   "metadata": {},
   "source": [
    "# list inside list"
   ]
  },
  {
   "cell_type": "code",
   "execution_count": 1,
   "id": "e46de16a",
   "metadata": {},
   "outputs": [
    {
     "name": "stdout",
     "output_type": "stream",
     "text": [
      "[[1, 2, 3], [4, 5, 6], [7, 8, 9]]\n",
      "<class 'list'>\n"
     ]
    }
   ],
   "source": [
    "# list inside list\n",
    "a=[[1,2,3],\n",
    "  [4,5,6],\n",
    "  [7,8,9]]\n",
    "print(a)\n",
    "print(type(a))"
   ]
  },
  {
   "cell_type": "code",
   "execution_count": 2,
   "id": "8e0147bc",
   "metadata": {},
   "outputs": [
    {
     "name": "stdout",
     "output_type": "stream",
     "text": [
      "[['ram', 56, 'kathmandu'], ['shyam', 36, 'bhaktpur'], ['hari', 67, 'lalitpur']]\n"
     ]
    }
   ],
   "source": [
    "info=[['ram',56,'kathmandu'],\n",
    "     ['shyam',36,'bhaktpur'],\n",
    "     ['hari',67,'lalitpur']]\n",
    "print(info)"
   ]
  },
  {
   "cell_type": "code",
   "execution_count": 4,
   "id": "6d5583c7",
   "metadata": {},
   "outputs": [
    {
     "name": "stdout",
     "output_type": "stream",
     "text": [
      "enter n=2\n",
      "enter name=ram\n",
      "enter age=34\n",
      "enter add=surkhet\n",
      "enter name=shyam\n",
      "enter age=45\n",
      "enter add=dailekh\n",
      "[['ram', 34, 'surkhet'], ['shyam', 45, 'dailekh']]\n"
     ]
    }
   ],
   "source": [
    "data=[]\n",
    "n=int(input(\"enter n=\"))\n",
    "for i in range(n):\n",
    "    name=input(\"enter name=\")\n",
    "    age=int(input(\"enter age=\"))\n",
    "    add=input(\"enter add=\")\n",
    "    info=[name,age,add]\n",
    "    data.append(info)\n",
    "print(data)"
   ]
  },
  {
   "cell_type": "code",
   "execution_count": 5,
   "id": "d46bf471",
   "metadata": {},
   "outputs": [
    {
     "name": "stdout",
     "output_type": "stream",
     "text": [
      "['ram', 34, 'surkhet']\n",
      "['shyam', 45, 'dailekh']\n"
     ]
    }
   ],
   "source": [
    "for i in data:\n",
    "    print(i)"
   ]
  },
  {
   "cell_type": "code",
   "execution_count": 7,
   "id": "34536616",
   "metadata": {},
   "outputs": [
    {
     "data": {
      "text/plain": [
       "2"
      ]
     },
     "execution_count": 7,
     "metadata": {},
     "output_type": "execute_result"
    }
   ],
   "source": [
    "len(data)"
   ]
  },
  {
   "cell_type": "code",
   "execution_count": 11,
   "id": "ebb7fc44",
   "metadata": {},
   "outputs": [
    {
     "name": "stdout",
     "output_type": "stream",
     "text": [
      "enter name=ram\n",
      "['ram', 34, 'surkhet']\n"
     ]
    }
   ],
   "source": [
    "name=input(\"enter name=\")\n",
    "for i in data:\n",
    "    if name in i:\n",
    "        print(i)"
   ]
  },
  {
   "cell_type": "code",
   "execution_count": 12,
   "id": "0a0cedef",
   "metadata": {},
   "outputs": [
    {
     "name": "stdout",
     "output_type": "stream",
     "text": [
      "enter name=shyam\n",
      "['shyam', 45, 'dailekh']\n"
     ]
    }
   ],
   "source": [
    "name=input(\"enter name=\")\n",
    "for i in data:\n",
    "    if name in i:\n",
    "         print(i)"
   ]
  },
  {
   "cell_type": "code",
   "execution_count": 15,
   "id": "0581c20e",
   "metadata": {},
   "outputs": [
    {
     "name": "stdout",
     "output_type": "stream",
     "text": [
      "enter n=2\n",
      "enter name=fff\n",
      "enter age=23\n",
      "enter add=ggg\n",
      "enter name=iii\n",
      "enter age=45\n",
      "enter add=jjjj\n",
      "[['fff', 23, 'ggg'], ['iii', 45, 'jjjj']]\n"
     ]
    }
   ],
   "source": [
    "data=[]\n",
    "n=int(input(\"enter n=\"))\n",
    "for i in range(n):\n",
    "    name=input(\"enter name=\")\n",
    "    age=int(input(\"enter age=\"))\n",
    "    add=input(\"enter add=\")\n",
    "    info=[name,age,add]\n",
    "    data.append(info)\n",
    "print(data)"
   ]
  },
  {
   "cell_type": "markdown",
   "id": "2c03f4b9",
   "metadata": {},
   "source": [
    "# wap to delete duplicate rows having same name.\n",
    "# wap to create a list inside list with given rows and columns."
   ]
  },
  {
   "cell_type": "code",
   "execution_count": 8,
   "id": "5e340515",
   "metadata": {},
   "outputs": [
    {
     "ename": "TypeError",
     "evalue": "list indices must be integers or slices, not list",
     "output_type": "error",
     "traceback": [
      "\u001b[1;31m---------------------------------------------------------------------------\u001b[0m",
      "\u001b[1;31mTypeError\u001b[0m                                 Traceback (most recent call last)",
      "\u001b[1;32mC:\\Users\\MERIDI~1\\AppData\\Local\\Temp/ipykernel_16136/2997081314.py\u001b[0m in \u001b[0;36m<module>\u001b[1;34m\u001b[0m\n\u001b[0;32m      4\u001b[0m      [\"apple\",7,8,9,\"apple\"]]\n\u001b[0;32m      5\u001b[0m \u001b[1;32mfor\u001b[0m \u001b[0mi\u001b[0m \u001b[1;32min\u001b[0m \u001b[0ma\u001b[0m\u001b[1;33m:\u001b[0m\u001b[1;33m\u001b[0m\u001b[1;33m\u001b[0m\u001b[0m\n\u001b[1;32m----> 6\u001b[1;33m     \u001b[1;32mif\u001b[0m \u001b[0ma\u001b[0m\u001b[1;33m[\u001b[0m\u001b[0mi\u001b[0m\u001b[1;33m]\u001b[0m\u001b[1;33m!=\u001b[0m\u001b[1;34m\"apple\"\u001b[0m\u001b[1;33m:\u001b[0m\u001b[1;33m\u001b[0m\u001b[1;33m\u001b[0m\u001b[0m\n\u001b[0m\u001b[0;32m      7\u001b[0m         \u001b[0mdata\u001b[0m\u001b[1;33m.\u001b[0m\u001b[0mappend\u001b[0m\u001b[1;33m(\u001b[0m\u001b[0mi\u001b[0m\u001b[1;33m)\u001b[0m\u001b[1;33m\u001b[0m\u001b[1;33m\u001b[0m\u001b[0m\n\u001b[0;32m      8\u001b[0m \u001b[0mprint\u001b[0m\u001b[1;33m(\u001b[0m\u001b[0mdata\u001b[0m\u001b[1;33m)\u001b[0m\u001b[1;33m\u001b[0m\u001b[1;33m\u001b[0m\u001b[0m\n",
      "\u001b[1;31mTypeError\u001b[0m: list indices must be integers or slices, not list"
     ]
    }
   ],
   "source": [
    "data=[]\n",
    "a=[[\"apple\",\"ball\",\"cat\",\"dog\",\"apple\"],\n",
    "     [\"apple\",3,4,5,\"apple\"],\n",
    "     [\"apple\",7,8,9,\"apple\"]]\n",
    "for i in a:\n",
    "    if a[i]!=\"apple\":\n",
    "        data.append(i)\n",
    "print(data)"
   ]
  },
  {
   "cell_type": "code",
   "execution_count": 1,
   "id": "7bcf9873",
   "metadata": {},
   "outputs": [
    {
     "name": "stdout",
     "output_type": "stream",
     "text": [
      "enter value of n=2\n",
      "enter name=dambar\n",
      "enter age=23\n",
      "enter address=dailekh\n",
      "enter name=ram\n",
      "enter age=34\n",
      "enter address=surkhet\n",
      "[['dambar', 23, 'dailekh'], ['ram', 34, 'surkhet']]\n"
     ]
    }
   ],
   "source": [
    "d=[]\n",
    "n=int(input(\"enter value of n=\"))\n",
    "for i in range(n):\n",
    "    name=input(\"enter name=\")\n",
    "    age=int(input(\"enter age=\"))\n",
    "    add=input(\"enter address=\")\n",
    "    info=[name, age, add]\n",
    "    d.append(info)\n",
    "print(d)"
   ]
  },
  {
   "cell_type": "code",
   "execution_count": null,
   "id": "b32f58ab",
   "metadata": {},
   "outputs": [],
   "source": []
  }
 ],
 "metadata": {
  "kernelspec": {
   "display_name": "Python 3 (ipykernel)",
   "language": "python",
   "name": "python3"
  },
  "language_info": {
   "codemirror_mode": {
    "name": "ipython",
    "version": 3
   },
   "file_extension": ".py",
   "mimetype": "text/x-python",
   "name": "python",
   "nbconvert_exporter": "python",
   "pygments_lexer": "ipython3",
   "version": "3.9.7"
  }
 },
 "nbformat": 4,
 "nbformat_minor": 5
}
