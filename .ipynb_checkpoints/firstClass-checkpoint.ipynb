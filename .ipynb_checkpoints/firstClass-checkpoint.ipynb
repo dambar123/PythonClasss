{
 "cells": [
  {
   "cell_type": "code",
   "execution_count": 1,
   "id": "d45cf9b5",
   "metadata": {},
   "outputs": [
    {
     "name": "stdout",
     "output_type": "stream",
     "text": [
      "10\n"
     ]
    }
   ],
   "source": [
    "a= 10\n",
    "print(a)"
   ]
  },
  {
   "cell_type": "code",
   "execution_count": 2,
   "id": "97126816",
   "metadata": {},
   "outputs": [
    {
     "name": "stdout",
     "output_type": "stream",
     "text": [
      "10\n",
      "12.5\n",
      "hello world\n",
      "true\n"
     ]
    }
   ],
   "source": [
    "a=10\n",
    "b=12.5\n",
    "c=\"hello world\"\n",
    "d=\"true\"\n",
    "print(a)\n",
    "print(b)\n",
    "print(c)\n",
    "print(d)"
   ]
  },
  {
   "cell_type": "code",
   "execution_count": 3,
   "id": "3c320832",
   "metadata": {},
   "outputs": [
    {
     "name": "stdout",
     "output_type": "stream",
     "text": [
      "<class 'int'>\n",
      "<class 'float'>\n",
      "<class 'str'>\n",
      "<class 'str'>\n"
     ]
    }
   ],
   "source": [
    "print(type(a))\n",
    "print(type(b))\n",
    "print(type(c))\n",
    "print(type(d))"
   ]
  },
  {
   "cell_type": "code",
   "execution_count": null,
   "id": "e9ca590d",
   "metadata": {},
   "outputs": [],
   "source": [
    "# + - * / % // **"
   ]
  },
  {
   "cell_type": "code",
   "execution_count": 4,
   "id": "4420d1d3",
   "metadata": {},
   "outputs": [
    {
     "name": "stdout",
     "output_type": "stream",
     "text": [
      "121\n"
     ]
    }
   ],
   "source": [
    "a=11\n",
    "b=2\n",
    "c=a**b\n",
    "print(c)"
   ]
  },
  {
   "cell_type": "code",
   "execution_count": 5,
   "id": "5556f030",
   "metadata": {},
   "outputs": [
    {
     "name": "stdout",
     "output_type": "stream",
     "text": [
      "5\n"
     ]
    }
   ],
   "source": [
    "a=11\n",
    "b=2\n",
    "c=a//b\n",
    "print(c)"
   ]
  },
  {
   "cell_type": "code",
   "execution_count": 6,
   "id": "e7aba8a8",
   "metadata": {},
   "outputs": [
    {
     "name": "stdout",
     "output_type": "stream",
     "text": [
      "13\n"
     ]
    }
   ],
   "source": [
    "a=11\n",
    "b=2\n",
    "c=a+b\n",
    "print(c)"
   ]
  },
  {
   "cell_type": "code",
   "execution_count": 7,
   "id": "0aab41df",
   "metadata": {},
   "outputs": [
    {
     "name": "stdout",
     "output_type": "stream",
     "text": [
      "-9\n"
     ]
    }
   ],
   "source": [
    "a=11\n",
    "b=2\n",
    "c=b-a\n",
    "print(c)"
   ]
  },
  {
   "cell_type": "code",
   "execution_count": 8,
   "id": "62ece259",
   "metadata": {},
   "outputs": [
    {
     "name": "stdout",
     "output_type": "stream",
     "text": [
      "2075.0000000000005\n"
     ]
    }
   ],
   "source": [
    "p=10000\n",
    "t=2.5\n",
    "r=8.3\n",
    "i=p*t*r/100\n",
    "print(i)"
   ]
  },
  {
   "cell_type": "code",
   "execution_count": 9,
   "id": "926cafc2",
   "metadata": {},
   "outputs": [
    {
     "name": "stdout",
     "output_type": "stream",
     "text": [
      "enter the value of a=20\n",
      "enter the value of b=34\n",
      "54\n"
     ]
    }
   ],
   "source": [
    "a = int(input(\"enter the value of a=\"))\n",
    "b = int(input(\"enter the value of b=\"))\n",
    "c= a+b\n",
    "print(c)"
   ]
  },
  {
   "cell_type": "code",
   "execution_count": null,
   "id": "60abec75",
   "metadata": {},
   "outputs": [],
   "source": [
    "#1. wap to calculate the value of i in  i= p*t*r/100"
   ]
  },
  {
   "cell_type": "code",
   "execution_count": 1,
   "id": "6d454933",
   "metadata": {},
   "outputs": [
    {
     "name": "stdout",
     "output_type": "stream",
     "text": [
      "enter the value of p=20000\n",
      "enter the value of t=3\n",
      "enter the value of r=3\n",
      "the value of i is:\n"
     ]
    }
   ],
   "source": [
    "p=int(input(\"enter the value of p=\"))\n",
    "t=int(input(\"enter the value of t=\"))\n",
    "r=int(input(\"enter the value of r=\"))\n",
    "i=p*t*r/100\n",
    "print(\"the value of i is:\", i)"
   ]
  },
  {
   "cell_type": "code",
   "execution_count": null,
   "id": "2e5e5b7d",
   "metadata": {},
   "outputs": [],
   "source": []
  }
 ],
 "metadata": {
  "kernelspec": {
   "display_name": "Python 3 (ipykernel)",
   "language": "python",
   "name": "python3"
  },
  "language_info": {
   "codemirror_mode": {
    "name": "ipython",
    "version": 3
   },
   "file_extension": ".py",
   "mimetype": "text/x-python",
   "name": "python",
   "nbconvert_exporter": "python",
   "pygments_lexer": "ipython3",
   "version": "3.9.7"
  }
 },
 "nbformat": 4,
 "nbformat_minor": 5
}
