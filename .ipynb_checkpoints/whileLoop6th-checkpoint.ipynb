{
 "cells": [
  {
   "cell_type": "code",
   "execution_count": 2,
   "id": "eb2e03d8",
   "metadata": {},
   "outputs": [],
   "source": [
    "# while loop(initialize, while condition& increment/decrement)\n",
    "  # while<condition>:\n",
    "    #    <operations>:"
   ]
  },
  {
   "cell_type": "code",
   "execution_count": 3,
   "id": "84b2d0b6",
   "metadata": {},
   "outputs": [
    {
     "name": "stdout",
     "output_type": "stream",
     "text": [
      "0\n",
      "1\n",
      "2\n",
      "3\n",
      "4\n"
     ]
    }
   ],
   "source": [
    "a=0\n",
    "while a<5:\n",
    "    print(a)\n",
    "    a=a+1"
   ]
  },
  {
   "cell_type": "code",
   "execution_count": 4,
   "id": "92aefbba",
   "metadata": {},
   "outputs": [
    {
     "name": "stdout",
     "output_type": "stream",
     "text": [
      "hello world\n",
      "hello world\n",
      "hello world\n",
      "hello world\n",
      "hello world\n"
     ]
    }
   ],
   "source": [
    "a=0\n",
    "while a<5:\n",
    "    print(\"hello world\")\n",
    "    a=a+1"
   ]
  },
  {
   "cell_type": "code",
   "execution_count": 5,
   "id": "69a857a4",
   "metadata": {},
   "outputs": [
    {
     "name": "stdout",
     "output_type": "stream",
     "text": [
      "5\n",
      "4\n",
      "3\n",
      "2\n",
      "1\n"
     ]
    }
   ],
   "source": [
    "a=5\n",
    "while a>0:\n",
    "    print(a)\n",
    "    a=a-1"
   ]
  },
  {
   "cell_type": "code",
   "execution_count": 7,
   "id": "f8dfbc2d",
   "metadata": {},
   "outputs": [
    {
     "name": "stdout",
     "output_type": "stream",
     "text": [
      "enter x=12\n",
      "12 * 1 = 12\n",
      "12 * 2 = 24\n",
      "12 * 3 = 36\n",
      "12 * 4 = 48\n",
      "12 * 5 = 60\n",
      "12 * 6 = 72\n",
      "12 * 7 = 84\n",
      "12 * 8 = 96\n",
      "12 * 9 = 108\n",
      "12 * 10 = 120\n"
     ]
    }
   ],
   "source": [
    "i=1\n",
    "x=int(input(\"enter x=\"))\n",
    "while i<=10:\n",
    "    print(x,\"*\",i,\"=\",i*x)\n",
    "    i+=1"
   ]
  },
  {
   "cell_type": "code",
   "execution_count": 8,
   "id": "c7ea7852",
   "metadata": {},
   "outputs": [
    {
     "name": "stdout",
     "output_type": "stream",
     "text": [
      "enter n=2\n",
      " enter x=dambar bista\n",
      " enter x=bahadur\n",
      " dambar bista bahadur\n"
     ]
    }
   ],
   "source": [
    "i=0\n",
    "s=str()\n",
    "n=int(input(\"enter n=\"))\n",
    "while i<n:\n",
    "    x=input(\" enter x=\")\n",
    "    s=s+\" \"+x\n",
    "    i=i+1\n",
    "print(s)"
   ]
  },
  {
   "cell_type": "code",
   "execution_count": 1,
   "id": "6c361cb1",
   "metadata": {},
   "outputs": [
    {
     "name": "stdout",
     "output_type": "stream",
     "text": [
      "enter n=2\n",
      " enter x=4\n",
      " enter x=6\n",
      "10\n"
     ]
    }
   ],
   "source": [
    "i=0\n",
    "s=0\n",
    "n=int(input(\"enter n=\"))\n",
    "while i<n:\n",
    "    x=int(input(\" enter x=\"))\n",
    "    s=s+x\n",
    "    i=i+1\n",
    "print(s)"
   ]
  },
  {
   "cell_type": "code",
   "execution_count": 1,
   "id": "1027f14a",
   "metadata": {},
   "outputs": [
    {
     "name": "stdout",
     "output_type": "stream",
     "text": [
      "dlrow wolleh"
     ]
    }
   ],
   "source": [
    "a=\"hellow world\"\n",
    "l=len(a)-1\n",
    "for i in range(l,-1,-1):\n",
    "    print(a[i], end=\"\")"
   ]
  },
  {
   "cell_type": "code",
   "execution_count": 2,
   "id": "aa67912b",
   "metadata": {},
   "outputs": [
    {
     "name": "stdout",
     "output_type": "stream",
     "text": [
      "dambar"
     ]
    }
   ],
   "source": [
    "i=0\n",
    "a=\"dambar\"\n",
    "l=len(a)\n",
    "while i<l:\n",
    "    print(a[i], end=\"\")\n",
    "    i=i+1"
   ]
  },
  {
   "cell_type": "code",
   "execution_count": 3,
   "id": "620784b0",
   "metadata": {},
   "outputs": [
    {
     "name": "stdout",
     "output_type": "stream",
     "text": [
      "dlrow olleh"
     ]
    }
   ],
   "source": [
    "a=\"hello world\"\n",
    "i=-1\n",
    "l=len(a)-1\n",
    "while l>i:\n",
    "    print(a[l], end=\"\")\n",
    "    l=l-1"
   ]
  },
  {
   "cell_type": "code",
   "execution_count": 4,
   "id": "16b279e3",
   "metadata": {},
   "outputs": [
    {
     "name": "stdout",
     "output_type": "stream",
     "text": [
      "hello"
     ]
    }
   ],
   "source": [
    "# write a program where control() statement using while loop.\n",
    "a=\"hello world\"\n",
    "l= len(a)\n",
    "i=0\n",
    "while i<l:\n",
    "    if a[i]==\" \":\n",
    "        break\n",
    "    print(a[i], end=\"\")\n",
    "    i= i+1"
   ]
  },
  {
   "cell_type": "code",
   "execution_count": 1,
   "id": "58c53504",
   "metadata": {},
   "outputs": [
    {
     "name": "stdout",
     "output_type": "stream",
     "text": [
      "helloworld"
     ]
    }
   ],
   "source": [
    "a=\"hello world\"\n",
    "l= len(a)\n",
    "i=0\n",
    "while i<l:\n",
    "    if a[i]==\" \":\n",
    "        i= i+1\n",
    "        continue\n",
    "    print(a[i], end=\"\")\n",
    "    i= i+1\n",
    "    "
   ]
  },
  {
   "cell_type": "code",
   "execution_count": 2,
   "id": "6a60f426",
   "metadata": {},
   "outputs": [
    {
     "name": "stdout",
     "output_type": "stream",
     "text": [
      "enter n=2\n"
     ]
    }
   ],
   "source": [
    "# write a  program to create a billing system \n",
    "s=0\n",
    "n= int(input(\"enter n=\"))\n",
    "i=0\n",
    "for i in range(n):\n",
    "    name=input(\"enter name=\")\n",
    "    price=int(input(\"enter price=\"))\n",
    "    quantity=int(input(\"enter quantity=\"))\n",
    "    total=int(input(\"enter total=\"))\n",
    "    s=s+\" \"+name+\" \" + price +\" \"+ quantity + \" \"+ total + \"\\n\"\n",
    "    print(s)\n",
    "    "
   ]
  },
  {
   "cell_type": "code",
   "execution_count": null,
   "id": "25bda548",
   "metadata": {},
   "outputs": [],
   "source": []
  }
 ],
 "metadata": {
  "kernelspec": {
   "display_name": "Python 3 (ipykernel)",
   "language": "python",
   "name": "python3"
  },
  "language_info": {
   "codemirror_mode": {
    "name": "ipython",
    "version": 3
   },
   "file_extension": ".py",
   "mimetype": "text/x-python",
   "name": "python",
   "nbconvert_exporter": "python",
   "pygments_lexer": "ipython3",
   "version": "3.9.7"
  }
 },
 "nbformat": 4,
 "nbformat_minor": 5
}
