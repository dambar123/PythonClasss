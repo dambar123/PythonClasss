{
 "cells": [
  {
   "cell_type": "markdown",
   "id": "444bb5e5",
   "metadata": {},
   "source": [
    "# creating a class "
   ]
  },
  {
   "cell_type": "code",
   "execution_count": null,
   "id": "ff70e888",
   "metadata": {},
   "outputs": [],
   "source": [
    "# class <class_name>:\n",
    "#     <method>\n",
    "#     <attributes>\n",
    "    \n",
    "# obj=<class_name>()"
   ]
  },
  {
   "cell_type": "code",
   "execution_count": 1,
   "id": "44cec810",
   "metadata": {},
   "outputs": [
    {
     "name": "stdout",
     "output_type": "stream",
     "text": [
      "hello world\n"
     ]
    }
   ],
   "source": [
    "class Hello:                   #class\n",
    "    print(\"hello world\")\n",
    "obj=Hello()                     #object"
   ]
  },
  {
   "cell_type": "code",
   "execution_count": 3,
   "id": "b32b5927",
   "metadata": {},
   "outputs": [
    {
     "name": "stdout",
     "output_type": "stream",
     "text": [
      "hello world\n"
     ]
    }
   ],
   "source": [
    "class Hello:\n",
    "    def hello(self):\n",
    "        print(\"hello world\")\n",
    "obj=Hello()\n",
    "obj.hello()"
   ]
  },
  {
   "cell_type": "code",
   "execution_count": 5,
   "id": "31ba9578",
   "metadata": {},
   "outputs": [
    {
     "name": "stdout",
     "output_type": "stream",
     "text": [
      "80\n",
      "1656\n"
     ]
    }
   ],
   "source": [
    "class Cal:\n",
    "    def area(self):\n",
    "        l=10\n",
    "        b=8\n",
    "        a=l*b\n",
    "        print(a)\n",
    "    def volume(self):\n",
    "        l=23\n",
    "        b=12\n",
    "        h=6\n",
    "        v=l*b*h\n",
    "        print(v)\n",
    "obj=Cal()\n",
    "obj.area()\n",
    "obj.volume()"
   ]
  },
  {
   "cell_type": "code",
   "execution_count": 10,
   "id": "3d762461",
   "metadata": {},
   "outputs": [
    {
     "name": "stdout",
     "output_type": "stream",
     "text": [
      "80\n",
      "1656\n"
     ]
    }
   ],
   "source": [
    "class Cal:\n",
    "    @staticmethod\n",
    "    def area():\n",
    "        l=10\n",
    "        b=8\n",
    "        a=l*b\n",
    "        print(a)\n",
    "    @staticmethod\n",
    "    def volume():\n",
    "        l=23\n",
    "        b=12\n",
    "        h=6\n",
    "        v=l*b*h\n",
    "        print(v)\n",
    "obj=Cal()\n",
    "obj.area()\n",
    "obj.volume()"
   ]
  },
  {
   "cell_type": "code",
   "execution_count": 11,
   "id": "41eb7b68",
   "metadata": {},
   "outputs": [
    {
     "name": "stdout",
     "output_type": "stream",
     "text": [
      "50\n",
      "240\n"
     ]
    }
   ],
   "source": [
    "class Cal:\n",
    "    def area(self,l,b):\n",
    "        a=l*b\n",
    "        print(a)\n",
    "    def volume(self,l,b,h):\n",
    "        v=l*b*h\n",
    "        print(v)\n",
    "obj=Cal()\n",
    "obj.area(10,5)\n",
    "obj.volume(10,6,4)"
   ]
  },
  {
   "cell_type": "code",
   "execution_count": 12,
   "id": "4f1c1ee7",
   "metadata": {},
   "outputs": [
    {
     "data": {
      "text/plain": [
       "(50, 300)"
      ]
     },
     "execution_count": 12,
     "metadata": {},
     "output_type": "execute_result"
    }
   ],
   "source": [
    "class Cal:\n",
    "    def cal(self,l,b,h):\n",
    "        a=l*b\n",
    "        v=a*h\n",
    "        return a,v\n",
    "obj=Cal()\n",
    "obj.cal(10,5,6)"
   ]
  },
  {
   "cell_type": "code",
   "execution_count": 16,
   "id": "69a25c39",
   "metadata": {},
   "outputs": [
    {
     "name": "stdout",
     "output_type": "stream",
     "text": [
      "143\n",
      "858\n"
     ]
    }
   ],
   "source": [
    "class Cal:\n",
    "    def __init__(self,l,b,h):\n",
    "        self.l=l\n",
    "        self.b=b\n",
    "        self.h=h\n",
    "    def area(self):\n",
    "        a=self.l*self.b\n",
    "        print(a)\n",
    "    def volume(self):\n",
    "        v=self.l*self.b*self.h\n",
    "        print(v)\n",
    "        \n",
    "obj=Cal(13,11,6)\n",
    "obj.area()\n",
    "obj.volume()"
   ]
  },
  {
   "cell_type": "code",
   "execution_count": 17,
   "id": "030e2d76",
   "metadata": {},
   "outputs": [
    {
     "name": "stdout",
     "output_type": "stream",
     "text": [
      "143\n",
      "858\n"
     ]
    }
   ],
   "source": [
    "class Area:\n",
    "    def __init__(self,l,b):\n",
    "        self.l=l\n",
    "        self.b=b\n",
    "    def area(self):\n",
    "        a=self.l*self.b\n",
    "        print(a)\n",
    "class Volume:\n",
    "    def __init__(self,l,b,h):\n",
    "        self.l=l\n",
    "        self.b=b\n",
    "        self.h=h\n",
    "    def volume(self):\n",
    "        v=self.l*self.b*self.h\n",
    "        print(v)\n",
    "obj1=Area(13,11)\n",
    "obj2=Volume(45,23,12)\n",
    "obj1.area()\n",
    "obj.volume()\n",
    "    "
   ]
  },
  {
   "cell_type": "code",
   "execution_count": null,
   "id": "2c706656",
   "metadata": {},
   "outputs": [],
   "source": []
  }
 ],
 "metadata": {
  "kernelspec": {
   "display_name": "Python 3 (ipykernel)",
   "language": "python",
   "name": "python3"
  },
  "language_info": {
   "codemirror_mode": {
    "name": "ipython",
    "version": 3
   },
   "file_extension": ".py",
   "mimetype": "text/x-python",
   "name": "python",
   "nbconvert_exporter": "python",
   "pygments_lexer": "ipython3",
   "version": "3.9.7"
  }
 },
 "nbformat": 4,
 "nbformat_minor": 5
}
