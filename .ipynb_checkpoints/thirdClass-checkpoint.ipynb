{
 "cells": [
  {
   "cell_type": "code",
   "execution_count": null,
   "id": "7795a19e",
   "metadata": {},
   "outputs": [],
   "source": [
    "# comparision operator, if_else statement "
   ]
  },
  {
   "cell_type": "code",
   "execution_count": null,
   "id": "bf0cc287",
   "metadata": {},
   "outputs": [],
   "source": [
    "if<condition>:\n",
    "   <operation>\n",
    "    \n",
    "elif<condition>:\n",
    "    <operation>\n",
    "    \n",
    "else:\n",
    "    <operation>"
   ]
  },
  {
   "cell_type": "code",
   "execution_count": 7,
   "id": "16b5f771",
   "metadata": {},
   "outputs": [
    {
     "name": "stdout",
     "output_type": "stream",
     "text": [
      "enter the value of a=12\n",
      "a is even\n"
     ]
    }
   ],
   "source": [
    "a=int(input(\"enter the value of a=\"))\n",
    "if a%2==0:\n",
    "    print(\"a is even\")\n",
    "else:\n",
    "    print(\"a is odd\")"
   ]
  },
  {
   "cell_type": "code",
   "execution_count": 1,
   "id": "8e4b8f00",
   "metadata": {},
   "outputs": [
    {
     "name": "stdout",
     "output_type": "stream",
     "text": [
      "enter the value of a=12\n",
      "enter the value of b=12\n",
      "a and b both are equal\n"
     ]
    }
   ],
   "source": [
    "a=int(input(\"enter the value of a=\"))\n",
    "b=int(input(\"enter the value of b=\"))\n",
    "if a>b:\n",
    "    print(\"a is greater than b \")\n",
    "elif b>a:\n",
    "    print(\"b is greater than a \")\n",
    "else:\n",
    "    print(\"a and b both are equal\")"
   ]
  },
  {
   "cell_type": "code",
   "execution_count": 5,
   "id": "b23b51f5",
   "metadata": {},
   "outputs": [
    {
     "name": "stdout",
     "output_type": "stream",
     "text": [
      "enter the name=suman\n",
      "enter the marks of physics=40\n",
      "enter the marks of chemistry=50\n",
      "enter the marks of english=60\n",
      "enter the marks of math=70\n",
      " the average marks is= 44.0\n",
      "F grade\n"
     ]
    }
   ],
   "source": [
    "name=input(\"enter the name=\")\n",
    "physics=int(input(\"enter the marks of physics=\"))\n",
    "chemistry=int(input(\"enter the marks of chemistry=\"))\n",
    "english=int(input(\"enter the marks of english=\"))\n",
    "math=int(input(\"enter the marks of math=\"))\n",
    "total=physics+chemistry+english+math\n",
    "per=total/5\n",
    "print(\" the average marks is=\",per)\n",
    "if per >=80:\n",
    "    print(\"A grade\")\n",
    "elif per >=60:\n",
    "    print(\"B grade\")\n",
    "elif per >=45:\n",
    "    print(\"C grade\")\n",
    "else:\n",
    "    print(\"F grade\")"
   ]
  },
  {
   "cell_type": "code",
   "execution_count": 8,
   "id": "a45d84dd",
   "metadata": {},
   "outputs": [
    {
     "name": "stdout",
     "output_type": "stream",
     "text": [
      "enter the value of a=12\n",
      "enter the value of b=12\n",
      "enter 1 or 2 or 3 or 42\n",
      "0\n"
     ]
    }
   ],
   "source": [
    "# wap to create a calculator \n",
    "a= int(input(\"enter the value of a=\"))\n",
    "b= int(input(\"enter the value of b=\"))\n",
    "o= (input(\"enter 1 or 2 or 3 or 4\"))\n",
    "if o==\"1\":\n",
    "    print(a+b)\n",
    "elif o==\"2\":\n",
    "    print(a-b)\n",
    "elif o==\"3\":\n",
    "    print(a*b)\n",
    "elif (o==\"4\") and (b!=0):\n",
    "    print(a/b)\n",
    "else:\n",
    "    print(\"invalid operator\")"
   ]
  },
  {
   "cell_type": "code",
   "execution_count": null,
   "id": "ba5b4f43",
   "metadata": {},
   "outputs": [],
   "source": []
  }
 ],
 "metadata": {
  "kernelspec": {
   "display_name": "Python 3 (ipykernel)",
   "language": "python",
   "name": "python3"
  },
  "language_info": {
   "codemirror_mode": {
    "name": "ipython",
    "version": 3
   },
   "file_extension": ".py",
   "mimetype": "text/x-python",
   "name": "python",
   "nbconvert_exporter": "python",
   "pygments_lexer": "ipython3",
   "version": "3.9.7"
  }
 },
 "nbformat": 4,
 "nbformat_minor": 5
}
