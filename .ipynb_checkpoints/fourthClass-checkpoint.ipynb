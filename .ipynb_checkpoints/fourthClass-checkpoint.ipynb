{
 "cells": [
  {
   "cell_type": "code",
   "execution_count": 4,
   "id": "e707a5c9",
   "metadata": {},
   "outputs": [
    {
     "name": "stdout",
     "output_type": "stream",
     "text": [
      "enter the value of a=7\n",
      "the value of a is odd.\n"
     ]
    }
   ],
   "source": [
    "#nested if \n",
    "a= int(input(\"enter the value of a=\"))\n",
    "if a%2==0:\n",
    "    if a>0:\n",
    "        print(\"the value of a is even and greater than zero.\")\n",
    "    else:\n",
    "        print(\"the value of a is even and smaller than zero.\")\n",
    "else:\n",
    "    print(\"the value of a is odd.\")\n"
   ]
  },
  {
   "cell_type": "code",
   "execution_count": 5,
   "id": "53a6b612",
   "metadata": {},
   "outputs": [
    {
     "name": "stdout",
     "output_type": "stream",
     "text": [
      "enter the value of a=12\n",
      "enter the value of b=2\n",
      "enter 1 or 2 or 3 or 4 = 4\n",
      "6.0\n"
     ]
    }
   ],
   "source": [
    "# wap to create a calculator \n",
    "a= int(input(\"enter the value of a=\"))\n",
    "b= int(input(\"enter the value of b=\"))\n",
    "o= (input(\"enter 1 or 2 or 3 or 4 = \"))\n",
    "if o==\"1\":\n",
    "    print(a+b)\n",
    "elif o==\"2\":\n",
    "    print(a-b)\n",
    "elif o==\"3\":\n",
    "    print(a*b)\n",
    "elif (o==\"4\"):\n",
    "    if(b!=0):\n",
    "         print(a/b)\n",
    "    else:\n",
    "        print(\"The value of b can not be zero.\")\n",
    "else:\n",
    "    print(\"invalid operator\")"
   ]
  },
  {
   "cell_type": "code",
   "execution_count": 6,
   "id": "79bf5860",
   "metadata": {},
   "outputs": [
    {
     "name": "stdout",
     "output_type": "stream",
     "text": [
      "enter the actual price=70\n",
      "enter the selling price=45\n",
      "the amount of profit is= 25.0\n"
     ]
    }
   ],
   "source": [
    "#wap to calculate the profit and loss \n",
    "a=float(input(\"enter the actual price=\"))\n",
    "b=float(input(\"enter the selling price=\"))\n",
    "if a>b:\n",
    "    profit=a-b\n",
    "    print(\"the amount of profit is=\",profit)\n",
    "elif a<b:\n",
    "    loss=b-a\n",
    "    print(\"the amount of loss is=\",loss)\n",
    "else:\n",
    "    print(\"no profit no loss.\")"
   ]
  },
  {
   "cell_type": "code",
   "execution_count": null,
   "id": "6ee55004",
   "metadata": {},
   "outputs": [],
   "source": []
  }
 ],
 "metadata": {
  "kernelspec": {
   "display_name": "Python 3 (ipykernel)",
   "language": "python",
   "name": "python3"
  },
  "language_info": {
   "codemirror_mode": {
    "name": "ipython",
    "version": 3
   },
   "file_extension": ".py",
   "mimetype": "text/x-python",
   "name": "python",
   "nbconvert_exporter": "python",
   "pygments_lexer": "ipython3",
   "version": "3.9.7"
  }
 },
 "nbformat": 4,
 "nbformat_minor": 5
}
