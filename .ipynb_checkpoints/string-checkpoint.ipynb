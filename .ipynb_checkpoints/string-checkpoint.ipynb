{
 "cells": [
  {
   "cell_type": "code",
   "execution_count": null,
   "id": "11fa279f",
   "metadata": {},
   "outputs": [],
   "source": [
    "#string\n",
    "  # -datatype\n",
    "    # - sequence of character\n",
    "    #- immutable\n",
    "    "
   ]
  },
  {
   "cell_type": "code",
   "execution_count": 1,
   "id": "9517e3b9",
   "metadata": {},
   "outputs": [
    {
     "name": "stdout",
     "output_type": "stream",
     "text": [
      "hello world\n",
      "<class 'str'>\n"
     ]
    }
   ],
   "source": [
    "a=\"hello world\"\n",
    "print(a)\n",
    "print(type(a))"
   ]
  },
  {
   "cell_type": "code",
   "execution_count": 2,
   "id": "04fdafe7",
   "metadata": {},
   "outputs": [
    {
     "name": "stdout",
     "output_type": "stream",
     "text": [
      "helloworld\n"
     ]
    }
   ],
   "source": [
    "a=\"hello\"\n",
    "b=\"world\"\n",
    "c=a+b\n",
    "print(c)"
   ]
  },
  {
   "cell_type": "code",
   "execution_count": 3,
   "id": "075b9689",
   "metadata": {},
   "outputs": [
    {
     "name": "stdout",
     "output_type": "stream",
     "text": [
      "hello world\n",
      "hello world\n",
      "hello world\n",
      "hello world\n",
      "hello world\n",
      "hello world\n",
      "\n"
     ]
    }
   ],
   "source": [
    "a=\"hello world\\n\"\n",
    "print(a*6)"
   ]
  },
  {
   "cell_type": "code",
   "execution_count": 5,
   "id": "1239fa92",
   "metadata": {},
   "outputs": [
    {
     "name": "stdout",
     "output_type": "stream",
     "text": [
      "enter a=1234\n",
      "<class 'str'>\n"
     ]
    }
   ],
   "source": [
    "a=input(\"enter a=\")\n",
    "print(type(a))"
   ]
  },
  {
   "cell_type": "code",
   "execution_count": 6,
   "id": "e96d4147",
   "metadata": {},
   "outputs": [
    {
     "name": "stdout",
     "output_type": "stream",
     "text": [
      "h\n"
     ]
    }
   ],
   "source": [
    "# string indexing\n",
    "a= \"hello world\"\n",
    "print(a[0])"
   ]
  },
  {
   "cell_type": "code",
   "execution_count": 8,
   "id": "400b8ab9",
   "metadata": {},
   "outputs": [
    {
     "name": "stdout",
     "output_type": "stream",
     "text": [
      "hello \n"
     ]
    }
   ],
   "source": [
    "# string slicing\n",
    "a= \"hello world\"\n",
    "print(a[0:5])"
   ]
  },
  {
   "cell_type": "code",
   "execution_count": 9,
   "id": "73643812",
   "metadata": {},
   "outputs": [
    {
     "name": "stdout",
     "output_type": "stream",
     "text": [
      " world\n"
     ]
    }
   ],
   "source": [
    "a= \"hello world\"\n",
    "print(a[5:])"
   ]
  },
  {
   "cell_type": "code",
   "execution_count": 10,
   "id": "a852eeec",
   "metadata": {},
   "outputs": [
    {
     "name": "stdout",
     "output_type": "stream",
     "text": [
      "hello world\n"
     ]
    }
   ],
   "source": [
    "a= \"hello world\"\n",
    "print(a[0:])"
   ]
  },
  {
   "cell_type": "code",
   "execution_count": 14,
   "id": "c0b354fc",
   "metadata": {},
   "outputs": [
    {
     "name": "stdout",
     "output_type": "stream",
     "text": [
      "hlwl\n"
     ]
    }
   ],
   "source": [
    "a= \"hello world\"\n",
    "print(a[0:10:3])"
   ]
  },
  {
   "cell_type": "code",
   "execution_count": 15,
   "id": "a417796d",
   "metadata": {},
   "outputs": [
    {
     "name": "stdout",
     "output_type": "stream",
     "text": [
      "hlwl\n"
     ]
    }
   ],
   "source": [
    "a= \"hello world\"\n",
    "print(a[::3])"
   ]
  },
  {
   "cell_type": "code",
   "execution_count": 16,
   "id": "d8546985",
   "metadata": {},
   "outputs": [
    {
     "name": "stdout",
     "output_type": "stream",
     "text": [
      "dlrow olleh\n"
     ]
    }
   ],
   "source": [
    "a= \"hello world\"\n",
    "print(a[::-1])"
   ]
  },
  {
   "cell_type": "code",
   "execution_count": 17,
   "id": "219f4a35",
   "metadata": {},
   "outputs": [
    {
     "name": "stdout",
     "output_type": "stream",
     "text": [
      "hello\n",
      " world\n"
     ]
    }
   ],
   "source": [
    "a= \"hello world\"\n",
    "x=a[:5]\n",
    "y=a[5:]\n",
    "print(x)\n",
    "print(y)"
   ]
  },
  {
   "cell_type": "code",
   "execution_count": 4,
   "id": "ef9a2bed",
   "metadata": {},
   "outputs": [
    {
     "data": {
      "text/plain": [
       "' hello world i am ram. i am 34'"
      ]
     },
     "execution_count": 4,
     "metadata": {},
     "output_type": "execute_result"
    }
   ],
   "source": [
    "# string formatting\n",
    "name=\"ram\"\n",
    "age=34\n",
    "#info=\" hello world i am\"+name+  \" i am \"+ str(age)\n",
    "info= f\" hello world i am {name}. i am {age}\"\n",
    "info"
   ]
  },
  {
   "cell_type": "code",
   "execution_count": 5,
   "id": "e30af090",
   "metadata": {},
   "outputs": [
    {
     "name": "stdout",
     "output_type": "stream",
     "text": [
      "enter n=2\n",
      "enter name=momo\n",
      "enter price=200\n",
      "enter quantity=2\n",
      "enter name=coke\n",
      "enter price=100\n",
      "enter quantity=2\n",
      "momo 200 2  400 \n",
      "coke 100 2  200 \n",
      "\n",
      "grand total= 600\n"
     ]
    }
   ],
   "source": [
    "# write a  program to create a billing system \n",
    "s=\"\"\n",
    "grand_total=0\n",
    "n= int(input(\"enter n=\"))\n",
    "for i in range(n):\n",
    "    name=input(\"enter name=\")\n",
    "    price=int(input(\"enter price=\"))\n",
    "    quantity=int(input(\"enter quantity=\"))\n",
    "    total= price*quantity\n",
    "    info= f\"{name} {price} {quantity}  {total} \\n\"\n",
    "    s=s+info\n",
    "    grand_total= grand_total+ total\n",
    "print(s)\n",
    "print(\"grand total=\", grand_total)"
   ]
  },
  {
   "cell_type": "code",
   "execution_count": 1,
   "id": "3b4f4e94",
   "metadata": {},
   "outputs": [
    {
     "name": "stdout",
     "output_type": "stream",
     "text": [
      "yes\n"
     ]
    }
   ],
   "source": [
    "name=\"gita sita pramod hari pasupati tank prakash usha  Ram\"\n",
    "if \"Ram\" in name:\n",
    "    print(\"yes\")\n",
    "else:\n",
    "    print(\"no\")"
   ]
  },
  {
   "cell_type": "code",
   "execution_count": 2,
   "id": "0630988e",
   "metadata": {},
   "outputs": [
    {
     "name": "stdout",
     "output_type": "stream",
     "text": [
      "enter name=Ram\n",
      "yes\n",
      "1\n"
     ]
    }
   ],
   "source": [
    "name=\"gita sita pramod hari pasupati tank prakash usha  Ram\"\n",
    "search=input(\"enter name=\")\n",
    "if search in name:\n",
    "    print(\"yes\")\n",
    "    c=name.count(search)\n",
    "    print(c)\n",
    "else:\n",
    "    print(\"no\")"
   ]
  },
  {
   "cell_type": "code",
   "execution_count": 3,
   "id": "bb4191dd",
   "metadata": {},
   "outputs": [
    {
     "name": "stdout",
     "output_type": "stream",
     "text": [
      "HELLO WORLD\n",
      "hello world\n"
     ]
    }
   ],
   "source": [
    "#case sensitivity{#upper\n",
    "#lower}\n",
    "a=\"hello world\"\n",
    "print(a.upper())\n",
    "print(a.lower())"
   ]
  },
  {
   "cell_type": "code",
   "execution_count": 4,
   "id": "e119b687",
   "metadata": {},
   "outputs": [
    {
     "name": "stdout",
     "output_type": "stream",
     "text": [
      "hello world i am python\n"
     ]
    },
    {
     "data": {
      "text/plain": [
       "'python'"
      ]
     },
     "execution_count": 4,
     "metadata": {},
     "output_type": "execute_result"
    }
   ],
   "source": [
    "a=\"hello world i am python\".lower()\n",
    "print(a)\n",
    "search=\"python\".lower()\n",
    "search"
   ]
  },
  {
   "cell_type": "code",
   "execution_count": 10,
   "id": "e6da0c41",
   "metadata": {},
   "outputs": [
    {
     "name": "stdout",
     "output_type": "stream",
     "text": [
      "enter name=ram\n",
      "yes\n",
      "1\n"
     ]
    }
   ],
   "source": [
    "name=\"gita sita pramod hari pasupati tank prakash usha ram\".lower()\n",
    "search=input(\"enter name=\").lower()\n",
    "if search in name:\n",
    "    print(\"yes\")\n",
    "    c=ABC.count(search)\n",
    "    print(c)\n",
    "else:\n",
    "    print(\"no\")"
   ]
  },
  {
   "cell_type": "code",
   "execution_count": 11,
   "id": "1286a14e",
   "metadata": {},
   "outputs": [
    {
     "data": {
      "text/plain": [
       "'gita sita pRamod hari pasupati tank prakash usha Ram'"
      ]
     },
     "execution_count": 11,
     "metadata": {},
     "output_type": "execute_result"
    }
   ],
   "source": [
    "#replaced\n",
    "name=\"gita sita pramod hari pasupati tank prakash usha ram\"\n",
    "name.replace('ram','Ram')"
   ]
  },
  {
   "cell_type": "code",
   "execution_count": null,
   "id": "03e9ac36",
   "metadata": {},
   "outputs": [],
   "source": [
    "# remove \n",
    "name=\"gita sita pramod hari pasupati tank prakash usha ram\"\n",
    "name.replace('ram','')"
   ]
  }
 ],
 "metadata": {
  "kernelspec": {
   "display_name": "Python 3 (ipykernel)",
   "language": "python",
   "name": "python3"
  },
  "language_info": {
   "codemirror_mode": {
    "name": "ipython",
    "version": 3
   },
   "file_extension": ".py",
   "mimetype": "text/x-python",
   "name": "python",
   "nbconvert_exporter": "python",
   "pygments_lexer": "ipython3",
   "version": "3.9.7"
  }
 },
 "nbformat": 4,
 "nbformat_minor": 5
}
