{
 "cells": [
  {
   "cell_type": "markdown",
   "id": "aa9d4ed3",
   "metadata": {},
   "source": [
    "# file handling"
   ]
  },
  {
   "cell_type": "code",
   "execution_count": null,
   "id": "0f9a11f8",
   "metadata": {},
   "outputs": [],
   "source": [
    "# file\n",
    "# file=open('<file_name>','<mode>')\n",
    "# file.close()\n",
    "\n",
    "# with open('<file_name>','<mode>')as file:\n",
    "#     <operation>"
   ]
  },
  {
   "cell_type": "code",
   "execution_count": null,
   "id": "6c927d82",
   "metadata": {
    "collapsed": true
   },
   "outputs": [],
   "source": [
    "# Mode\n",
    "#   -read->r\n",
    "#     -Write->w\n",
    "#     -append->a\n",
    "#    - create->x"
   ]
  },
  {
   "cell_type": "code",
   "execution_count": 4,
   "id": "3795a5f8",
   "metadata": {},
   "outputs": [
    {
     "name": "stdout",
     "output_type": "stream",
     "text": [
      "The file is already exit.\n"
     ]
    }
   ],
   "source": [
    "try: \n",
    "    file=open('data.txt','x')\n",
    "    file.close()\n",
    "except:\n",
    "    print(\"The file is already exit.\")"
   ]
  },
  {
   "cell_type": "code",
   "execution_count": 18,
   "id": "67bec36d",
   "metadata": {},
   "outputs": [
    {
     "name": "stdout",
     "output_type": "stream",
     "text": [
      "hello world i am python\n"
     ]
    }
   ],
   "source": [
    "file=open('data.txt','r')\n",
    "x=file.read()\n",
    "print(x)\n",
    "file.close()"
   ]
  },
  {
   "cell_type": "code",
   "execution_count": 13,
   "id": "073766af",
   "metadata": {},
   "outputs": [
    {
     "data": {
      "text/plain": [
       "['1.Hello world',\n",
       " '2.Hello world',\n",
       " '3.Hello world',\n",
       " '4.Hello world',\n",
       " '5.Hello world',\n",
       " '6.Hello world',\n",
       " '7.Hello world',\n",
       " '8.Hello world',\n",
       " '9.Hello world',\n",
       " '10.Hello world',\n",
       " '11.Hello world',\n",
       " '12.Hello world',\n",
       " '',\n",
       " '',\n",
       " '',\n",
       " '',\n",
       " '',\n",
       " '']"
      ]
     },
     "execution_count": 13,
     "metadata": {},
     "output_type": "execute_result"
    }
   ],
   "source": [
    "y=x.split('\\n')\n",
    "y"
   ]
  },
  {
   "cell_type": "code",
   "execution_count": 14,
   "id": "7a5b2eb6",
   "metadata": {},
   "outputs": [
    {
     "data": {
      "text/plain": [
       "'2.Hello world'"
      ]
     },
     "execution_count": 14,
     "metadata": {},
     "output_type": "execute_result"
    }
   ],
   "source": [
    "y[1]"
   ]
  },
  {
   "cell_type": "code",
   "execution_count": 17,
   "id": "0d8f71c5",
   "metadata": {},
   "outputs": [],
   "source": [
    "# write mode\n",
    "file=open('data1.txt', 'w')\n",
    "file.write('hello world i am python')\n",
    "file.close()"
   ]
  },
  {
   "cell_type": "code",
   "execution_count": 3,
   "id": "339b74bd",
   "metadata": {},
   "outputs": [
    {
     "name": "stdout",
     "output_type": "stream",
     "text": [
      "enter n=2\n",
      "enter name=momo\n",
      "enter price=100\n",
      "enter quantity=3\n",
      "enter name=coke\n",
      "enter price=20\n",
      "enter quantity=3\n",
      "momo 100 3 300\n",
      "coke 20 3 60\n",
      "\n"
     ]
    }
   ],
   "source": [
    "s=str()\n",
    "n=int(input(\"enter n=\"))\n",
    "for i in range(n):\n",
    "    name=input(\"enter name=\")\n",
    "    price=int(input(\"enter price=\"))\n",
    "    quantity=int(input(\"enter quantity=\"))\n",
    "    total=price*quantity\n",
    "    info=f\"{name} {price} {quantity} {total}\\n\"\n",
    "    s=s+info\n",
    "print(s)\n",
    "\n",
    "file=open('data1.txt', 'w')\n",
    "file.write(s)\n",
    "file.close()"
   ]
  },
  {
   "cell_type": "code",
   "execution_count": 4,
   "id": "9050faf2",
   "metadata": {},
   "outputs": [
    {
     "data": {
      "text/plain": [
       "'C:\\\\Users\\\\Meridian IT\\\\PythonClass'"
      ]
     },
     "execution_count": 4,
     "metadata": {},
     "output_type": "execute_result"
    }
   ],
   "source": [
    "pwd"
   ]
  },
  {
   "cell_type": "code",
   "execution_count": 9,
   "id": "92f33585",
   "metadata": {},
   "outputs": [
    {
     "name": "stdout",
     "output_type": "stream",
     "text": [
      "enter n=2\n",
      "enter name=apple\n",
      "enter price=200\n",
      "enter quantity=2\n",
      "enter name=banana\n",
      "enter price=100\n",
      "enter quantity=3\n",
      "apple,200,2,400\n",
      "banana,100,3,300\n",
      "\n"
     ]
    }
   ],
   "source": [
    "s=str()\n",
    "n=int(input(\"enter n=\"))\n",
    "for i in range(n):\n",
    "    name=input(\"enter name=\")\n",
    "    price=int(input(\"enter price=\"))\n",
    "    quantity=int(input(\"enter quantity=\"))\n",
    "    total=price*quantity\n",
    "    info=f\"{name},{price},{quantity},{total}\\n\"\n",
    "    s=s+info\n",
    "print(s)\n",
    "\n",
    "file=open('data1.csv', 'w')\n",
    "file.write('name,price,quantity,total\\n')\n",
    "file.write(s)\n",
    "file.close()"
   ]
  },
  {
   "cell_type": "code",
   "execution_count": 10,
   "id": "74018acc",
   "metadata": {},
   "outputs": [],
   "source": [
    "file=open('data1.csv', 'a')\n",
    "file.write('coke,200,2,400')\n",
    "file.close()"
   ]
  },
  {
   "cell_type": "code",
   "execution_count": null,
   "id": "cd7d3cd7",
   "metadata": {},
   "outputs": [],
   "source": [
    "file=open('data1.csv', 'w')\n",
    "file.write('name,price,quantity,total\\n')\n",
    "n=int(input(\"enter n=\"))\n",
    "for i in range(n):\n",
    "    name=input(\"enter name=\")\n",
    "    price=int(input(\"enter price=\"))\n",
    "    quantity=int(input(\"enter quantity=\"))\n",
    "    total=price*quantity\n",
    "    info=f\"{name},{price},{quantity},{total}\\n\"\n",
    "    file.write(info)\n",
    "file.close()"
   ]
  }
 ],
 "metadata": {
  "kernelspec": {
   "display_name": "Python 3 (ipykernel)",
   "language": "python",
   "name": "python3"
  },
  "language_info": {
   "codemirror_mode": {
    "name": "ipython",
    "version": 3
   },
   "file_extension": ".py",
   "mimetype": "text/x-python",
   "name": "python",
   "nbconvert_exporter": "python",
   "pygments_lexer": "ipython3",
   "version": "3.9.7"
  }
 },
 "nbformat": 4,
 "nbformat_minor": 5
}
