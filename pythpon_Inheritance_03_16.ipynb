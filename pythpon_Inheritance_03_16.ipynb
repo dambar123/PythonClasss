{
 "cells": [
  {
   "cell_type": "code",
   "execution_count": null,
   "id": "a8fa3761",
   "metadata": {},
   "outputs": [],
   "source": [
    "# class A:\n",
    "#     pass\n",
    "# class B(A):\n",
    "#     pass\n",
    "# obj=B()"
   ]
  },
  {
   "cell_type": "code",
   "execution_count": 2,
   "id": "69d736a2",
   "metadata": {},
   "outputs": [
    {
     "name": "stdout",
     "output_type": "stream",
     "text": [
      "enter name=dambar\n",
      "enter age=34\n",
      "enter add=dailekh\n",
      "Hello world i am dambar. I am fromdailekh. i am 34\n"
     ]
    }
   ],
   "source": [
    "class A:\n",
    "    def __init__(self):\n",
    "        self.name=input(\"enter name=\")\n",
    "        self.age=int(input(\"enter age=\"))\n",
    "        self.add= input(\"enter add=\")\n",
    "class B(A):\n",
    "    def info(self):\n",
    "        d=f\"Hello world i am {self.name}. I am from {self.add}. I am {self.age}.\"\n",
    "        print(d)\n",
    "obj=B()\n",
    "obj.info()"
   ]
  },
  {
   "cell_type": "code",
   "execution_count": 7,
   "id": "cdb4da85",
   "metadata": {},
   "outputs": [
    {
     "name": "stdout",
     "output_type": "stream",
     "text": [
      "enter name=dambar\n",
      "enter age=12\n",
      "enter add=dailekh\n",
      "Hello world i am dambar. I am from dailekh. I am 12.\n"
     ]
    }
   ],
   "source": [
    "class A:\n",
    "    def __init__(self,name,age,add):\n",
    "        self.name=name\n",
    "        self.age=age\n",
    "        self.add=add\n",
    "class B(A):\n",
    "    def info(self):\n",
    "        d=f\"Hello world i am {self.name}. I am from {self.add}. I am {self.age}.\"\n",
    "        print(d)\n",
    "name=input(\"enter name=\")\n",
    "age=int(input(\"enter age=\"))\n",
    "add=input(\"enter add=\")\n",
    "        \n",
    "obj=B(name,age,add)\n",
    "obj.info()"
   ]
  },
  {
   "cell_type": "code",
   "execution_count": 14,
   "id": "7306cd37",
   "metadata": {},
   "outputs": [
    {
     "name": "stdout",
     "output_type": "stream",
     "text": [
      "enter name=dambar\n",
      "enter age=23\n",
      "enter add=dailekh\n",
      "Hello world i am dambar. I am from dailekh. I am 23.\n"
     ]
    }
   ],
   "source": [
    "class A:\n",
    "    def __init__(self,add):\n",
    "        self.add=add\n",
    "class B(A):\n",
    "    def __init__(self,name,age,add):\n",
    "        self.name=name\n",
    "        self.age=age\n",
    "        A.__init__(self,add)\n",
    "    \n",
    "    def info(self):\n",
    "        d=f\"Hello world i am {self.name}. I am from {self.add}. I am {self.age}.\"\n",
    "        print(d)\n",
    "name=input(\"enter name=\")\n",
    "age=int(input(\"enter age=\"))\n",
    "add=input(\"enter add=\")\n",
    "        \n",
    "obj=B(name,age,add)\n",
    "obj.info()"
   ]
  },
  {
   "cell_type": "markdown",
   "id": "3bce9951",
   "metadata": {},
   "source": [
    "# multilevel inheritance"
   ]
  },
  {
   "cell_type": "code",
   "execution_count": null,
   "id": "c79569a9",
   "metadata": {},
   "outputs": [],
   "source": [
    "class A:\n",
    "    pass\n",
    "class B(A):\n",
    "    pass\n",
    "class C(B):\n",
    "    pass\n",
    "obj=C()"
   ]
  },
  {
   "cell_type": "markdown",
   "id": "0e7487fb",
   "metadata": {},
   "source": [
    "# multiple inheritance"
   ]
  },
  {
   "cell_type": "code",
   "execution_count": null,
   "id": "f250ca80",
   "metadata": {},
   "outputs": [],
   "source": [
    "class A:\n",
    "    pass\n",
    "class B:\n",
    "    pass\n",
    "class C(A,B):\n",
    "    pass\n",
    "   \n",
    "obj=C()\n",
    "    "
   ]
  },
  {
   "cell_type": "markdown",
   "id": "9f211ec5",
   "metadata": {},
   "source": [
    "# multilevel inheritance"
   ]
  },
  {
   "cell_type": "code",
   "execution_count": 19,
   "id": "a4779e75",
   "metadata": {},
   "outputs": [
    {
     "name": "stdout",
     "output_type": "stream",
     "text": [
      "enter name=dambar\n",
      "enter age=45\n",
      "enter add=dailekhj\n",
      "Hello world i am dambar. I am from dailekhj. I am 45.\n"
     ]
    }
   ],
   "source": [
    "class A:\n",
    "    def __init__(self,add):\n",
    "        self.add=add\n",
    "class B(A):\n",
    "    def __init__(self,add,age):\n",
    "        self.age=age\n",
    "        A.__init__(self,add)\n",
    "        \n",
    "class C(B):\n",
    "    def __init__(self,name,age,add):\n",
    "        self.name=name\n",
    "        B.__init__(self,add,age)\n",
    "    \n",
    "    def info(self):\n",
    "        d=f\"Hello world i am {self.name}. I am from {self.add}. I am {self.age}.\"\n",
    "        print(d)\n",
    "name=input(\"enter name=\")\n",
    "age=int(input(\"enter age=\"))\n",
    "add=input(\"enter add=\")\n",
    "        \n",
    "obj=C(name,age,add)\n",
    "obj.info()"
   ]
  },
  {
   "cell_type": "markdown",
   "id": "bcedeca6",
   "metadata": {},
   "source": [
    "# multiple inheritance"
   ]
  },
  {
   "cell_type": "code",
   "execution_count": 16,
   "id": "9cfbd28e",
   "metadata": {},
   "outputs": [
    {
     "name": "stdout",
     "output_type": "stream",
     "text": [
      "enter name=dambar\n",
      "enter age=34\n",
      "enter add=dailekh\n",
      "Hello world i am dambar. I am from dailekh. I am 34.\n"
     ]
    }
   ],
   "source": [
    "class A:\n",
    "    def __init__(self,add):\n",
    "        self.add=add\n",
    "class B():\n",
    "    def __init__(self,age):\n",
    "        self.age=age\n",
    "        \n",
    "class C(A,B):\n",
    "    def __init__(self,name,age,add):\n",
    "        self.name=name\n",
    "        B.__init__(self,age)\n",
    "        A.__init__(self,add)\n",
    "    \n",
    "    def info(self):\n",
    "        d=f\"Hello world i am {self.name}. I am from {self.add}. I am {self.age}.\"\n",
    "        print(d)\n",
    "name=input(\"enter name=\")\n",
    "age=int(input(\"enter age=\"))\n",
    "add=input(\"enter add=\")\n",
    "        \n",
    "obj=C(name,age,add)\n",
    "obj.info()"
   ]
  },
  {
   "cell_type": "code",
   "execution_count": null,
   "id": "b8f81619",
   "metadata": {},
   "outputs": [],
   "source": []
  }
 ],
 "metadata": {
  "kernelspec": {
   "display_name": "Python 3 (ipykernel)",
   "language": "python",
   "name": "python3"
  },
  "language_info": {
   "codemirror_mode": {
    "name": "ipython",
    "version": 3
   },
   "file_extension": ".py",
   "mimetype": "text/x-python",
   "name": "python",
   "nbconvert_exporter": "python",
   "pygments_lexer": "ipython3",
   "version": "3.9.7"
  }
 },
 "nbformat": 4,
 "nbformat_minor": 5
}
